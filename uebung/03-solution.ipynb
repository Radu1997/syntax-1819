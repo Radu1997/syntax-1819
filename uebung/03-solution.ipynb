{
 "cells": [
  {
   "cell_type": "markdown",
   "metadata": {},
   "source": [
    "***Vorlesung 'Syntax natürlicher Sprachen', WS 2018/19***\n",
    "\n",
    "---\n",
    "# Übung 3"
   ]
  },
  {
   "cell_type": "code",
   "execution_count": 3,
   "metadata": {},
   "outputs": [],
   "source": [
    "from exercises_3 import *\n",
    "from questions import aufgabe\n",
    "from nltk.tree import Tree"
   ]
  },
  {
   "cell_type": "markdown",
   "metadata": {},
   "source": [
    "---\n",
    "## Aufgabe 1: Wortarten\n",
    "\n",
    "#### Bestimmen Sie die Wortarten des folgenden Satzes. Geben Sie jeweils das entsprechende Tag aus dem Universal Dependency (http://universaldependencies.org/u/pos/) Tagset an.\n",
    "\n",
    "- *Sie gab ihm das neue Buch von Chomsky, aber er zeigte kein Interesse daran.*"
   ]
  },
  {
   "cell_type": "markdown",
   "metadata": {},
   "source": [
    "| Sie | gab | ihm | das | neue | Buch | von | Chomsky, | aber | er  | zeigte | kein | Interesse | daran\n",
    "| --- | --- | --- | --- | ---- | ---- | --- | -------- | ---- | --- | ------ | ---- | --------- | ------ |\n",
    "| PRON | VERB | PRON | DET | ADJ  | NOUN  | ADP | PROPN      | CCONJ  | PRON | VERB    | PRON/DET  | NOUN       | PRON/ADV   |"
   ]
  },
  {
   "cell_type": "markdown",
   "metadata": {},
   "source": [
    "#### Vergleichen Sie ihre Tabelle anschließend mit dem Output des Stanford-Parsers, dessen deutsches Modell auf einem Korpus mit STTS-Tiger-Tagset trainiert wurde (https://www.linguistik.hu-berlin.de/de/institut/professuren/korpuslinguistik/mitarbeiter-innen/hagen/STTS_Tagset_Tiger):"
   ]
  },
  {
   "cell_type": "code",
   "execution_count": 4,
   "metadata": {},
   "outputs": [],
   "source": [
    "from nltk.parse.stanford import StanfordParser, StanfordDependencyParser\n",
    "import os\n",
    "\n",
    "PATH_TO_CORE = os.getenv(\"HOME\") + \"/nltk_data/stanford-corenlp-full-2018-10-05\"\n",
    "PATH_TO_GER_MODEL = os.getenv(\"HOME\") + \"/nltk_data/stanford-models-2018-10-05\"\n",
    "\n",
    "jar = os.path.join(PATH_TO_CORE, \"stanford-corenlp-3.9.2.jar\")\n",
    "ger_model = os.path.join(PATH_TO_GER_MODEL, \"stanford-german-corenlp-2018-10-05-models.jar\")\n",
    "\n",
    "parser = StanfordParser(jar, ger_model, model_path=\"edu/stanford/nlp/models/lexparser/\" + \"germanPCFG.ser.gz\")"
   ]
  },
  {
   "cell_type": "code",
   "execution_count": 5,
   "metadata": {},
   "outputs": [
    {
     "name": "stdout",
     "output_type": "stream",
     "text": [
      "                                         ROOT                                                   \n",
      "                                          │                                                      \n",
      "                                          CS                                                    \n",
      "                 ┌────────────────────────┴─────┬───┬────────────────┬────────────────────────┐  \n",
      "                 S                              │   │                │                        │ \n",
      " ┌─────┬────┬────┴────────┐                     │   │                │                        │  \n",
      " │     │    │             NP                    │   │                S                        │ \n",
      " │     │    │    ┌───┬────┼─────────┐           │   │    ┌─────┬─────┴────┬──────────────┐    │  \n",
      " │     │    │    │   │    │         PP          │   │    │     │          NP             │    │ \n",
      " │     │    │    │   │    │    ┌────┴─────┐     │   │    │     │     ┌────┴──────┐       │    │  \n",
      "PPER VVFIN PPER ART ADJA  NN  APPR        NE    $, KON  PPER VVFIN  PIAT         NN    PROAV  $.\n",
      " │     │    │    │   │    │    │          │     │   │    │     │     │           │       │    │  \n",
      "Sie   gab  ihm  das neue Buch von      Chomsky  ,  aber  er  zeigte kein     Interesse daran  . \n",
      "\n"
     ]
    }
   ],
   "source": [
    "tree_list = list(parser.raw_parse('Sie gab ihm das neue Buch von Chomsky, aber er zeigte kein Interesse daran.'))\n",
    "tree_list[0].pretty_print(unicodelines=True)"
   ]
  },
  {
   "cell_type": "markdown",
   "metadata": {},
   "source": [
    "---\n",
    "## Aufgabe 2: Wortarten im Kontext\n",
    "\n",
    "#### Betrachten sie folgende Sätze:\n",
    "1. *Er spielt gerne Schach.*\n",
    "2. *Er spielt gut Schach.*\n"
   ]
  },
  {
   "cell_type": "markdown",
   "metadata": {},
   "source": [
    "---\n",
    "### Aufgabe 2 a:\n",
    "\n",
    "#### Diskutieren Sie, ob es sich bei dem Wort *gerne* in Satz 1 um ein Adverb oder ein Adjektiv handelt."
   ]
  },
  {
   "cell_type": "code",
   "execution_count": 6,
   "metadata": {},
   "outputs": [
    {
     "data": {
      "application/vnd.jupyter.widget-view+json": {
       "model_id": "c860c3e365984565b924f74757a28a60",
       "version_major": 2,
       "version_minor": 0
      },
      "text/plain": [
       "MultipleChoice(children=(HTML(value='<h4 style=\"font-size:14px;\">Welche Eigenschaften hat <i>gerne</i> in Satz…"
      ]
     },
     "metadata": {},
     "output_type": "display_data"
    },
    {
     "data": {
      "application/vnd.jupyter.widget-view+json": {
       "model_id": "958b6aecb41f4da7a0284eee989d10a6",
       "version_major": 2,
       "version_minor": 0
      },
      "text/plain": [
       "SingleChoice(children=(HTML(value='<h4 style=\"font-size:14px;\">Welche Wortart folgt damit für das Wort <i>gern…"
      ]
     },
     "metadata": {},
     "output_type": "display_data"
    }
   ],
   "source": [
    "aufgabe(blatt3_2a)"
   ]
  },
  {
   "cell_type": "markdown",
   "metadata": {},
   "source": [
    "---\n",
    "### Aufgabe 2 b:\n",
    "\n",
    "#### Um welche Wortart handelt es sich bei dem Lexem *gut* in Satz 2? Diskutieren Sie die Probleme, die hier bei der Wortartenbestimmung auftreten."
   ]
  },
  {
   "cell_type": "code",
   "execution_count": 7,
   "metadata": {},
   "outputs": [
    {
     "data": {
      "application/vnd.jupyter.widget-view+json": {
       "model_id": "6800f8aab6544b3d8cc68a72e70481f4",
       "version_major": 2,
       "version_minor": 0
      },
      "text/plain": [
       "MultipleChoice(children=(HTML(value='<h4 style=\"font-size:14px;\">Welche Eigenschaften hat <i>gut</i> in Satz 2…"
      ]
     },
     "metadata": {},
     "output_type": "display_data"
    },
    {
     "data": {
      "application/vnd.jupyter.widget-view+json": {
       "model_id": "cbf10e56bfce40c9b8e4e9e5347e71a8",
       "version_major": 2,
       "version_minor": 0
      },
      "text/plain": [
       "SingleChoice(children=(HTML(value='<h4 style=\"font-size:14px;\">Welche Wortart folgt damit für das Wort <i>gut<…"
      ]
     },
     "metadata": {},
     "output_type": "display_data"
    },
    {
     "data": {
      "application/vnd.jupyter.widget-view+json": {
       "model_id": "99393cf344394c9d8393b423c8482193",
       "version_major": 2,
       "version_minor": 0
      },
      "text/plain": [
       "SingleChoice(children=(HTML(value='<h4 style=\"font-size:14px;\">Welche Wortart könnte man für das Wort <i>gut<…"
      ]
     },
     "metadata": {},
     "output_type": "display_data"
    }
   ],
   "source": [
    "aufgabe(blatt3_2b)"
   ]
  },
  {
   "cell_type": "markdown",
   "metadata": {},
   "source": [
    "---\n",
    "## Aufgabe 3: Phrasenstruktur\n",
    "\n",
    "#### Geben Sie für den folgenden Satz einen Phrasenstrukturbaum an.\n",
    "\n",
    "- *Die Studierenden schenkten ihnen ein Buch von Chomsky.*\n",
    "\n",
    "#### Erinnern Sie sich, dass Sie mit der Klasse `Tree` aus dem NLTK auch per Hand Syntaxbäume erstellen können (siehe nächste Codezelle).\n",
    "#### Sie dürfen aber auch gerne Papier und Stift benutzen :-)"
   ]
  },
  {
   "cell_type": "code",
   "execution_count": 8,
   "metadata": {
    "scrolled": true
   },
   "outputs": [
    {
     "name": "stdout",
     "output_type": "stream",
     "text": [
      "                                 S                                    \n",
      "     ┌───────────────────────────┴────┐                                \n",
      "     │                                VP                              \n",
      "     │                   ┌───────┬────┴────────────┐                   \n",
      "     │                   │       │                 NP                 \n",
      "     │                   │       │        ┌────────┴────────┐          \n",
      "     NP                  │       NP       NP                PP        \n",
      " ┌───┴───────┐           │       │    ┌───┴───┐        ┌────┴─────┐    \n",
      "ART          N           V      PRON ART      N       PREP      PROPN \n",
      " │           │           │       │    │       │        │          │    \n",
      "Die     Studierenden schenkten ihnen ein     Buch     von      Chomsky\n",
      "\n"
     ]
    }
   ],
   "source": [
    "np1 = Tree(\n",
    "    'NP',\n",
    "    [Tree('ART', ['Die']), Tree('N', ['Studierenden'])]\n",
    ")\n",
    "np2 = Tree(\n",
    "    'NP',\n",
    "    [Tree('PRON', ['ihnen'])]\n",
    ")\n",
    "np3_core = Tree(\n",
    "    'NP',\n",
    "    [Tree('ART', ['ein']), Tree('N', ['Buch'])]\n",
    ")\n",
    "pp = Tree(\n",
    "    'PP',\n",
    "    [Tree('PREP', ['von']), Tree('PROPN', ['Chomsky'])]\n",
    ")\n",
    "np3 = Tree(\n",
    "    'NP',\n",
    "    [np3_core, pp]\n",
    ")\n",
    "vp = Tree(\n",
    "    'VP',\n",
    "    [Tree('V', ['schenkten']), np2, np3]\n",
    ")\n",
    "s = Tree(\n",
    "    'S',\n",
    "    [np1, vp]\n",
    ")\n",
    "\n",
    "s.pretty_print(unicodelines=True)"
   ]
  },
  {
   "cell_type": "markdown",
   "metadata": {},
   "source": [
    "#### Vergleichen Sie Ihren Syntaxbaum anschließend mit dem Output des Stanford-Parsers (Syntaxmodell trainiert auf TIGER/NEGRA-Korpus)."
   ]
  },
  {
   "cell_type": "code",
   "execution_count": 9,
   "metadata": {},
   "outputs": [
    {
     "name": "stdout",
     "output_type": "stream",
     "text": [
      "                                     ROOT                          \n",
      "                                      │                             \n",
      "                                      S                            \n",
      "     ┌───────────────────┬───────┬────┴────┬─────────────────────┐  \n",
      "     │                   │       │         NP                    │ \n",
      "     │                   │       │    ┌────┼─────────┐           │  \n",
      "     NP                  │       │    │    │         PP          │ \n",
      " ┌───┴───────┐           │       │    │    │    ┌────┴─────┐     │  \n",
      "ART          NN        VVFIN    PPER ART   NN  APPR        NE    $.\n",
      " │           │           │       │    │    │    │          │     │  \n",
      "Die     Studierenden schenkten ihnen ein  Buch von      Chomsky  . \n",
      "\n"
     ]
    }
   ],
   "source": [
    "tree_list = list(parser.raw_parse('Die Studierenden schenkten ihnen ein Buch von Chomsky.'))\n",
    "tree_list[0].pretty_print(unicodelines=True)"
   ]
  },
  {
   "cell_type": "markdown",
   "metadata": {},
   "source": [
    "---\n",
    "## Aufgabe 4: Konstituententests"
   ]
  },
  {
   "cell_type": "markdown",
   "metadata": {},
   "source": [
    "#### Füllen Sie folgende Tabelle aus, indem Sie den jeweils angegebenen Konstituententest am folgenden Satz ausführen.\n",
    "\n",
    "- *Die Studierenden schenkten ihnen ein Buch über Fußball.*\n",
    "\n",
    "| Wortgruppe | Substitutionstest | Eliminierungstest | Permutationstest | Konstituente?\n",
    "| ---------- | ----------------- | ----------------- | ---------------- | ------------- |\n",
    "| Die Studierenden | 1✓ | 2 | 3✓ | ja |\n",
    "| ihnen ein | 4✓ | 5 | 6 | nein |\n",
    "| Buch über Fußball | 7✓ | 8(?) | 9 | nein |\n",
    "| über Fußball | 10✓ | 11✓ | 12(?) | ja |"
   ]
  },
  {
   "cell_type": "markdown",
   "metadata": {},
   "source": [
    "1. Sie schenkten ihnen ein Buch über Fußball. \n",
    "2. \\* Schenkten ihnen ein Buch über Fußball.\n",
    "3. Ein Buch über Fußball schenkten ihnen die Studierenden.\n",
    "4. Die Studierenden schenkten das Buch über Fußball.\n",
    "5. \\* Die Studierenden schenkten Buch über Fußball.\n",
    "6. \\* Ihnen ein die Studierenden schenkten Buch über Fußball.\n",
    "7. Die Studierenden schenkten ihnen ein Auto. \n",
    "8. ?? Die Studierenden schenkten ihnen ein.\n",
    "9. \\* Buch über Fußball schenkten ihnen die Studierenden ein.\n",
    "10. Die Studierenden schenkten ihnen ein Buch darüber.\n",
    "11. Die Studierenden schenkten ihnen ein Buch.\n",
    "12. ?? Die Studierenden schenkten ihnen über Fußball ein Buch."
   ]
  },
  {
   "cell_type": "markdown",
   "metadata": {},
   "source": [
    "---\n",
    "## Aufgabe 5: Phrasen und Konstituenten"
   ]
  },
  {
   "cell_type": "markdown",
   "metadata": {},
   "source": [
    "#### Erläutern Sie am Beispiel des Wortes *Verloren* im folgenden Satz den Unterschied zwischen Konstituente und Phrase.\n",
    "\n",
    "- *Verloren hat er seinen Schlüsselbund zwar noch nie, aber oft genug verlegt.*"
   ]
  },
  {
   "cell_type": "code",
   "execution_count": 10,
   "metadata": {
    "scrolled": true
   },
   "outputs": [
    {
     "data": {
      "application/vnd.jupyter.widget-view+json": {
       "model_id": "b852fcdae06840ac81ab730bbd303279",
       "version_major": 2,
       "version_minor": 0
      },
      "text/plain": [
       "Lueckentext(children=(HTML(value='<i>Vervollständigen Sie den Lückentext: </i>', layout=Layout(justify_content…"
      ]
     },
     "metadata": {},
     "output_type": "display_data"
    }
   ],
   "source": [
    "aufgabe(blatt3_5)"
   ]
  },
  {
   "cell_type": "markdown",
   "metadata": {},
   "source": [
    "--- \n",
    "# Hausaufgaben"
   ]
  },
  {
   "cell_type": "markdown",
   "metadata": {},
   "source": [
    "---\n",
    "## Aufgabe 6: Phrasenstruktur\n",
    "\n",
    "\n",
    "#### Zerlegen Sie den folgenden Satz in seine Konstituenten. Stellen Sie die Konstituentenstruktur mit einem Kastendiagramm dar und erstellen Sie dann mit NLTK den entsprechenden Syntaxbaum.\n",
    "\n",
    "- *Die Kunst des Ausruhens ist ein Teil der Kunst des Arbeitens.*"
   ]
  },
  {
   "cell_type": "markdown",
   "metadata": {},
   "source": [
    "\n",
    "| Die | Kunst | des | Ausruhens | ist | ein | Teil | der | Kunst | des  | Arbeitens |\n",
    "\n",
    "| Die  Kunst | des Ausruhens | ist | ein Teil | der Kunst | des Arbeitens |\n",
    "\n",
    "| Die Kunst des Ausruhens | ist | ein Teil | der Kunst des Arbeitens |\n",
    "\n",
    "| Die Kunst des Ausruhens | ist | ein Teil der Kunst des Arbeitens |\n",
    "\n",
    "| Die Kunst des Ausruhens | ist ein Teil der Kunst des Arbeitens |\n"
   ]
  },
  {
   "cell_type": "code",
   "execution_count": 11,
   "metadata": {},
   "outputs": [
    {
     "name": "stdout",
     "output_type": "stream",
     "text": [
      "                              S                                                         \n",
      "               ┌──────────────┴──────────┐                                               \n",
      "               │                         VP                                             \n",
      "               │                     ┌───┴────────────┐                                  \n",
      "               │                     │                NP                                \n",
      "               │                     │       ┌────────┴─────────────┐                    \n",
      "               NP                    │       │                      NP                  \n",
      "     ┌─────────┴───────┐             │       │            ┌─────────┴───────┐            \n",
      "     NP                NP            │       NP           NP                NP          \n",
      " ┌───┴────┐        ┌───┴──────┐      │   ┌───┴───┐    ┌───┴────┐        ┌───┴──────┐     \n",
      "ART       N       ART         N      V  ART      N   ART       N       ART         N    \n",
      " │        │        │          │      │   │       │    │        │        │          │     \n",
      "Die     Kunst     des     Ausruhens ist ein     Teil der     Kunst     des     Arbeitens\n",
      "\n"
     ]
    }
   ],
   "source": [
    "np1_core = Tree(\n",
    "    'NP',\n",
    "    [Tree('ART', ['Die']), Tree('N', ['Kunst'])]\n",
    ")\n",
    "np1_attr = Tree(\n",
    "    'NP',\n",
    "    [Tree('ART', ['des']), Tree('N', ['Ausruhens'])]\n",
    ")\n",
    "np1 = Tree(\n",
    "    'NP',\n",
    "    [np1_core, np1_attr]\n",
    ")\n",
    "np2_core = Tree(\n",
    "    'NP',\n",
    "    [Tree('ART', ['ein']), Tree('N', ['Teil'])]\n",
    ")\n",
    "np2_attr_core = Tree(\n",
    "    'NP',\n",
    "    [Tree('ART', ['der']), Tree('N', ['Kunst'])]\n",
    ")\n",
    "\n",
    "np2_attr_attr = Tree(\n",
    "    'NP',\n",
    "    [Tree('ART', ['des']), Tree('N', ['Arbeitens'])]\n",
    ")\n",
    "np2_attr = Tree(\n",
    "    'NP',\n",
    "    [np2_attr_core, np2_attr_attr]\n",
    ")\n",
    "\n",
    "np2 = Tree(\n",
    "    'NP',\n",
    "    [np2_core, np2_attr]\n",
    ")\n",
    "vp = Tree(\n",
    "    'VP',\n",
    "    [Tree('V', ['ist']), np2]\n",
    ")\n",
    "s = Tree(\n",
    "    'S',\n",
    "    [np1, vp]\n",
    ")\n",
    "\n",
    "s.pretty_print(unicodelines=True)"
   ]
  },
  {
   "cell_type": "markdown",
   "metadata": {},
   "source": [
    "---\n",
    "## Aufgabe 7: Konstituententests"
   ]
  },
  {
   "cell_type": "markdown",
   "metadata": {},
   "source": [
    "#### Zeigen Sie mit dem Substitutionstest, dass es sich in folgendem Satz bei der Wortverbingung *nur mit einem Schritt* um eine Konstituente handelt.\n",
    "\n",
    "- Eine Reise von tausend Meilen beginnt auch nur mit einem Schritt.\n",
    "\n",
    "#### Beantworten Sie anschließend die folgenden Fragen!"
   ]
  },
  {
   "cell_type": "markdown",
   "metadata": {},
   "source": [
    "Substitutionstest: *Hier fehlt Ihre Lösung*"
   ]
  },
  {
   "cell_type": "code",
   "execution_count": 12,
   "metadata": {},
   "outputs": [],
   "source": [
    "#LÖSUNG: Eine Reise von tausend Meilen beginnt auch so."
   ]
  },
  {
   "cell_type": "code",
   "execution_count": 13,
   "metadata": {},
   "outputs": [
    {
     "data": {
      "application/vnd.jupyter.widget-view+json": {
       "model_id": "376deeb81cdc407fab2ea984afd8e964",
       "version_major": 2,
       "version_minor": 0
      },
      "text/plain": [
       "MultipleChoice(children=(HTML(value='<h4 style=\"font-size:14px;\">Welcher ist der richtig permutierte Satz?</h4…"
      ]
     },
     "metadata": {},
     "output_type": "display_data"
    },
    {
     "data": {
      "application/vnd.jupyter.widget-view+json": {
       "model_id": "f0fbd321d42549fabee2bc73f8f40008",
       "version_major": 2,
       "version_minor": 0
      },
      "text/plain": [
       "MultipleChoice(children=(HTML(value='<h4 style=\"font-size:14px;\"><i>Eine Reise beginnt auch nur mit einem Schr…"
      ]
     },
     "metadata": {},
     "output_type": "display_data"
    }
   ],
   "source": [
    "aufgabe(blatt3_7)"
   ]
  },
  {
   "cell_type": "markdown",
   "metadata": {},
   "source": [
    "---\n",
    "## Aufgabe 8: Fragen zu NLTK-Kapitel 5"
   ]
  },
  {
   "cell_type": "markdown",
   "metadata": {},
   "source": [
    "#### Lesen Sie das Vorwort von NLTK-Kapitel 5 (’Categorizing and Tagging Words’) sowie die Teilkapitel 5.1, 5.2 und 5.7: http://www.nltk.org/book/ch05.html.\n",
    "\n",
    "#### Beantworten Sie insbesondere folgende Fragen:"
   ]
  },
  {
   "cell_type": "markdown",
   "metadata": {},
   "source": [
    "---\n",
    "### Aufgabe 8 a:"
   ]
  },
  {
   "cell_type": "code",
   "execution_count": 14,
   "metadata": {},
   "outputs": [
    {
     "data": {
      "application/vnd.jupyter.widget-view+json": {
       "model_id": "c29d795efd2e4e2d8fdd00fe4ae32375",
       "version_major": 2,
       "version_minor": 0
      },
      "text/plain": [
       "SingleChoice(children=(HTML(value='<h4 style=\"font-size:14px;\">Was ist der Input eines Part-of-Speech-Taggers?…"
      ]
     },
     "metadata": {},
     "output_type": "display_data"
    },
    {
     "data": {
      "application/vnd.jupyter.widget-view+json": {
       "model_id": "7780e7f0dbe945d3bb8e376f82955507",
       "version_major": 2,
       "version_minor": 0
      },
      "text/plain": [
       "SingleChoice(children=(HTML(value='<h4 style=\"font-size:14px;\">Was ist der Output eines Part-of-Speech-Taggers…"
      ]
     },
     "metadata": {},
     "output_type": "display_data"
    },
    {
     "data": {
      "application/vnd.jupyter.widget-view+json": {
       "model_id": "63bc857b75784b65a54ceb3e5b93c5f9",
       "version_major": 2,
       "version_minor": 0
      },
      "text/plain": [
       "OpenTextfield(children=(HTML(value='<h4 style=\"font-size:14px;\">Wie wirt der POS-Tagger im NLTK aufgerufen?</h…"
      ]
     },
     "metadata": {},
     "output_type": "display_data"
    }
   ],
   "source": [
    "aufgabe(blatt3_8a)"
   ]
  },
  {
   "cell_type": "markdown",
   "metadata": {},
   "source": [
    "---\n",
    "### Aufgabe 8 b:\n",
    "\n",
    "#### Sehen Sie sich folgenden Codeblock und dessen Output an (s. auch NLTK 5.1):"
   ]
  },
  {
   "cell_type": "code",
   "execution_count": 15,
   "metadata": {},
   "outputs": [
    {
     "name": "stdout",
     "output_type": "stream",
     "text": [
      "the his this that their one any no her its in our my some your each it\n",
      "all another of\n",
      "\n",
      "\n",
      "good much simple one new little white young sure beautiful that is\n",
      "time quiet certain great small proud bad thin\n",
      "\n",
      "\n",
      "time way day year man state work world moment country house group case\n",
      "room war church area job point car\n"
     ]
    }
   ],
   "source": [
    "import nltk\n",
    "text = nltk.Text(word.lower() for word in nltk.corpus.brown.words())\n",
    "\n",
    "text.similar('a')\n",
    "print('\\n')\n",
    "text.similar('nice')\n",
    "print('\\n')\n",
    "text.similar('book')"
   ]
  },
  {
   "cell_type": "code",
   "execution_count": 16,
   "metadata": {},
   "outputs": [
    {
     "data": {
      "application/vnd.jupyter.widget-view+json": {
       "model_id": "b4dcc6165887430b8989feb637315857",
       "version_major": 2,
       "version_minor": 0
      },
      "text/plain": [
       "MultipleChoice(children=(HTML(value='<h4 style=\"font-size:14px;\">Was leistet die Funktion <code>nltk.similar()…"
      ]
     },
     "metadata": {},
     "output_type": "display_data"
    }
   ],
   "source": [
    "aufgabe(blatt3_8b)"
   ]
  },
  {
   "cell_type": "markdown",
   "metadata": {},
   "source": [
    "---\n",
    "### Aufgabe 8 c:\n",
    "\n",
    "#### Erklären Sie, wie im zweiten der folgenden Codeblocks (NLTK 5.2.3/4) syntaktische Muster festgestellt werden. \n",
    "\n",
    "#### Füllen Sie mit diesem Wissen den Lückentext."
   ]
  },
  {
   "cell_type": "code",
   "execution_count": 17,
   "metadata": {},
   "outputs": [
    {
     "name": "stdout",
     "output_type": "stream",
     "text": [
      "(('The', 'DET'), ('Fulton', 'NOUN'))\n",
      "(('Fulton', 'NOUN'), ('County', 'NOUN'))\n",
      "(('County', 'NOUN'), ('Grand', 'ADJ'))\n"
     ]
    }
   ],
   "source": [
    "from nltk.corpus import brown\n",
    "brown_news_tagged = brown.tagged_words(categories='news', tagset='universal')\n",
    "word_tag_pairs = nltk.bigrams(brown_news_tagged)\n",
    "word_tag_pairs_list = list(word_tag_pairs)\n",
    "print(word_tag_pairs_list[0])\n",
    "print(word_tag_pairs_list[1])\n",
    "print(word_tag_pairs_list[2])"
   ]
  },
  {
   "cell_type": "code",
   "execution_count": 18,
   "metadata": {},
   "outputs": [
    {
     "data": {
      "text/plain": [
       "['NOUN',\n",
       " 'DET',\n",
       " 'ADJ',\n",
       " 'ADP',\n",
       " '.',\n",
       " 'VERB',\n",
       " 'CONJ',\n",
       " 'NUM',\n",
       " 'ADV',\n",
       " 'PRT',\n",
       " 'PRON',\n",
       " 'X']"
      ]
     },
     "execution_count": 18,
     "metadata": {},
     "output_type": "execute_result"
    }
   ],
   "source": [
    "word_tag_pairs = nltk.bigrams(brown_news_tagged)\n",
    "noun_preceders = [a[1] for (a, b) in word_tag_pairs if b[1] == 'NOUN']\n",
    "fdist = nltk.FreqDist(noun_preceders)\n",
    "[tag for (tag, _) in fdist.most_common()]"
   ]
  },
  {
   "cell_type": "code",
   "execution_count": 19,
   "metadata": {},
   "outputs": [
    {
     "data": {
      "application/vnd.jupyter.widget-view+json": {
       "model_id": "72e35d203fcc411686d45efe3410039a",
       "version_major": 2,
       "version_minor": 0
      },
      "text/plain": [
       "Lueckentext(children=(HTML(value='<i>Vervollständigen Sie den Lückentext: </i>', layout=Layout(justify_content…"
      ]
     },
     "metadata": {},
     "output_type": "display_data"
    }
   ],
   "source": [
    "aufgabe(blatt3_8c)"
   ]
  },
  {
   "cell_type": "markdown",
   "metadata": {},
   "source": [
    "---\n",
    "### Aufgabe 8 d:"
   ]
  },
  {
   "cell_type": "code",
   "execution_count": 20,
   "metadata": {},
   "outputs": [
    {
     "data": {
      "application/vnd.jupyter.widget-view+json": {
       "model_id": "78fb7ef10da94f17885884d422529f91",
       "version_major": 2,
       "version_minor": 0
      },
      "text/plain": [
       "MultipleChoice(children=(HTML(value='<h4 style=\"font-size:14px;\">Was sind morphologische Kriterien für Wortkat…"
      ]
     },
     "metadata": {},
     "output_type": "display_data"
    },
    {
     "data": {
      "application/vnd.jupyter.widget-view+json": {
       "model_id": "e4ebd8bc001d4dd293fedb5b7ec91ac0",
       "version_major": 2,
       "version_minor": 0
      },
      "text/plain": [
       "MultipleChoice(children=(HTML(value='<h4 style=\"font-size:14px;\">Was sind syntaktische Kriterien für Wortkateg…"
      ]
     },
     "metadata": {},
     "output_type": "display_data"
    },
    {
     "data": {
      "application/vnd.jupyter.widget-view+json": {
       "model_id": "b28f46c995764680b1fe1dd180f097c5",
       "version_major": 2,
       "version_minor": 0
      },
      "text/plain": [
       "SingleChoice(children=(HTML(value='<h4 style=\"font-size:14px;\">Was bedeutet das Tag <i>VB</i> im Browntagset (…"
      ]
     },
     "metadata": {},
     "output_type": "display_data"
    },
    {
     "data": {
      "application/vnd.jupyter.widget-view+json": {
       "model_id": "fe39d1664d9d4700bad9252abc1abda5",
       "version_major": 2,
       "version_minor": 0
      },
      "text/plain": [
       "SingleChoice(children=(HTML(value='<h4 style=\"font-size:14px;\">Was bedeutet das Tag <i>VBZ</i> im Browntagset …"
      ]
     },
     "metadata": {},
     "output_type": "display_data"
    },
    {
     "data": {
      "application/vnd.jupyter.widget-view+json": {
       "model_id": "1416cbf5404541f3bd8af1ef0a82f644",
       "version_major": 2,
       "version_minor": 0
      },
      "text/plain": [
       "SingleChoice(children=(HTML(value='<h4 style=\"font-size:14px;\">Was bedeutet das Tag <i>VBN</i> im Browntagset …"
      ]
     },
     "metadata": {},
     "output_type": "display_data"
    },
    {
     "data": {
      "application/vnd.jupyter.widget-view+json": {
       "model_id": "2b23be1acaa74265bb309d32d5bba1fc",
       "version_major": 2,
       "version_minor": 0
      },
      "text/plain": [
       "SingleChoice(children=(HTML(value='<h4 style=\"font-size:14px;\">Was bedeutet das Tag <i>VBG</i> im Browntagset …"
      ]
     },
     "metadata": {},
     "output_type": "display_data"
    },
    {
     "data": {
      "application/vnd.jupyter.widget-view+json": {
       "model_id": "20423e360f584f0aa4a2485037ebff61",
       "version_major": 2,
       "version_minor": 0
      },
      "text/plain": [
       "SingleChoice(children=(HTML(value='<h4 style=\"font-size:14px;\">Was bedeutet das Tag <i>VBD</i> im Browntagset …"
      ]
     },
     "metadata": {},
     "output_type": "display_data"
    }
   ],
   "source": [
    "aufgabe(blatt3_8d)"
   ]
  },
  {
   "cell_type": "markdown",
   "metadata": {},
   "source": [
    "---\n",
    "## Aufgabe 9: Fragen zu NLTK-Kapitel 8.2"
   ]
  },
  {
   "cell_type": "markdown",
   "metadata": {},
   "source": [
    "#### Lesen Sie das NLTK-Teilkapitel 8.2 (’What’s the Use of Syntax?’): http://www.nltk.org/book/ch08.html.\n",
    "\n",
    "#### Beantworten Sie insbesondere folgende Fragen:"
   ]
  },
  {
   "cell_type": "markdown",
   "metadata": {},
   "source": [
    "---\n",
    "### Aufgabe 9 a:\n",
    "\n",
    "#### Durch welches Prinzip lassen sich Konstituenten nachweisen?"
   ]
  },
  {
   "cell_type": "code",
   "execution_count": 26,
   "metadata": {},
   "outputs": [
    {
     "data": {
      "application/vnd.jupyter.widget-view+json": {
       "model_id": "0b075a74ca4346039be2dddc80c7cd40",
       "version_major": 2,
       "version_minor": 0
      },
      "text/plain": [
       "Lueckentext(children=(HTML(value='<i>Vervollständigen Sie den Lückentext: </i>', layout=Layout(justify_content…"
      ]
     },
     "metadata": {},
     "output_type": "display_data"
    }
   ],
   "source": [
    "aufgabe(blatt3_9a)"
   ]
  },
  {
   "cell_type": "markdown",
   "metadata": {},
   "source": [
    "---\n",
    "### Aufgabe 9 b:\n",
    "\n",
    "#### Führen Sie (incl. lexikalischer und phrasaler Labels) eine Ersetzung (oder Pronominalisierung oder Eliminierung) in folgendem Satz durch, bis sie bei einem 2-Wort-Satz ankommen:\n",
    "\n",
    "- Fischers Fritz fischt die frischen Fische aus dem Fluss."
   ]
  },
  {
   "cell_type": "markdown",
   "metadata": {},
   "source": [
    "Fischers (N) Fritz (N) fischt (V) die (ART) frischen (ADJ) Fische (N) aus (PREP) dem (ART) Fluss (N)\n",
    "\n",
    "Er (NP) fischt (V) die (ART) frischen (ADJ) Fische (N) aus (PREP) ihm (NP)\n",
    "\n",
    "Er (NP) fischt (V) sie (NP) aus (PREP) ihm (NP)\n",
    "\n",
    "Er (NP) fischt (V) sie (NP) dort(PP)\n",
    "\n",
    "Er (NP) fischt (VP) dort(PP)\n",
    "\n",
    "Er (NP) fischt (VP)"
   ]
  },
  {
   "cell_type": "markdown",
   "metadata": {},
   "source": [
    "---\n",
    "### Aufgabe 9 c:\n",
    "\n",
    "#### Welche Einschränkung gibt es bei der Koordinierung von Phrasen?"
   ]
  },
  {
   "cell_type": "code",
   "execution_count": 28,
   "metadata": {},
   "outputs": [
    {
     "data": {
      "application/vnd.jupyter.widget-view+json": {
       "model_id": "c568ca512ffa45fd89763630c1825a61",
       "version_major": 2,
       "version_minor": 0
      },
      "text/plain": [
       "Lueckentext(children=(HTML(value='<i>Vervollständigen Sie den Lückentext: </i>', layout=Layout(justify_content…"
      ]
     },
     "metadata": {},
     "output_type": "display_data"
    }
   ],
   "source": [
    "aufgabe(blatt3_9c)"
   ]
  }
 ],
 "metadata": {
  "kernelspec": {
   "display_name": "Python 3",
   "language": "python",
   "name": "python3"
  },
  "language_info": {
   "codemirror_mode": {
    "name": "ipython",
    "version": 3
   },
   "file_extension": ".py",
   "mimetype": "text/x-python",
   "name": "python",
   "nbconvert_exporter": "python",
   "pygments_lexer": "ipython3",
   "version": "3.6.1"
  },
  "widgets": {
   "application/vnd.jupyter.widget-state+json": {
    "state": {
     "001549802c97480087dabe248994b6ba": {
      "model_module": "@jupyter-widgets/controls",
      "model_module_version": "1.2.0",
      "model_name": "DescriptionStyleModel",
      "state": {
       "description_width": ""
      }
     },
     "008b0160b7074df4b514e2f006223707": {
      "model_module": "@jupyter-widgets/controls",
      "model_module_version": "1.2.0",
      "model_name": "DescriptionStyleModel",
      "state": {
       "description_width": ""
      }
     },
     "00eb1f875a7444f88ef4db5034ca077a": {
      "model_module": "@jupyter-widgets/controls",
      "model_module_version": "1.2.0",
      "model_name": "DropdownModel",
      "state": {
       "_options_labels": [
        " ",
        "NP",
        "PP",
        "VP",
        " "
       ],
       "index": 3,
       "layout": "IPY_MODEL_27eb55821c5e4415aa31d509e02b645f",
       "style": "IPY_MODEL_cde4ec3ccecc4f258e8fce469ed161b3"
      }
     },
     "01f8d56a6bc449be89a12becb505a25c": {
      "model_module": "@jupyter-widgets/controls",
      "model_module_version": "1.2.0",
      "model_name": "HTMLModel",
      "state": {
       "layout": "IPY_MODEL_f49046b8dbf84d8a9c15209b848a4f5b",
       "style": "IPY_MODEL_e25f23287e1d4c808e61a50d93e02ba1",
       "value": "<i>Wählen Sie die <ins>eine</ins> korrekte Antwort aus: </i>"
      }
     },
     "021e657f9e754da993fbecf95c7290c9": {
      "model_module": "@jupyter-widgets/base",
      "model_module_version": "1.0.0",
      "model_name": "LayoutModel",
      "state": {}
     },
     "022a379fc4ef4cffb85b4e8f544954df": {
      "model_module": "@jupyter-widgets/controls",
      "model_module_version": "1.2.0",
      "model_name": "HTMLModel",
      "state": {
       "layout": "IPY_MODEL_b941bcfbcd204bed92f8ccd72664788d",
       "style": "IPY_MODEL_853963101fdd488699b4604969820a50",
       "value": "<h4 style=\"font-size:14px;\">Was bedeutet das Tag <i>VBG</i> im Browntagset (siehe 5.7)?</h4>"
      }
     },
     "02400887e20647dab987794fadc2b62a": {
      "model_module": "@jupyter-widgets/base",
      "model_module_version": "1.0.0",
      "model_name": "LayoutModel",
      "state": {}
     },
     "0306865b05504f4698f89da0b39e474d": {
      "model_module": "@jupyter-widgets/controls",
      "model_module_version": "1.2.0",
      "model_name": "CheckboxModel",
      "state": {
       "description": "Es ist flektierbar.",
       "disabled": false,
       "layout": "IPY_MODEL_e974faff44954b89b7176bb89d80770c",
       "style": "IPY_MODEL_512324c6870d4ac88e9b90c58e507402",
       "value": true
      }
     },
     "031b6e6ee21f4013a5bd6a035e3f2d23": {
      "model_module": "@jupyter-widgets/controls",
      "model_module_version": "1.2.0",
      "model_name": "ButtonModel",
      "state": {
       "description": "gerund",
       "layout": "IPY_MODEL_48c75e6de8894e0790948507706a1152",
       "style": "IPY_MODEL_5a28df807adf41f0bca425b6372b1318"
      }
     },
     "037c3be53a804e12a0ca64de8e03f000": {
      "model_module": "@jupyter-widgets/base",
      "model_module_version": "1.0.0",
      "model_name": "LayoutModel",
      "state": {
       "justify_content": "center"
      }
     },
     "038384a4cc1a4221ad28a9e840d546d6": {
      "model_module": "@jupyter-widgets/base",
      "model_module_version": "1.0.0",
      "model_name": "LayoutModel",
      "state": {
       "justify_content": "center"
      }
     },
     "03a34ff8eafc49eeb98ee086bb175e3c": {
      "model_module": "@jupyter-widgets/controls",
      "model_module_version": "1.2.0",
      "model_name": "HTMLModel",
      "state": {
       "layout": "IPY_MODEL_761c11aeb347486f9c84b275c9d9d066",
       "style": "IPY_MODEL_541ed9aceb2e47bbae70776a3645960c",
       "value": "<i>Vervollständigen Sie den Lückentext: </i>"
      }
     },
     "03deabd576c2416593ae7344fc1226c7": {
      "model_module": "@jupyter-widgets/controls",
      "model_module_version": "1.2.0",
      "model_name": "CheckboxModel",
      "state": {
       "description": "Mit einem Schritt beginnt eine Reise von tausend Meilen auch nur.",
       "disabled": false,
       "layout": "IPY_MODEL_658de94cd22242a392ddf5de5d1ec2e8",
       "style": "IPY_MODEL_35d26be7bbe94d2da0bf09a35181febe",
       "value": false
      }
     },
     "04378a42837a47a8a3936d253b14fee0": {
      "model_module": "@jupyter-widgets/controls",
      "model_module_version": "1.2.0",
      "model_name": "DescriptionStyleModel",
      "state": {
       "description_width": ""
      }
     },
     "0444196ce18549e0a156cb092ff3483c": {
      "model_module": "@jupyter-widgets/base",
      "model_module_version": "1.0.0",
      "model_name": "LayoutModel",
      "state": {
       "justify_content": "center"
      }
     },
     "05a91142b5494ac6816a1f073565e640": {
      "model_module": "@jupyter-widgets/controls",
      "model_module_version": "1.2.0",
      "model_name": "DescriptionStyleModel",
      "state": {
       "description_width": ""
      }
     },
     "05e75b14da8240c8bea0d37fa2a6ec16": {
      "model_module": "@jupyter-widgets/controls",
      "model_module_version": "1.2.0",
      "model_name": "ButtonStyleModel",
      "state": {}
     },
     "061328849d434f82b2ed71938b74d9ba": {
      "model_module": "@jupyter-widgets/base",
      "model_module_version": "1.0.0",
      "model_name": "LayoutModel",
      "state": {
       "width": "250px"
      }
     },
     "0652b65731f247eeb204016afb703956": {
      "model_module": "@jupyter-widgets/base",
      "model_module_version": "1.0.0",
      "model_name": "LayoutModel",
      "state": {
       "justify_content": "center"
      }
     },
     "077328a3a7c343b2986f49485e79f6ea": {
      "model_module": "@jupyter-widgets/controls",
      "model_module_version": "1.2.0",
      "model_name": "ButtonStyleModel",
      "state": {
       "button_color": "lightgreen"
      }
     },
     "07e059e4b8614ad8be6fd347e741b419": {
      "model_module": "@jupyter-widgets/controls",
      "model_module_version": "1.2.0",
      "model_name": "HBoxModel",
      "state": {
       "children": [
        "IPY_MODEL_6909fd0fe1cb49a0987d9a97fd4bcb5e",
        "IPY_MODEL_da66d4fd84d54b479350cd6789e08034"
       ],
       "layout": "IPY_MODEL_30a8f56c43a64a2b8f898d502051707f"
      }
     },
     "080172e20baf44448f4680ae9f612be5": {
      "model_module": "@jupyter-widgets/base",
      "model_module_version": "1.0.0",
      "model_name": "LayoutModel",
      "state": {
       "width": "250px"
      }
     },
     "080dae6c928444b0b8e5c4e02b974234": {
      "model_module": "@jupyter-widgets/controls",
      "model_module_version": "1.2.0",
      "model_name": "DescriptionStyleModel",
      "state": {
       "description_width": ""
      }
     },
     "0840638c9e5a4a5b9e7a26eee0871c7c": {
      "model_module": "@jupyter-widgets/base",
      "model_module_version": "1.0.0",
      "model_name": "LayoutModel",
      "state": {}
     },
     "08f08fdced1342488899c2e5923488e1": {
      "model_module": "@jupyter-widgets/controls",
      "model_module_version": "1.2.0",
      "model_name": "HBoxModel",
      "state": {
       "children": [
        "IPY_MODEL_bc4fb2236c7546339f6bb32d3cf9ec17"
       ],
       "layout": "IPY_MODEL_5f6a21004d8f4c77ac873f30626e7513"
      }
     },
     "092d34d9bd1a4519b63f2618cb63680b": {
      "model_module": "@jupyter-widgets/controls",
      "model_module_version": "1.2.0",
      "model_name": "DropdownModel",
      "state": {
       "_options_labels": [
        "Bigramm",
        "Trigramm",
        "Unigramm",
        " "
       ],
       "index": 0,
       "layout": "IPY_MODEL_c54c05fba5564549afa90dd2c9ac2c68",
       "style": "IPY_MODEL_915963737cd14c66ac8c2a8c8057bfb8"
      }
     },
     "09c4d03361ac4776888474981171ccec": {
      "model_module": "@jupyter-widgets/base",
      "model_module_version": "1.0.0",
      "model_name": "LayoutModel",
      "state": {}
     },
     "0a01b58be1d24480b3c29f37b676d560": {
      "model_module": "@jupyter-widgets/controls",
      "model_module_version": "1.2.0",
      "model_name": "ButtonStyleModel",
      "state": {
       "button_color": "lightgreen"
      }
     },
     "0a46a6967b5d4d6a8a40a5dc35c5005f": {
      "model_module": "@jupyter-widgets/controls",
      "model_module_version": "1.2.0",
      "model_name": "DescriptionStyleModel",
      "state": {
       "description_width": ""
      }
     },
     "0a9318e005864366b475964d4267bb0d": {
      "model_module": "@jupyter-widgets/controls",
      "model_module_version": "1.2.0",
      "model_name": "ButtonModel",
      "state": {
       "description": "Keine der anderen Möglichkeiten",
       "layout": "IPY_MODEL_bd81855b64a242448f36d5d9b5ebaa2f",
       "style": "IPY_MODEL_71a985fedd7d405f8758721f84c5634a"
      }
     },
     "0aae4e2e597a4865bf3cccfa84ba4c42": {
      "model_module": "@jupyter-widgets/controls",
      "model_module_version": "1.2.0",
      "model_name": "DropdownModel",
      "state": {
       "_options_labels": [
        "Konstituente",
        "Phrase",
        " "
       ],
       "index": 1,
       "layout": "IPY_MODEL_d7ebe20a036448c68c2ee1ce04958d9d",
       "style": "IPY_MODEL_5674e8d7176c4538a5501c19daa94231"
      }
     },
     "0b075a74ca4346039be2dddc80c7cd40": {
      "model_module": "@jupyter-widgets/controls",
      "model_module_version": "1.2.0",
      "model_name": "VBoxModel",
      "state": {
       "children": [
        "IPY_MODEL_84ba920402134380b23a6b74487f73e2",
        "IPY_MODEL_ed7aedfa5c0f447da8402e6a0ba40621",
        "IPY_MODEL_1b39c9d944d8425594b3cdbc01acbc20"
       ],
       "layout": "IPY_MODEL_1b78746cac1d4781aae73b0ce07c974c"
      }
     },
     "0b6525ffca6e465b8ce7475a5efa5721": {
      "model_module": "@jupyter-widgets/controls",
      "model_module_version": "1.2.0",
      "model_name": "ButtonStyleModel",
      "state": {
       "button_color": "lightgreen"
      }
     },
     "0bc6c01513b34c869aee10e8a3434c52": {
      "model_module": "@jupyter-widgets/controls",
      "model_module_version": "1.2.0",
      "model_name": "ButtonStyleModel",
      "state": {}
     },
     "0c12ef12ec39413aad62a0451a75f4ae": {
      "model_module": "@jupyter-widgets/base",
      "model_module_version": "1.0.0",
      "model_name": "LayoutModel",
      "state": {
       "width": "600px"
      }
     },
     "0c155ab4fc7840b4b547366ffb2d2a0c": {
      "model_module": "@jupyter-widgets/base",
      "model_module_version": "1.0.0",
      "model_name": "LayoutModel",
      "state": {}
     },
     "0c1db0b22d444959b33a0e3a3d7f9a29": {
      "model_module": "@jupyter-widgets/controls",
      "model_module_version": "1.2.0",
      "model_name": "DescriptionStyleModel",
      "state": {
       "description_width": ""
      }
     },
     "0c2f1ed1823748609f5e80a4f06dbfbc": {
      "model_module": "@jupyter-widgets/controls",
      "model_module_version": "1.2.0",
      "model_name": "ButtonModel",
      "state": {
       "description": "Keine der anderen Möglichkeiten",
       "layout": "IPY_MODEL_d2d907cca6124daa867ab9a6f8a26d96",
       "style": "IPY_MODEL_77167c9935234c219132fd3c0c326bd5"
      }
     },
     "0cbe9fb33026426396889a83440252cb": {
      "model_module": "@jupyter-widgets/controls",
      "model_module_version": "1.2.0",
      "model_name": "ButtonModel",
      "state": {
       "description": "Korrekt?",
       "layout": "IPY_MODEL_ccf5b7b3b7ca4dbc97f2f9e2497e10f3",
       "style": "IPY_MODEL_ec59e0a4ef2144fe9e0638dd45cdfb88"
      }
     },
     "0d7cb665a6a84682b9116f4b5f4c901f": {
      "model_module": "@jupyter-widgets/controls",
      "model_module_version": "1.2.0",
      "model_name": "DescriptionStyleModel",
      "state": {
       "description_width": ""
      }
     },
     "0da22cb5c84b49f6b08bba937fb3ca90": {
      "model_module": "@jupyter-widgets/controls",
      "model_module_version": "1.2.0",
      "model_name": "DescriptionStyleModel",
      "state": {
       "description_width": ""
      }
     },
     "0ddc2192563e43619cccccce6d1618e1": {
      "model_module": "@jupyter-widgets/controls",
      "model_module_version": "1.2.0",
      "model_name": "HTMLModel",
      "state": {
       "layout": "IPY_MODEL_af5eca17ce954e52912d34515d1fc1c4",
       "style": "IPY_MODEL_61388638b69e4e039d040d84672bc9b3",
       "value": "<h4 style=\"font-size:14px;\">trägt. Das Ergebnis sind die häufigsten zweistelligen syntaktischen Muster des Englischen mit NOUN als rechtem Kontext, nämlich NOUN+NOUN, DET+NOUN und ADJ+NOUN; diese Ergebnisse geben Hinweis auf die NP-</h4>"
      }
     },
     "0e607dcaaa5b4a369fa7f9e0b3c3012d": {
      "model_module": "@jupyter-widgets/controls",
      "model_module_version": "1.2.0",
      "model_name": "DescriptionStyleModel",
      "state": {
       "description_width": ""
      }
     },
     "0e6605362fc540ac8d8cc6cdfda28bf9": {
      "model_module": "@jupyter-widgets/base",
      "model_module_version": "1.0.0",
      "model_name": "LayoutModel",
      "state": {}
     },
     "0e9a69a92a094a35a02e51927a99f1d5": {
      "model_module": "@jupyter-widgets/controls",
      "model_module_version": "1.2.0",
      "model_name": "ButtonModel",
      "state": {
       "description": "Partikel",
       "layout": "IPY_MODEL_9f7998b3d9f346b3b517ba35f89945c1",
       "style": "IPY_MODEL_ea46fd4c0807408ea4ca554f51b95838"
      }
     },
     "0ea63963004d4b1da242343e4cca7b1c": {
      "model_module": "@jupyter-widgets/controls",
      "model_module_version": "1.2.0",
      "model_name": "HTMLModel",
      "state": {
       "layout": "IPY_MODEL_e7fa62c893b24413b54ee9a101f4a18a",
       "style": "IPY_MODEL_d46c5913a2f14721aad11b7de83ffa31",
       "value": "<h4 style=\"font-size:14px;\">Welcher ist der richtig permutierte Satz?</h4>"
      }
     },
     "0f01c4c0a3b74fb294f3724ca983f382": {
      "model_module": "@jupyter-widgets/controls",
      "model_module_version": "1.2.0",
      "model_name": "ButtonModel",
      "state": {
       "description": "Keine der anderen Möglichkeiten",
       "layout": "IPY_MODEL_65c6440f3268493cb7327d6218fc0be8",
       "style": "IPY_MODEL_05e75b14da8240c8bea0d37fa2a6ec16"
      }
     },
     "105016c25d184bf0b310109018445aea": {
      "model_module": "@jupyter-widgets/controls",
      "model_module_version": "1.2.0",
      "model_name": "DescriptionStyleModel",
      "state": {
       "description_width": ""
      }
     },
     "10bf470b380b479d97bb4b0fad46ded8": {
      "model_module": "@jupyter-widgets/base",
      "model_module_version": "1.0.0",
      "model_name": "LayoutModel",
      "state": {
       "width": "250px"
      }
     },
     "118af53b2a59464eb9a78432a2a9a51a": {
      "model_module": "@jupyter-widgets/controls",
      "model_module_version": "1.2.0",
      "model_name": "DescriptionStyleModel",
      "state": {
       "description_width": ""
      }
     },
     "122dd8e6230c4ca68be8a341ab5a0068": {
      "model_module": "@jupyter-widgets/controls",
      "model_module_version": "1.2.0",
      "model_name": "DescriptionStyleModel",
      "state": {
       "description_width": ""
      }
     },
     "129ac06e3970465ea40b3a6e459e33e5": {
      "model_module": "@jupyter-widgets/controls",
      "model_module_version": "1.2.0",
      "model_name": "CheckboxModel",
      "state": {
       "description": "Flexionstyp",
       "disabled": false,
       "layout": "IPY_MODEL_68f7027f1d274efaa1e111b597e6e003",
       "style": "IPY_MODEL_c3b52ea7138d4dedb48fa388480c0b6d",
       "value": false
      }
     },
     "12ca386dc80342a9982ba78faab31036": {
      "model_module": "@jupyter-widgets/controls",
      "model_module_version": "1.2.0",
      "model_name": "DescriptionStyleModel",
      "state": {
       "description_width": "initial"
      }
     },
     "132125981cda4f9aa7a841652781a68a": {
      "model_module": "@jupyter-widgets/base",
      "model_module_version": "1.0.0",
      "model_name": "LayoutModel",
      "state": {
       "width": "250px"
      }
     },
     "1360d277c8624fda9bdbd9ba03b6ac4f": {
      "model_module": "@jupyter-widgets/base",
      "model_module_version": "1.0.0",
      "model_name": "LayoutModel",
      "state": {
       "width": "250px"
      }
     },
     "13680b0f9e854436a19d71db40e7b243": {
      "model_module": "@jupyter-widgets/controls",
      "model_module_version": "1.2.0",
      "model_name": "DescriptionStyleModel",
      "state": {
       "description_width": ""
      }
     },
     "1378a6c0e97e4c599d27e940a670f10f": {
      "model_module": "@jupyter-widgets/controls",
      "model_module_version": "1.2.0",
      "model_name": "DropdownModel",
      "state": {
       "_options_labels": [
        "Köpfe",
        "Länge",
        "Phrasenstruktur",
        " "
       ],
       "index": 2,
       "layout": "IPY_MODEL_e619fabf382a4db88dfaf4161cdb8bcd",
       "style": "IPY_MODEL_200c86d5cf6449fba361df85b02b1071"
      }
     },
     "138150f9bdb1422ab8882f7ce5a87120": {
      "model_module": "@jupyter-widgets/base",
      "model_module_version": "1.0.0",
      "model_name": "LayoutModel",
      "state": {
       "align_content": "stretch",
       "align_items": "stretch",
       "display": "inline-flex",
       "flex": "flex-grow",
       "flex_flow": "row wrap",
       "justify_content": "flex-start"
      }
     },
     "1416cbf5404541f3bd8af1ef0a82f644": {
      "model_module": "@jupyter-widgets/controls",
      "model_module_version": "1.2.0",
      "model_name": "VBoxModel",
      "state": {
       "children": [
        "IPY_MODEL_6e98dca7a8b747998e002f475166a2b5",
        "IPY_MODEL_1da0fbbad1744dd8b16741719c6d90da",
        "IPY_MODEL_57b3d2e55fc64e248c43589ec73b1572",
        "IPY_MODEL_4fcf364d3f2941188a7b2ce98123eb7f",
        "IPY_MODEL_cdb4c4cd9fdb4e6f9e38e9e952c5a522"
       ],
       "layout": "IPY_MODEL_3dea950a5d314322af97f6e4ef798d66"
      }
     },
     "1451136d2ebd4833ade384dc0db20836": {
      "model_module": "@jupyter-widgets/base",
      "model_module_version": "1.0.0",
      "model_name": "LayoutModel",
      "state": {
       "width": "600px"
      }
     },
     "162880f921044b9989aff28c472961e2": {
      "model_module": "@jupyter-widgets/base",
      "model_module_version": "1.0.0",
      "model_name": "LayoutModel",
      "state": {
       "width": "250px"
      }
     },
     "16992b523556426ea59678d046e30e86": {
      "model_module": "@jupyter-widgets/controls",
      "model_module_version": "1.2.0",
      "model_name": "DescriptionStyleModel",
      "state": {
       "description_width": ""
      }
     },
     "17205f6332764c1f82e11ba24ddf8e55": {
      "model_module": "@jupyter-widgets/controls",
      "model_module_version": "1.2.0",
      "model_name": "DescriptionStyleModel",
      "state": {
       "description_width": ""
      }
     },
     "17987f3d6bcc450e8b5f88000b434157": {
      "model_module": "@jupyter-widgets/base",
      "model_module_version": "1.0.0",
      "model_name": "LayoutModel",
      "state": {
       "width": "250px"
      }
     },
     "17c3e1ecc8704a87b8ee31eb3a307171": {
      "model_module": "@jupyter-widgets/controls",
      "model_module_version": "1.2.0",
      "model_name": "HBoxModel",
      "state": {
       "children": [
        "IPY_MODEL_ae298d54528347e5b426674e997c4033",
        "IPY_MODEL_dc9a85e2707d44138378aff3f5018fb2"
       ],
       "layout": "IPY_MODEL_e26cdae111e847f5a772b06d6779fdf7"
      }
     },
     "17c4071e3de14c419eeb30f24ebcac8e": {
      "model_module": "@jupyter-widgets/base",
      "model_module_version": "1.0.0",
      "model_name": "LayoutModel",
      "state": {
       "justify_content": "center"
      }
     },
     "18fed0ccf62b4bd8b5414f7c0fe21810": {
      "model_module": "@jupyter-widgets/controls",
      "model_module_version": "1.2.0",
      "model_name": "DescriptionStyleModel",
      "state": {
       "description_width": ""
      }
     },
     "190b63d883b84181a2b8a194f74598bc": {
      "model_module": "@jupyter-widgets/controls",
      "model_module_version": "1.2.0",
      "model_name": "HBoxModel",
      "state": {
       "children": [
        "IPY_MODEL_cdbf9dde32b34d8581959784f622dbd8",
        "IPY_MODEL_e9e4e4f6e165445fbd9daf024ffd0f4a"
       ],
       "layout": "IPY_MODEL_9fad08e144134393aabf357b5bb45bfa"
      }
     },
     "196d14e5ec814228971e43aa3705d2c0": {
      "model_module": "@jupyter-widgets/controls",
      "model_module_version": "1.2.0",
      "model_name": "HBoxModel",
      "state": {
       "children": [
        "IPY_MODEL_33f4ba66fc8c47e3bd923b2ea0290c93",
        "IPY_MODEL_d257896b4a0940e8910e5a0a29efc487"
       ],
       "layout": "IPY_MODEL_09c4d03361ac4776888474981171ccec"
      }
     },
     "199c56a9546b461c8551a4684970897a": {
      "model_module": "@jupyter-widgets/controls",
      "model_module_version": "1.2.0",
      "model_name": "ButtonModel",
      "state": {
       "description": "Korrekt?",
       "layout": "IPY_MODEL_52ee5f790b524e1f8fdaa10c50c23484",
       "style": "IPY_MODEL_9a84dbe8b2854073bbd7cbe898cb3591"
      }
     },
     "19b7e45cd8304dd8b4d2b5d5b3781c97": {
      "model_module": "@jupyter-widgets/controls",
      "model_module_version": "1.2.0",
      "model_name": "ButtonStyleModel",
      "state": {}
     },
     "1a4d245397e045d1ac45dd1bb426a892": {
      "model_module": "@jupyter-widgets/base",
      "model_module_version": "1.0.0",
      "model_name": "LayoutModel",
      "state": {
       "width": "250px"
      }
     },
     "1a88796e5be140ce85a64cb819128804": {
      "model_module": "@jupyter-widgets/controls",
      "model_module_version": "1.2.0",
      "model_name": "ButtonStyleModel",
      "state": {}
     },
     "1ad5cbbcb1f741ad8644cffeabb22f33": {
      "model_module": "@jupyter-widgets/base",
      "model_module_version": "1.0.0",
      "model_name": "LayoutModel",
      "state": {
       "justify_content": "center"
      }
     },
     "1b39c9d944d8425594b3cdbc01acbc20": {
      "model_module": "@jupyter-widgets/controls",
      "model_module_version": "1.2.0",
      "model_name": "ButtonModel",
      "state": {
       "description": "Korrekt?",
       "layout": "IPY_MODEL_26299b6cd9f0409ba988402af68c172d",
       "style": "IPY_MODEL_39b2c55ae8ea4db8ae53f94598c0c16e"
      }
     },
     "1b40ebb28e084534a56a47f3fa9fba33": {
      "model_module": "@jupyter-widgets/base",
      "model_module_version": "1.0.0",
      "model_name": "LayoutModel",
      "state": {}
     },
     "1b78746cac1d4781aae73b0ce07c974c": {
      "model_module": "@jupyter-widgets/base",
      "model_module_version": "1.0.0",
      "model_name": "LayoutModel",
      "state": {}
     },
     "1b9d31e97a284237a5aa5a7d9f770c90": {
      "model_module": "@jupyter-widgets/controls",
      "model_module_version": "1.2.0",
      "model_name": "DescriptionStyleModel",
      "state": {
       "description_width": "initial"
      }
     },
     "1bc162861bec4c169460405fd13a77b1": {
      "model_module": "@jupyter-widgets/controls",
      "model_module_version": "1.2.0",
      "model_name": "ButtonModel",
      "state": {
       "description": "Korrekt?",
       "layout": "IPY_MODEL_952b2681f9424e239aec03bf172c0997",
       "style": "IPY_MODEL_55ec6aa0079b4c74bd5297ee9109e50f"
      }
     },
     "1bee391e9add42158330547e1f733396": {
      "model_module": "@jupyter-widgets/controls",
      "model_module_version": "1.2.0",
      "model_name": "DescriptionStyleModel",
      "state": {
       "description_width": ""
      }
     },
     "1c451fbc124546fd95a9f8a6864f6b24": {
      "model_module": "@jupyter-widgets/base",
      "model_module_version": "1.0.0",
      "model_name": "LayoutModel",
      "state": {}
     },
     "1cb6b1fcf92b4ccfa369e64c679070f4": {
      "model_module": "@jupyter-widgets/controls",
      "model_module_version": "1.2.0",
      "model_name": "HTMLModel",
      "state": {
       "layout": "IPY_MODEL_469a6c9136a6452bb8b5954ab18213af",
       "style": "IPY_MODEL_0e607dcaaa5b4a369fa7f9e0b3c3012d",
       "value": "<h4 style=\"font-size:14px;\">.</h4>"
      }
     },
     "1d8e5e3aaead4bba9844c8543d268b4e": {
      "model_module": "@jupyter-widgets/base",
      "model_module_version": "1.0.0",
      "model_name": "LayoutModel",
      "state": {}
     },
     "1da0fbbad1744dd8b16741719c6d90da": {
      "model_module": "@jupyter-widgets/controls",
      "model_module_version": "1.2.0",
      "model_name": "HTMLModel",
      "state": {
       "layout": "IPY_MODEL_2f0e5734108244dcad84735318bf8948",
       "style": "IPY_MODEL_c73276e09e2f438a8716346b8c021202",
       "value": "<i>Wählen Sie die <ins>eine</ins> korrekte Antwort aus: </i>"
      }
     },
     "1dae76be7e874a42bb39a2aec4061204": {
      "model_module": "@jupyter-widgets/controls",
      "model_module_version": "1.2.0",
      "model_name": "ButtonModel",
      "state": {
       "description": "Keine der anderen Möglichkeiten",
       "layout": "IPY_MODEL_ddb4f399f1a04bc48602aa741c0fe228",
       "style": "IPY_MODEL_d81f88d719c6403c882298a425aaff51"
      }
     },
     "1dc065a2e56848cfb3aec5ee543b9def": {
      "model_module": "@jupyter-widgets/controls",
      "model_module_version": "1.2.0",
      "model_name": "ButtonStyleModel",
      "state": {}
     },
     "1dcd977b4796496f9937807a8ac9e1d8": {
      "model_module": "@jupyter-widgets/base",
      "model_module_version": "1.0.0",
      "model_name": "LayoutModel",
      "state": {
       "width": "250px"
      }
     },
     "1e0dbb8a7da04a199aad9381e253132d": {
      "model_module": "@jupyter-widgets/controls",
      "model_module_version": "1.2.0",
      "model_name": "HTMLModel",
      "state": {
       "layout": "IPY_MODEL_b6d2be1a533748b0ab90a6d1179bfa5f",
       "style": "IPY_MODEL_05a91142b5494ac6816a1f073565e640",
       "value": "<h4 style=\"font-size:14px;\">Was sind morphologische Kriterien für Wortkategorien?</h4>"
      }
     },
     "1e0fa4ef53a5427885b9729475ab76ff": {
      "model_module": "@jupyter-widgets/controls",
      "model_module_version": "1.2.0",
      "model_name": "HTMLModel",
      "state": {
       "layout": "IPY_MODEL_fe9db8209c784d3b959122393966b950",
       "style": "IPY_MODEL_f01dea275c564f39a01eaa75f76b1637",
       "value": "<h4 style=\"font-size:14px;\">Welche Wortart folgt damit für das Wort <i>gerne</i> in Satz 1?</h4>"
      }
     },
     "1eccb009469642df89e42158b7d795e8": {
      "model_module": "@jupyter-widgets/controls",
      "model_module_version": "1.2.0",
      "model_name": "HTMLModel",
      "state": {
       "layout": "IPY_MODEL_7484efad54cd4c21b43c07857b9ade07",
       "style": "IPY_MODEL_3e9db15ac10c48808e314436d840be29",
       "value": "<h4 style=\"font-size:14px;\"><i>Eine Reise beginnt auch nur mit einem Schritt.</i><br>Welche Tests wurden angewandt?</h4>"
      }
     },
     "1fb4a60994f24c1b9c2b4e60647e67be": {
      "model_module": "@jupyter-widgets/controls",
      "model_module_version": "1.2.0",
      "model_name": "HBoxModel",
      "state": {
       "children": [
        "IPY_MODEL_63374ae90adb429880a0e45c07b56b04",
        "IPY_MODEL_0a9318e005864366b475964d4267bb0d"
       ],
       "layout": "IPY_MODEL_e3475664975344b5a8dd840e9d382cd9"
      }
     },
     "200c86d5cf6449fba361df85b02b1071": {
      "model_module": "@jupyter-widgets/controls",
      "model_module_version": "1.2.0",
      "model_name": "DescriptionStyleModel",
      "state": {
       "description_width": ""
      }
     },
     "20423e360f584f0aa4a2485037ebff61": {
      "model_module": "@jupyter-widgets/controls",
      "model_module_version": "1.2.0",
      "model_name": "VBoxModel",
      "state": {
       "children": [
        "IPY_MODEL_7b29b7dee2d94f559ef708242f01b2d5",
        "IPY_MODEL_74e506220a334791b21c8779cf1861d3",
        "IPY_MODEL_8f4bd9eb91174a858304459638e630a3",
        "IPY_MODEL_4e809505c0c248099e68beb7d9cc3528",
        "IPY_MODEL_c467ffecd23342caabd907b846eb6dc8"
       ],
       "layout": "IPY_MODEL_aea4014b52f94475909a1e2cf35bf716"
      }
     },
     "204700e57fc7459aadc07bd0abfcfdc3": {
      "model_module": "@jupyter-widgets/controls",
      "model_module_version": "1.2.0",
      "model_name": "HTMLModel",
      "state": {
       "layout": "IPY_MODEL_4dd6fae54cce4727990b0249ceb940c9",
       "style": "IPY_MODEL_118af53b2a59464eb9a78432a2a9a51a",
       "value": "<i>Wählen Sie die <ins>eine</ins> korrekte Antwort aus: </i>"
      }
     },
     "224f9f0c706d470fb9f441c2b4adfcad": {
      "model_module": "@jupyter-widgets/controls",
      "model_module_version": "1.2.0",
      "model_name": "ButtonModel",
      "state": {
       "description": "Korrekt?",
       "layout": "IPY_MODEL_34453fe8d4774f22ad5da6ba69c6c2a1",
       "style": "IPY_MODEL_e2d98d9925164e1babb20f6763dce690"
      }
     },
     "2295b16297e7416db846ac6301d6fe7f": {
      "model_module": "@jupyter-widgets/base",
      "model_module_version": "1.0.0",
      "model_name": "LayoutModel",
      "state": {
       "width": "250px"
      }
     },
     "22ac093da5864cc9b9a5a52dc66c911f": {
      "model_module": "@jupyter-widgets/base",
      "model_module_version": "1.0.0",
      "model_name": "LayoutModel",
      "state": {
       "width": "600px"
      }
     },
     "230667e4a748475b95214d69fead5879": {
      "model_module": "@jupyter-widgets/base",
      "model_module_version": "1.0.0",
      "model_name": "LayoutModel",
      "state": {}
     },
     "2353b8d099ea4e7aa70b257408023f49": {
      "model_module": "@jupyter-widgets/base",
      "model_module_version": "1.0.0",
      "model_name": "LayoutModel",
      "state": {
       "width": "600px"
      }
     },
     "23bbf05eca5148319f06d70cf23aeadd": {
      "model_module": "@jupyter-widgets/controls",
      "model_module_version": "1.2.0",
      "model_name": "DescriptionStyleModel",
      "state": {
       "description_width": ""
      }
     },
     "23d408c48a0645c190417d13df63be1a": {
      "model_module": "@jupyter-widgets/controls",
      "model_module_version": "1.2.0",
      "model_name": "ButtonStyleModel",
      "state": {}
     },
     "23da8ef0790d4cb7b9fe68a40dc24af2": {
      "model_module": "@jupyter-widgets/controls",
      "model_module_version": "1.2.0",
      "model_name": "CheckboxModel",
      "state": {
       "description": "Zu einem Wort werden seine Kookkurrenzpartner gefunden.",
       "disabled": false,
       "layout": "IPY_MODEL_7172f0e8ac344b91b26d64310094e140",
       "style": "IPY_MODEL_686f5171b4724c2598f6778048519814",
       "value": false
      }
     },
     "24109130fe1d4d24aa2a6d63c6b852da": {
      "model_module": "@jupyter-widgets/base",
      "model_module_version": "1.0.0",
      "model_name": "LayoutModel",
      "state": {}
     },
     "255efa92e1cf45ec83b793cdf3fb4e5a": {
      "model_module": "@jupyter-widgets/controls",
      "model_module_version": "1.2.0",
      "model_name": "DescriptionStyleModel",
      "state": {
       "description_width": ""
      }
     },
     "25f4ddde71c04004b3bccccf10af348d": {
      "model_module": "@jupyter-widgets/controls",
      "model_module_version": "1.2.0",
      "model_name": "HTMLModel",
      "state": {
       "layout": "IPY_MODEL_707279f4420941b3a1b2d193b8d58ddb",
       "style": "IPY_MODEL_105016c25d184bf0b310109018445aea",
       "value": "<h4 style=\"font-size:14px;\">im Englischen.</h4>"
      }
     },
     "26299b6cd9f0409ba988402af68c172d": {
      "model_module": "@jupyter-widgets/base",
      "model_module_version": "1.0.0",
      "model_name": "LayoutModel",
      "state": {
       "width": "250px"
      }
     },
     "275ff7fc0f7e472abecf42d3548f219e": {
      "model_module": "@jupyter-widgets/base",
      "model_module_version": "1.0.0",
      "model_name": "LayoutModel",
      "state": {}
     },
     "27939b625be64a28bc58fb049b96b4ce": {
      "model_module": "@jupyter-widgets/controls",
      "model_module_version": "1.2.0",
      "model_name": "HTMLModel",
      "state": {
       "layout": "IPY_MODEL_d444a289617046e6a76c22611f9e65c6",
       "style": "IPY_MODEL_16992b523556426ea59678d046e30e86",
       "value": "<i>Markieren Sie <ins>alle</ins> passenden Antworten: </i>"
      }
     },
     "279e877234db43ed877a786098e641b4": {
      "model_module": "@jupyter-widgets/controls",
      "model_module_version": "1.2.0",
      "model_name": "DescriptionStyleModel",
      "state": {
       "description_width": "initial"
      }
     },
     "27eb55821c5e4415aa31d509e02b645f": {
      "model_module": "@jupyter-widgets/base",
      "model_module_version": "1.0.0",
      "model_name": "LayoutModel",
      "state": {
       "width": "150px"
      }
     },
     "2812c1b749e5446faff77284c1b5d442": {
      "model_module": "@jupyter-widgets/base",
      "model_module_version": "1.0.0",
      "model_name": "LayoutModel",
      "state": {
       "width": "600px"
      }
     },
     "28305fd601624ef7bf6b38fde1ff2728": {
      "model_module": "@jupyter-widgets/base",
      "model_module_version": "1.0.0",
      "model_name": "LayoutModel",
      "state": {}
     },
     "283776f7685e44ecb91e25d0354b449a": {
      "model_module": "@jupyter-widgets/base",
      "model_module_version": "1.0.0",
      "model_name": "LayoutModel",
      "state": {
       "width": "150px"
      }
     },
     "284a7e82532f4451a03ec133990d8d13": {
      "model_module": "@jupyter-widgets/controls",
      "model_module_version": "1.2.0",
      "model_name": "HBoxModel",
      "state": {
       "children": [
        "IPY_MODEL_0c2f1ed1823748609f5e80a4f06dbfbc"
       ],
       "layout": "IPY_MODEL_eba5293836e040f2a76ff7ceae161039"
      }
     },
     "29717ad8e6c94c268a60f8012894fa31": {
      "model_module": "@jupyter-widgets/base",
      "model_module_version": "1.0.0",
      "model_name": "LayoutModel",
      "state": {
       "width": "250px"
      }
     },
     "29eac761d5934d5a81c73f13f57d612b": {
      "model_module": "@jupyter-widgets/base",
      "model_module_version": "1.0.0",
      "model_name": "LayoutModel",
      "state": {}
     },
     "2a058c57712248c8b5a73e005f80c38f": {
      "model_module": "@jupyter-widgets/controls",
      "model_module_version": "1.2.0",
      "model_name": "ButtonStyleModel",
      "state": {}
     },
     "2a1c5f49dc9d45e69ebf68d6dff3d81e": {
      "model_module": "@jupyter-widgets/controls",
      "model_module_version": "1.2.0",
      "model_name": "ButtonStyleModel",
      "state": {
       "button_color": "lightgreen"
      }
     },
     "2a41f8464d274879b3cc721d5fcf5041": {
      "model_module": "@jupyter-widgets/controls",
      "model_module_version": "1.2.0",
      "model_name": "DescriptionStyleModel",
      "state": {
       "description_width": "initial"
      }
     },
     "2a7b4c79986d41be8d175182b6a8c1b7": {
      "model_module": "@jupyter-widgets/controls",
      "model_module_version": "1.2.0",
      "model_name": "CheckboxModel",
      "state": {
       "description": "Eliminierungstest",
       "disabled": false,
       "layout": "IPY_MODEL_97e14adaf00a4cc4843119c674967372",
       "style": "IPY_MODEL_a5b0fb080b694b39af84b1113abdcc97",
       "value": true
      }
     },
     "2b23be1acaa74265bb309d32d5bba1fc": {
      "model_module": "@jupyter-widgets/controls",
      "model_module_version": "1.2.0",
      "model_name": "VBoxModel",
      "state": {
       "children": [
        "IPY_MODEL_022a379fc4ef4cffb85b4e8f544954df",
        "IPY_MODEL_797ca9f9f64143ab863555202a3dacc8",
        "IPY_MODEL_d6e0c49d75d943938b7844dcabf8fc1d",
        "IPY_MODEL_be5dc54ade4a4784b7779131dba4ed41",
        "IPY_MODEL_08f08fdced1342488899c2e5923488e1"
       ],
       "layout": "IPY_MODEL_79b55b7ccb714cc98a593b92f954720e"
      }
     },
     "2b67247d854549f188f0752961c08f5f": {
      "model_module": "@jupyter-widgets/controls",
      "model_module_version": "1.2.0",
      "model_name": "DescriptionStyleModel",
      "state": {
       "description_width": ""
      }
     },
     "2bc80191397b4fd7a44a74fcc65ae1a9": {
      "model_module": "@jupyter-widgets/controls",
      "model_module_version": "1.2.0",
      "model_name": "HBoxModel",
      "state": {
       "children": [
        "IPY_MODEL_b56e56db10c34753a5a6cd275d7b7b75",
        "IPY_MODEL_94425e4200bc4860910c8c91fb14a2d7"
       ],
       "layout": "IPY_MODEL_f4f2d73eb8524f88abd8e3e56a80b1c4"
      }
     },
     "2c05e9ac7ca74b5d9abafbe104754f33": {
      "model_module": "@jupyter-widgets/base",
      "model_module_version": "1.0.0",
      "model_name": "LayoutModel",
      "state": {}
     },
     "2c91f3ac3a4e4dcc81d17671ae9538c8": {
      "model_module": "@jupyter-widgets/controls",
      "model_module_version": "1.2.0",
      "model_name": "VBoxModel",
      "state": {
       "children": [
        "IPY_MODEL_eca10f02d91a40f6b600dcf7fabeae57",
        "IPY_MODEL_8c71b0b7004241fa94faa4e296b588c6",
        "IPY_MODEL_f7f5eadb902a49879eff1523cd5a09f5",
        "IPY_MODEL_ef86e5a91af549579225fb72f3825b7b"
       ],
       "layout": "IPY_MODEL_2c05e9ac7ca74b5d9abafbe104754f33"
      }
     },
     "2cc2080a8c1c49b39537f9f36f53cfe9": {
      "model_module": "@jupyter-widgets/controls",
      "model_module_version": "1.2.0",
      "model_name": "HBoxModel",
      "state": {
       "children": [
        "IPY_MODEL_3761b3c38e744ce4966d67848dded55f",
        "IPY_MODEL_bc2c782eb16e4f74b309f8a4f6e45a1d"
       ],
       "layout": "IPY_MODEL_35ca5be83796419590efdc5869432e13"
      }
     },
     "2cc82a6be8c24826b1736f7be73b49f9": {
      "model_module": "@jupyter-widgets/controls",
      "model_module_version": "1.2.0",
      "model_name": "ButtonStyleModel",
      "state": {
       "button_color": "lightgreen"
      }
     },
     "2d354fc336194f5e9418a6284d362cca": {
      "model_module": "@jupyter-widgets/controls",
      "model_module_version": "1.2.0",
      "model_name": "DescriptionStyleModel",
      "state": {
       "description_width": ""
      }
     },
     "2d657727e8da493da30f42421684d511": {
      "model_module": "@jupyter-widgets/base",
      "model_module_version": "1.0.0",
      "model_name": "LayoutModel",
      "state": {
       "justify_content": "center"
      }
     },
     "2d9d269ccbdb4a67971992d5037d3710": {
      "model_module": "@jupyter-widgets/controls",
      "model_module_version": "1.2.0",
      "model_name": "ButtonStyleModel",
      "state": {}
     },
     "2dd76d71e28949fc8333d69af71fa1b3": {
      "model_module": "@jupyter-widgets/controls",
      "model_module_version": "1.2.0",
      "model_name": "DescriptionStyleModel",
      "state": {
       "description_width": ""
      }
     },
     "2e1ba96986064a708dd0c1099f3858a0": {
      "model_module": "@jupyter-widgets/controls",
      "model_module_version": "1.2.0",
      "model_name": "ButtonModel",
      "state": {
       "description": "Korrekt?",
       "layout": "IPY_MODEL_a653a6ca9a8244e1a660210faac14bb2",
       "style": "IPY_MODEL_c82a69ded85c42a9b9f2f733036c1501"
      }
     },
     "2e46c610d5884ce2b558d4761b4017ea": {
      "model_module": "@jupyter-widgets/controls",
      "model_module_version": "1.2.0",
      "model_name": "ButtonModel",
      "state": {
       "description": "Korrekt?",
       "layout": "IPY_MODEL_080172e20baf44448f4680ae9f612be5",
       "style": "IPY_MODEL_3f1c505002f446b6b293e284883bc16f"
      }
     },
     "2f00e6af899943098c0809cb7179460d": {
      "model_module": "@jupyter-widgets/base",
      "model_module_version": "1.0.0",
      "model_name": "LayoutModel",
      "state": {}
     },
     "2f0e5734108244dcad84735318bf8948": {
      "model_module": "@jupyter-widgets/base",
      "model_module_version": "1.0.0",
      "model_name": "LayoutModel",
      "state": {
       "justify_content": "center"
      }
     },
     "2f0f92c936a749ab94a32f2afe6acd3f": {
      "model_module": "@jupyter-widgets/base",
      "model_module_version": "1.0.0",
      "model_name": "LayoutModel",
      "state": {
       "width": "600px"
      }
     },
     "2f578bd79bb448ec897fb7ba37ef3e16": {
      "model_module": "@jupyter-widgets/base",
      "model_module_version": "1.0.0",
      "model_name": "LayoutModel",
      "state": {}
     },
     "2fbe35fd785648439df341b12469ed53": {
      "model_module": "@jupyter-widgets/base",
      "model_module_version": "1.0.0",
      "model_name": "LayoutModel",
      "state": {}
     },
     "30a8f56c43a64a2b8f898d502051707f": {
      "model_module": "@jupyter-widgets/base",
      "model_module_version": "1.0.0",
      "model_name": "LayoutModel",
      "state": {}
     },
     "30b03a55c11a4339a194f98b61638ae8": {
      "model_module": "@jupyter-widgets/base",
      "model_module_version": "1.0.0",
      "model_name": "LayoutModel",
      "state": {
       "width": "250px"
      }
     },
     "3252c05bf6de448198dcae33b89fe446": {
      "model_module": "@jupyter-widgets/controls",
      "model_module_version": "1.2.0",
      "model_name": "DropdownModel",
      "state": {
       "_options_labels": [
        "Bedeutung",
        "Wohlgeformtheit",
        " "
       ],
       "index": 1,
       "layout": "IPY_MODEL_43d68005f7224580854fc93531805af6",
       "style": "IPY_MODEL_595efca9028a4f0aa6ee1309c10c9d5d"
      }
     },
     "32c918129fde4703a88b1ad23b469b30": {
      "model_module": "@jupyter-widgets/controls",
      "model_module_version": "1.2.0",
      "model_name": "BoxModel",
      "state": {
       "children": [
        "IPY_MODEL_9880d73c143d46518c9e60a8e627dc28",
        "IPY_MODEL_cd2c831e231948dfb4c506c792305630",
        "IPY_MODEL_ed0c3f957ebb47748d1bdf825e3dba4a",
        "IPY_MODEL_92b751faa74a41c4a8647f30e122278b",
        "IPY_MODEL_9023dbd44cd940899ce9dd72ff749aa2"
       ],
       "layout": "IPY_MODEL_e9550df3bbf84933a908933781f72158"
      }
     },
     "33f4ba66fc8c47e3bd923b2ea0290c93": {
      "model_module": "@jupyter-widgets/controls",
      "model_module_version": "1.2.0",
      "model_name": "ButtonModel",
      "state": {
       "description": "Adjektiv",
       "layout": "IPY_MODEL_78ce1a251dcc4aaea5ceaa540c53b091",
       "style": "IPY_MODEL_fd7b421d95aa48c497e49904bf12a9de"
      }
     },
     "34453fe8d4774f22ad5da6ba69c6c2a1": {
      "model_module": "@jupyter-widgets/base",
      "model_module_version": "1.0.0",
      "model_name": "LayoutModel",
      "state": {
       "width": "250px"
      }
     },
     "34801d4476ee4c2aa4058121a4102699": {
      "model_module": "@jupyter-widgets/base",
      "model_module_version": "1.0.0",
      "model_name": "LayoutModel",
      "state": {}
     },
     "34b613dfc39c4f70baaa650ece56c382": {
      "model_module": "@jupyter-widgets/base",
      "model_module_version": "1.0.0",
      "model_name": "LayoutModel",
      "state": {}
     },
     "35ca5be83796419590efdc5869432e13": {
      "model_module": "@jupyter-widgets/base",
      "model_module_version": "1.0.0",
      "model_name": "LayoutModel",
      "state": {}
     },
     "35d26be7bbe94d2da0bf09a35181febe": {
      "model_module": "@jupyter-widgets/controls",
      "model_module_version": "1.2.0",
      "model_name": "DescriptionStyleModel",
      "state": {
       "description_width": "initial"
      }
     },
     "3761b3c38e744ce4966d67848dded55f": {
      "model_module": "@jupyter-widgets/controls",
      "model_module_version": "1.2.0",
      "model_name": "ButtonModel",
      "state": {
       "description": "Richtig!",
       "layout": "IPY_MODEL_d2013bc73d78423e90078ecdff95f3d7",
       "style": "IPY_MODEL_4838048176e944e696fc8875eafada06"
      }
     },
     "376deeb81cdc407fab2ea984afd8e964": {
      "model_module": "@jupyter-widgets/controls",
      "model_module_version": "1.2.0",
      "model_name": "VBoxModel",
      "state": {
       "children": [
        "IPY_MODEL_0ea63963004d4b1da242343e4cca7b1c",
        "IPY_MODEL_59610e6633d4414c9b056da87f8b7526",
        "IPY_MODEL_449ac54d72ae4c6195b94faef8f30618",
        "IPY_MODEL_199c56a9546b461c8551a4684970897a"
       ],
       "layout": "IPY_MODEL_5594824deb2e4d2599b017a1be528535"
      }
     },
     "38391be0fdf24facae66d37d2bbdc672": {
      "model_module": "@jupyter-widgets/base",
      "model_module_version": "1.0.0",
      "model_name": "LayoutModel",
      "state": {
       "width": "250px"
      }
     },
     "395da1cf276d415dafc6ffebcd3a6cc5": {
      "model_module": "@jupyter-widgets/controls",
      "model_module_version": "1.2.0",
      "model_name": "HTMLModel",
      "state": {
       "layout": "IPY_MODEL_fcc57f97404a4ae4aa4a1e52ffa9b5a8",
       "style": "IPY_MODEL_e7a9de34d45042eab69dd26258863df2",
       "value": "<h4 style=\"font-size:14px;\">-Tupel von</h4>"
      }
     },
     "399b666422a349528f2c2f2c5cc3cd09": {
      "model_module": "@jupyter-widgets/controls",
      "model_module_version": "1.2.0",
      "model_name": "ButtonStyleModel",
      "state": {}
     },
     "39b2c55ae8ea4db8ae53f94598c0c16e": {
      "model_module": "@jupyter-widgets/controls",
      "model_module_version": "1.2.0",
      "model_name": "ButtonStyleModel",
      "state": {
       "button_color": "lightgreen"
      }
     },
     "3a026258f9f84759a93aa5ab8c8485b3": {
      "model_module": "@jupyter-widgets/controls",
      "model_module_version": "1.2.0",
      "model_name": "HTMLModel",
      "state": {
       "layout": "IPY_MODEL_2d657727e8da493da30f42421684d511",
       "style": "IPY_MODEL_b06fd71e182f4d9291bc91624f4b639c",
       "value": "<h4 style=\"font-size:14px;\">Welche Wortart folgt damit für das Wort <i>gut</i> in Satz 2?</h4>"
      }
     },
     "3a07d9918b2345f398fd7698200b3241": {
      "model_module": "@jupyter-widgets/controls",
      "model_module_version": "1.2.0",
      "model_name": "DropdownModel",
      "state": {
       "_options_labels": [
        "'ADJ'",
        "'DET'",
        "'NOUN'",
        " "
       ],
       "index": 2,
       "layout": "IPY_MODEL_c753f9bc35d94c899b053c1476baad99",
       "style": "IPY_MODEL_ba762deab358469986a14f73b413ca11"
      }
     },
     "3a298a8d280b470bbc8a37af0a8dd9a8": {
      "model_module": "@jupyter-widgets/controls",
      "model_module_version": "1.2.0",
      "model_name": "ButtonModel",
      "state": {
       "description": "Korrekt?",
       "layout": "IPY_MODEL_9b61d9fe74064bb2b9aa68c980c39c7b",
       "style": "IPY_MODEL_0b6525ffca6e465b8ce7475a5efa5721"
      }
     },
     "3db7930fb5624727ad1c6fac79eabd04": {
      "model_module": "@jupyter-widgets/controls",
      "model_module_version": "1.2.0",
      "model_name": "HBoxModel",
      "state": {
       "children": [
        "IPY_MODEL_998b838039b049ae9300bdf1747d931e",
        "IPY_MODEL_9b3391f5566f44c2b9eca8112d472bf9"
       ],
       "layout": "IPY_MODEL_230667e4a748475b95214d69fead5879"
      }
     },
     "3dea950a5d314322af97f6e4ef798d66": {
      "model_module": "@jupyter-widgets/base",
      "model_module_version": "1.0.0",
      "model_name": "LayoutModel",
      "state": {}
     },
     "3e81ac108081489daf61d5c01b407480": {
      "model_module": "@jupyter-widgets/controls",
      "model_module_version": "1.2.0",
      "model_name": "DescriptionStyleModel",
      "state": {
       "description_width": ""
      }
     },
     "3e9db15ac10c48808e314436d840be29": {
      "model_module": "@jupyter-widgets/controls",
      "model_module_version": "1.2.0",
      "model_name": "DescriptionStyleModel",
      "state": {
       "description_width": ""
      }
     },
     "3eac4fede4574455ad5aba07b44ac52b": {
      "model_module": "@jupyter-widgets/controls",
      "model_module_version": "1.2.0",
      "model_name": "DescriptionStyleModel",
      "state": {
       "description_width": ""
      }
     },
     "3eb11065e09541f9bf2f8b848b293616": {
      "model_module": "@jupyter-widgets/controls",
      "model_module_version": "1.2.0",
      "model_name": "BoxModel",
      "state": {
       "children": [
        "IPY_MODEL_8194ebc23e9e47f9b721f03a7e1ddd10",
        "IPY_MODEL_f886963f201446488e5eb12b85ab98b4",
        "IPY_MODEL_e15f4079defd4624932761c7c3dcb43b",
        "IPY_MODEL_0aae4e2e597a4865bf3cccfa84ba4c42",
        "IPY_MODEL_400b5da948924f6cb68406dd0d4b429e",
        "IPY_MODEL_85775aea5c81478dbcd3057f548fb4c5",
        "IPY_MODEL_d06e48f5ae014667b3f9d8d36af87e72",
        "IPY_MODEL_c706c565bbea4088b1207b6b7db584b9",
        "IPY_MODEL_8850193be9de43b99894439f36c3d5a5",
        "IPY_MODEL_00eb1f875a7444f88ef4db5034ca077a",
        "IPY_MODEL_8bdfeaeee5614269b023f97f14b0f30e",
        "IPY_MODEL_bb4027a69d16450185d1bae3c01fa891",
        "IPY_MODEL_63be157acfa140fe9e3511b475a3133a"
       ],
       "layout": "IPY_MODEL_138150f9bdb1422ab8882f7ce5a87120"
      }
     },
     "3f1c505002f446b6b293e284883bc16f": {
      "model_module": "@jupyter-widgets/controls",
      "model_module_version": "1.2.0",
      "model_name": "ButtonStyleModel",
      "state": {
       "button_color": "lightgreen"
      }
     },
     "40046ec08fe7413caee18180f4da2838": {
      "model_module": "@jupyter-widgets/controls",
      "model_module_version": "1.2.0",
      "model_name": "CheckboxModel",
      "state": {
       "description": "Es fungiert als Satzglied mit der syntaktischen Funktion Adverbial.",
       "disabled": false,
       "layout": "IPY_MODEL_805e25e260484602a4c99cebd8bff16b",
       "style": "IPY_MODEL_279e877234db43ed877a786098e641b4",
       "value": true
      }
     },
     "400b5da948924f6cb68406dd0d4b429e": {
      "model_module": "@jupyter-widgets/controls",
      "model_module_version": "1.2.0",
      "model_name": "HTMLModel",
      "state": {
       "layout": "IPY_MODEL_9d5aeda250ae4dfab20430a98016b60d",
       "style": "IPY_MODEL_e754920615624dc3835141909edd9ada",
       "value": "<h4 style=\"font-size:14px;\">. Es gehört zu einer komplexen</h4>"
      }
     },
     "402ceea71eb44a45b7567fbf4f0330c9": {
      "model_module": "@jupyter-widgets/base",
      "model_module_version": "1.0.0",
      "model_name": "LayoutModel",
      "state": {
       "width": "600px"
      }
     },
     "4141abd042bd40fdaedb820636146847": {
      "model_module": "@jupyter-widgets/base",
      "model_module_version": "1.0.0",
      "model_name": "LayoutModel",
      "state": {
       "width": "150px"
      }
     },
     "41dd79fb980a442baaad21385e36c97a": {
      "model_module": "@jupyter-widgets/controls",
      "model_module_version": "1.2.0",
      "model_name": "DescriptionStyleModel",
      "state": {
       "description_width": ""
      }
     },
     "4298f24d91334c26bfaa89dc82dad655": {
      "model_module": "@jupyter-widgets/controls",
      "model_module_version": "1.2.0",
      "model_name": "CheckboxModel",
      "state": {
       "description": "gleiche syntagmatische Position",
       "disabled": false,
       "layout": "IPY_MODEL_1451136d2ebd4833ade384dc0db20836",
       "style": "IPY_MODEL_fd42729f91ed4898bc5690025df2d996",
       "value": true
      }
     },
     "42a8f8eff1cb43df963ca454d8a14533": {
      "model_module": "@jupyter-widgets/controls",
      "model_module_version": "1.2.0",
      "model_name": "ButtonStyleModel",
      "state": {}
     },
     "430578908e8b4a5c80b4cd850566eb42": {
      "model_module": "@jupyter-widgets/base",
      "model_module_version": "1.0.0",
      "model_name": "LayoutModel",
      "state": {
       "width": "250px"
      }
     },
     "433ba766a9c342c4ab2698347120f937": {
      "model_module": "@jupyter-widgets/base",
      "model_module_version": "1.0.0",
      "model_name": "LayoutModel",
      "state": {
       "width": "250px"
      }
     },
     "43d68005f7224580854fc93531805af6": {
      "model_module": "@jupyter-widgets/base",
      "model_module_version": "1.0.0",
      "model_name": "LayoutModel",
      "state": {
       "width": "150px"
      }
     },
     "43e7cfd185394a2c949920f3cb6eb243": {
      "model_module": "@jupyter-widgets/base",
      "model_module_version": "1.0.0",
      "model_name": "LayoutModel",
      "state": {
       "width": "600px"
      }
     },
     "449ac54d72ae4c6195b94faef8f30618": {
      "model_module": "@jupyter-widgets/controls",
      "model_module_version": "1.2.0",
      "model_name": "VBoxModel",
      "state": {
       "children": [
        "IPY_MODEL_03deabd576c2416593ae7344fc1226c7",
        "IPY_MODEL_989bb301891c460ab841b74ebe62865c",
        "IPY_MODEL_f2e07464d0a840f48e86e5db8ec3a841",
        "IPY_MODEL_b3e77465379a4aea9b2c0dc0009ac3fd"
       ],
       "layout": "IPY_MODEL_b8bd26d65b8449e79d5f75aea2e74bee"
      }
     },
     "455946b56c33464ba2c4dfd133b2307d": {
      "model_module": "@jupyter-widgets/base",
      "model_module_version": "1.0.0",
      "model_name": "LayoutModel",
      "state": {}
     },
     "469a6c9136a6452bb8b5954ab18213af": {
      "model_module": "@jupyter-widgets/base",
      "model_module_version": "1.0.0",
      "model_name": "LayoutModel",
      "state": {}
     },
     "46a3c235f0104d53aa58bf23ed7fbdd6": {
      "model_module": "@jupyter-widgets/controls",
      "model_module_version": "1.2.0",
      "model_name": "ButtonStyleModel",
      "state": {}
     },
     "46c89f834d4146278ab93d720bbf877b": {
      "model_module": "@jupyter-widgets/base",
      "model_module_version": "1.0.0",
      "model_name": "LayoutModel",
      "state": {}
     },
     "479e0b6b401c4f49bc9aeeedbc919cae": {
      "model_module": "@jupyter-widgets/base",
      "model_module_version": "1.0.0",
      "model_name": "LayoutModel",
      "state": {
       "width": "150px"
      }
     },
     "4838048176e944e696fc8875eafada06": {
      "model_module": "@jupyter-widgets/controls",
      "model_module_version": "1.2.0",
      "model_name": "ButtonStyleModel",
      "state": {
       "button_color": "lightgreen"
      }
     },
     "48c75e6de8894e0790948507706a1152": {
      "model_module": "@jupyter-widgets/base",
      "model_module_version": "1.0.0",
      "model_name": "LayoutModel",
      "state": {
       "width": "250px"
      }
     },
     "49387799c9884b9d8e49ad46c45ab909": {
      "model_module": "@jupyter-widgets/controls",
      "model_module_version": "1.2.0",
      "model_name": "HBoxModel",
      "state": {
       "children": [
        "IPY_MODEL_db65e236b5684e438a72560e879198a9",
        "IPY_MODEL_9b7fd4d74bb047bd929d01915ee11297"
       ],
       "layout": "IPY_MODEL_c5568d99f61b444daa32b1d8efb0b604"
      }
     },
     "49e5bb7ae5854ac8aba8c9e3a04d3b4e": {
      "model_module": "@jupyter-widgets/base",
      "model_module_version": "1.0.0",
      "model_name": "LayoutModel",
      "state": {
       "width": "250px"
      }
     },
     "4a32b44ea9bc42dc8ac8bae25c934c83": {
      "model_module": "@jupyter-widgets/controls",
      "model_module_version": "1.2.0",
      "model_name": "VBoxModel",
      "state": {
       "children": [
        "IPY_MODEL_2a7b4c79986d41be8d175182b6a8c1b7",
        "IPY_MODEL_debe411adf894f97b68c63d076aa1be3",
        "IPY_MODEL_d5d6f3ae593e4c9bbd69b6851430ec71",
        "IPY_MODEL_bb4eb980bf0f45dba8852247d77cbf20"
       ],
       "layout": "IPY_MODEL_717c28e03381401aac6c64d374b747f5"
      }
     },
     "4aa5379855f1402db6fd20d39b3d8802": {
      "model_module": "@jupyter-widgets/controls",
      "model_module_version": "1.2.0",
      "model_name": "DescriptionStyleModel",
      "state": {
       "description_width": "initial"
      }
     },
     "4b0076c575534db59733e64a587ff671": {
      "model_module": "@jupyter-widgets/base",
      "model_module_version": "1.0.0",
      "model_name": "LayoutModel",
      "state": {
       "width": "250px"
      }
     },
     "4b57e58a3afc41fbbd2a10debafb982c": {
      "model_module": "@jupyter-widgets/controls",
      "model_module_version": "1.2.0",
      "model_name": "ButtonStyleModel",
      "state": {
       "button_color": "lightgreen"
      }
     },
     "4b65f85576cf4192821ec7b5ea13c748": {
      "model_module": "@jupyter-widgets/base",
      "model_module_version": "1.0.0",
      "model_name": "LayoutModel",
      "state": {}
     },
     "4c0561dd309241b5b3d9e1bcb9d5dc87": {
      "model_module": "@jupyter-widgets/base",
      "model_module_version": "1.0.0",
      "model_name": "LayoutModel",
      "state": {
       "justify_content": "center"
      }
     },
     "4c589515f3e64ac7b051e8df3969ce43": {
      "model_module": "@jupyter-widgets/controls",
      "model_module_version": "1.2.0",
      "model_name": "TextareaModel",
      "state": {
       "layout": "IPY_MODEL_a0e83be8625941eeb659fe7cb1ee50a1",
       "placeholder": "Type something",
       "style": "IPY_MODEL_cd1668605e3a41b5bad0f6aa4a170fc2",
       "value": "nltk.pos_tag()"
      }
     },
     "4d07640f2a7141a5b6ba7bfdbe9185ce": {
      "model_module": "@jupyter-widgets/base",
      "model_module_version": "1.0.0",
      "model_name": "LayoutModel",
      "state": {
       "width": "600px"
      }
     },
     "4d7d8d6603404170af32c3892d60b283": {
      "model_module": "@jupyter-widgets/controls",
      "model_module_version": "1.2.0",
      "model_name": "DescriptionStyleModel",
      "state": {
       "description_width": ""
      }
     },
     "4dd6fae54cce4727990b0249ceb940c9": {
      "model_module": "@jupyter-widgets/base",
      "model_module_version": "1.0.0",
      "model_name": "LayoutModel",
      "state": {
       "justify_content": "center"
      }
     },
     "4e809505c0c248099e68beb7d9cc3528": {
      "model_module": "@jupyter-widgets/controls",
      "model_module_version": "1.2.0",
      "model_name": "HBoxModel",
      "state": {
       "children": [
        "IPY_MODEL_031b6e6ee21f4013a5bd6a035e3f2d23",
        "IPY_MODEL_4eeefc797ce74d97858a7a83197584b9"
       ],
       "layout": "IPY_MODEL_e17aec15b4e44422acd2c1879b2e745c"
      }
     },
     "4e987ddbd1234d829f014774add444c4": {
      "model_module": "@jupyter-widgets/controls",
      "model_module_version": "1.2.0",
      "model_name": "ButtonStyleModel",
      "state": {
       "button_color": "lightgreen"
      }
     },
     "4eeefc797ce74d97858a7a83197584b9": {
      "model_module": "@jupyter-widgets/controls",
      "model_module_version": "1.2.0",
      "model_name": "ButtonModel",
      "state": {
       "description": "past participle",
       "layout": "IPY_MODEL_c967cdaa5e744d71a9b9f291d61b9287",
       "style": "IPY_MODEL_d1af1e444f8d47e0b9534709da3f53c9"
      }
     },
     "4fcf364d3f2941188a7b2ce98123eb7f": {
      "model_module": "@jupyter-widgets/controls",
      "model_module_version": "1.2.0",
      "model_name": "HBoxModel",
      "state": {
       "children": [
        "IPY_MODEL_f81c1fe6fcdd4c539805631efded5a82",
        "IPY_MODEL_cf9303dff3b443b4b4e3b5cc4a0da366"
       ],
       "layout": "IPY_MODEL_0840638c9e5a4a5b9e7a26eee0871c7c"
      }
     },
     "509a284d40134be39576ff304637f57c": {
      "model_module": "@jupyter-widgets/controls",
      "model_module_version": "1.2.0",
      "model_name": "ButtonStyleModel",
      "state": {}
     },
     "512324c6870d4ac88e9b90c58e507402": {
      "model_module": "@jupyter-widgets/controls",
      "model_module_version": "1.2.0",
      "model_name": "DescriptionStyleModel",
      "state": {
       "description_width": "initial"
      }
     },
     "52ee5f790b524e1f8fdaa10c50c23484": {
      "model_module": "@jupyter-widgets/base",
      "model_module_version": "1.0.0",
      "model_name": "LayoutModel",
      "state": {
       "width": "250px"
      }
     },
     "53823bc48477492a82ec53dbd6e76619": {
      "model_module": "@jupyter-widgets/base",
      "model_module_version": "1.0.0",
      "model_name": "LayoutModel",
      "state": {
       "justify_content": "center"
      }
     },
     "541ed9aceb2e47bbae70776a3645960c": {
      "model_module": "@jupyter-widgets/controls",
      "model_module_version": "1.2.0",
      "model_name": "DescriptionStyleModel",
      "state": {
       "description_width": ""
      }
     },
     "54751d5cc5f34737ac84478bd660e1a5": {
      "model_module": "@jupyter-widgets/controls",
      "model_module_version": "1.2.0",
      "model_name": "DescriptionStyleModel",
      "state": {
       "description_width": ""
      }
     },
     "54abfc56ea724e8da41310228d748323": {
      "model_module": "@jupyter-widgets/controls",
      "model_module_version": "1.2.0",
      "model_name": "DescriptionStyleModel",
      "state": {
       "description_width": "initial"
      }
     },
     "5594824deb2e4d2599b017a1be528535": {
      "model_module": "@jupyter-widgets/base",
      "model_module_version": "1.0.0",
      "model_name": "LayoutModel",
      "state": {}
     },
     "55ec6aa0079b4c74bd5297ee9109e50f": {
      "model_module": "@jupyter-widgets/controls",
      "model_module_version": "1.2.0",
      "model_name": "ButtonStyleModel",
      "state": {
       "button_color": "lightgreen"
      }
     },
     "5674e8d7176c4538a5501c19daa94231": {
      "model_module": "@jupyter-widgets/controls",
      "model_module_version": "1.2.0",
      "model_name": "DescriptionStyleModel",
      "state": {
       "description_width": ""
      }
     },
     "56d0d989f2174da6b94ff3e558ad4f7b": {
      "model_module": "@jupyter-widgets/base",
      "model_module_version": "1.0.0",
      "model_name": "LayoutModel",
      "state": {
       "justify_content": "center"
      }
     },
     "56d6521184ad491489e720bce1d4df27": {
      "model_module": "@jupyter-widgets/controls",
      "model_module_version": "1.2.0",
      "model_name": "DescriptionStyleModel",
      "state": {
       "description_width": ""
      }
     },
     "578529a6321d4892a85fdf971c4eeffd": {
      "model_module": "@jupyter-widgets/base",
      "model_module_version": "1.0.0",
      "model_name": "LayoutModel",
      "state": {
       "width": "600px"
      }
     },
     "57b3d2e55fc64e248c43589ec73b1572": {
      "model_module": "@jupyter-widgets/controls",
      "model_module_version": "1.2.0",
      "model_name": "HBoxModel",
      "state": {
       "children": [
        "IPY_MODEL_5cf54bc9ba5d4a68a00a288be795a74e",
        "IPY_MODEL_d555798225ee4918b133e0d08f7f3092"
       ],
       "layout": "IPY_MODEL_d94c9da66be54cd283b1ca4303c5648e"
      }
     },
     "57c41c3ca7244cfea4f03d23e08259fe": {
      "model_module": "@jupyter-widgets/controls",
      "model_module_version": "1.2.0",
      "model_name": "DescriptionStyleModel",
      "state": {
       "description_width": ""
      }
     },
     "58eb1567c0894f61949ea2f0405af731": {
      "model_module": "@jupyter-widgets/controls",
      "model_module_version": "1.2.0",
      "model_name": "DescriptionStyleModel",
      "state": {
       "description_width": ""
      }
     },
     "5915f32344a640f3bb3526a135ec2f45": {
      "model_module": "@jupyter-widgets/base",
      "model_module_version": "1.0.0",
      "model_name": "LayoutModel",
      "state": {
       "justify_content": "center"
      }
     },
     "5943e9a420f04e24ad2b7b9628bb0815": {
      "model_module": "@jupyter-widgets/controls",
      "model_module_version": "1.2.0",
      "model_name": "HTMLModel",
      "state": {
       "layout": "IPY_MODEL_db932a2dffe04288bee155c267ed67c3",
       "style": "IPY_MODEL_41dd79fb980a442baaad21385e36c97a",
       "value": "<i>Vervollständigen Sie den Lückentext: </i>"
      }
     },
     "595efca9028a4f0aa6ee1309c10c9d5d": {
      "model_module": "@jupyter-widgets/controls",
      "model_module_version": "1.2.0",
      "model_name": "DescriptionStyleModel",
      "state": {
       "description_width": ""
      }
     },
     "59610e6633d4414c9b056da87f8b7526": {
      "model_module": "@jupyter-widgets/controls",
      "model_module_version": "1.2.0",
      "model_name": "HTMLModel",
      "state": {
       "layout": "IPY_MODEL_5915f32344a640f3bb3526a135ec2f45",
       "style": "IPY_MODEL_04378a42837a47a8a3936d253b14fee0",
       "value": "<i>Wählen Sie die <ins>eine</ins> korrekte Antwort aus: </i>"
      }
     },
     "59d51a6dbf55467bb73365f9a6378a0c": {
      "model_module": "@jupyter-widgets/controls",
      "model_module_version": "1.2.0",
      "model_name": "DescriptionStyleModel",
      "state": {
       "description_width": "initial"
      }
     },
     "5a28df807adf41f0bca425b6372b1318": {
      "model_module": "@jupyter-widgets/controls",
      "model_module_version": "1.2.0",
      "model_name": "ButtonStyleModel",
      "state": {}
     },
     "5a40625002c2451bbb9f7c4dcf287f6c": {
      "model_module": "@jupyter-widgets/base",
      "model_module_version": "1.0.0",
      "model_name": "LayoutModel",
      "state": {}
     },
     "5a84b46f25a649d59dec1b9de9272048": {
      "model_module": "@jupyter-widgets/base",
      "model_module_version": "1.0.0",
      "model_name": "LayoutModel",
      "state": {}
     },
     "5af74b894c074f13b743723be4314ba0": {
      "model_module": "@jupyter-widgets/base",
      "model_module_version": "1.0.0",
      "model_name": "LayoutModel",
      "state": {
       "width": "250px"
      }
     },
     "5b3f49e71b784b22a5106b89b8b094ab": {
      "model_module": "@jupyter-widgets/base",
      "model_module_version": "1.0.0",
      "model_name": "LayoutModel",
      "state": {
       "width": "250px"
      }
     },
     "5b79637db364480f9a226cb56c933623": {
      "model_module": "@jupyter-widgets/controls",
      "model_module_version": "1.2.0",
      "model_name": "ButtonStyleModel",
      "state": {}
     },
     "5c031b29cb9d48e3ae4dfe4c1077e863": {
      "model_module": "@jupyter-widgets/controls",
      "model_module_version": "1.2.0",
      "model_name": "DescriptionStyleModel",
      "state": {
       "description_width": ""
      }
     },
     "5cd4e429fe2d4249ab0e2fc584b7dde5": {
      "model_module": "@jupyter-widgets/base",
      "model_module_version": "1.0.0",
      "model_name": "LayoutModel",
      "state": {}
     },
     "5cf54bc9ba5d4a68a00a288be795a74e": {
      "model_module": "@jupyter-widgets/controls",
      "model_module_version": "1.2.0",
      "model_name": "ButtonModel",
      "state": {
       "description": "3rd singular present",
       "layout": "IPY_MODEL_1dcd977b4796496f9937807a8ac9e1d8",
       "style": "IPY_MODEL_c441983d80ec44f69cfca5c9b901aefc"
      }
     },
     "5f3a0984c96e449bab336b91744379c8": {
      "model_module": "@jupyter-widgets/controls",
      "model_module_version": "1.2.0",
      "model_name": "DescriptionStyleModel",
      "state": {
       "description_width": ""
      }
     },
     "5f6a21004d8f4c77ac873f30626e7513": {
      "model_module": "@jupyter-widgets/base",
      "model_module_version": "1.0.0",
      "model_name": "LayoutModel",
      "state": {}
     },
     "60b99d6a1ca2428485d1365633e0f7b3": {
      "model_module": "@jupyter-widgets/controls",
      "model_module_version": "1.2.0",
      "model_name": "DescriptionStyleModel",
      "state": {
       "description_width": ""
      }
     },
     "61388638b69e4e039d040d84672bc9b3": {
      "model_module": "@jupyter-widgets/controls",
      "model_module_version": "1.2.0",
      "model_name": "DescriptionStyleModel",
      "state": {
       "description_width": ""
      }
     },
     "618d4d3af61d48afa768372056bdcd27": {
      "model_module": "@jupyter-widgets/controls",
      "model_module_version": "1.2.0",
      "model_name": "ButtonStyleModel",
      "state": {}
     },
     "62377f5f2d524263b34e07a407f77636": {
      "model_module": "@jupyter-widgets/controls",
      "model_module_version": "1.2.0",
      "model_name": "DescriptionStyleModel",
      "state": {
       "description_width": ""
      }
     },
     "63374ae90adb429880a0e45c07b56b04": {
      "model_module": "@jupyter-widgets/controls",
      "model_module_version": "1.2.0",
      "model_name": "ButtonModel",
      "state": {
       "description": "Partikel",
       "layout": "IPY_MODEL_ea7bbaf4b87540c39fc46a851018dba0",
       "style": "IPY_MODEL_618d4d3af61d48afa768372056bdcd27"
      }
     },
     "63b939099af8496582d7556dc11c82a2": {
      "model_module": "@jupyter-widgets/controls",
      "model_module_version": "1.2.0",
      "model_name": "HBoxModel",
      "state": {
       "children": [
        "IPY_MODEL_dad6cd863c6a4d1789ae9808c49dfe9c"
       ],
       "layout": "IPY_MODEL_5cd4e429fe2d4249ab0e2fc584b7dde5"
      }
     },
     "63bc857b75784b65a54ceb3e5b93c5f9": {
      "model_module": "@jupyter-widgets/controls",
      "model_module_version": "1.2.0",
      "model_name": "VBoxModel",
      "state": {
       "children": [
        "IPY_MODEL_ce870b241daa4c3fa63e24ca4f3e262d",
        "IPY_MODEL_ef791f0183cd440b86c2d8dcc168f334",
        "IPY_MODEL_4c589515f3e64ac7b051e8df3969ce43",
        "IPY_MODEL_2cc2080a8c1c49b39537f9f36f53cfe9"
       ],
       "layout": "IPY_MODEL_5a84b46f25a649d59dec1b9de9272048"
      }
     },
     "63be157acfa140fe9e3511b475a3133a": {
      "model_module": "@jupyter-widgets/controls",
      "model_module_version": "1.2.0",
      "model_name": "HTMLModel",
      "state": {
       "layout": "IPY_MODEL_f33ff813eb85478bbda0d1d52c993102",
       "style": "IPY_MODEL_ec878761b90f447d935bf5b255b287b8",
       "value": "<h4 style=\"font-size:14px;\"><i>seinen Schlüsselbund zwar noch nie verloren haben.</i></h4>"
      }
     },
     "647b085b49914eefa1f1853d96b341a4": {
      "model_module": "@jupyter-widgets/controls",
      "model_module_version": "1.2.0",
      "model_name": "ButtonModel",
      "state": {
       "description": "Keine der anderen Möglichkeiten",
       "layout": "IPY_MODEL_b20d6a42a95941c98400684478a5393c",
       "style": "IPY_MODEL_1dc065a2e56848cfb3aec5ee543b9def"
      }
     },
     "65760ae539c9452d96b29597f86d80a4": {
      "model_module": "@jupyter-widgets/controls",
      "model_module_version": "1.2.0",
      "model_name": "DescriptionStyleModel",
      "state": {
       "description_width": ""
      }
     },
     "658de94cd22242a392ddf5de5d1ec2e8": {
      "model_module": "@jupyter-widgets/base",
      "model_module_version": "1.0.0",
      "model_name": "LayoutModel",
      "state": {
       "width": "600px"
      }
     },
     "65c6440f3268493cb7327d6218fc0be8": {
      "model_module": "@jupyter-widgets/base",
      "model_module_version": "1.0.0",
      "model_name": "LayoutModel",
      "state": {
       "width": "250px"
      }
     },
     "663d71cb2c8043cf80dcdb06bb66ec6e": {
      "model_module": "@jupyter-widgets/controls",
      "model_module_version": "1.2.0",
      "model_name": "DescriptionStyleModel",
      "state": {
       "description_width": ""
      }
     },
     "679f0030657e4d4b88fc62d591aee408": {
      "model_module": "@jupyter-widgets/base",
      "model_module_version": "1.0.0",
      "model_name": "LayoutModel",
      "state": {
       "width": "250px"
      }
     },
     "6800f8aab6544b3d8cc68a72e70481f4": {
      "model_module": "@jupyter-widgets/controls",
      "model_module_version": "1.2.0",
      "model_name": "VBoxModel",
      "state": {
       "children": [
        "IPY_MODEL_8f6de41971a245e5b759996e4a881701",
        "IPY_MODEL_b836a1de88244e04af2a40c70a934956",
        "IPY_MODEL_f5c3b1bec3234ce3bc33178cf42192ba",
        "IPY_MODEL_0cbe9fb33026426396889a83440252cb"
       ],
       "layout": "IPY_MODEL_ed92453d0cfd44c189fd9837c2d6e55f"
      }
     },
     "686f5171b4724c2598f6778048519814": {
      "model_module": "@jupyter-widgets/controls",
      "model_module_version": "1.2.0",
      "model_name": "DescriptionStyleModel",
      "state": {
       "description_width": "initial"
      }
     },
     "68f7027f1d274efaa1e111b597e6e003": {
      "model_module": "@jupyter-widgets/base",
      "model_module_version": "1.0.0",
      "model_name": "LayoutModel",
      "state": {
       "width": "600px"
      }
     },
     "6909fd0fe1cb49a0987d9a97fd4bcb5e": {
      "model_module": "@jupyter-widgets/controls",
      "model_module_version": "1.2.0",
      "model_name": "ButtonModel",
      "state": {
       "description": "Adjektiv",
       "layout": "IPY_MODEL_84521226a7834a45addb75463ae1d988",
       "style": "IPY_MODEL_b0edfa7060f143b6a8130edc87ab1d7e"
      }
     },
     "6962b7e30f61438c9020a65372870e6a": {
      "model_module": "@jupyter-widgets/controls",
      "model_module_version": "1.2.0",
      "model_name": "DescriptionStyleModel",
      "state": {
       "description_width": ""
      }
     },
     "6a1c2cc68cfb42ad96bbb0eab0566964": {
      "model_module": "@jupyter-widgets/controls",
      "model_module_version": "1.2.0",
      "model_name": "DescriptionStyleModel",
      "state": {
       "description_width": "initial"
      }
     },
     "6b0a086a7a3544f19283c16ac7c71770": {
      "model_module": "@jupyter-widgets/base",
      "model_module_version": "1.0.0",
      "model_name": "LayoutModel",
      "state": {
       "justify_content": "center"
      }
     },
     "6c23d834283443d8a5200055407b4721": {
      "model_module": "@jupyter-widgets/base",
      "model_module_version": "1.0.0",
      "model_name": "LayoutModel",
      "state": {
       "justify_content": "center"
      }
     },
     "6c27ad9b46134cd39e06e19805268fe9": {
      "model_module": "@jupyter-widgets/controls",
      "model_module_version": "1.2.0",
      "model_name": "HTMLModel",
      "state": {
       "layout": "IPY_MODEL_9132a2af74014080a794abb6f73530ba",
       "style": "IPY_MODEL_0da22cb5c84b49f6b08bba937fb3ca90",
       "value": "<h4 style=\"font-size:14px;\">Sequenz unter Erhalt der</h4>"
      }
     },
     "6e2797b321bd4aca805c55f8d65c180d": {
      "model_module": "@jupyter-widgets/base",
      "model_module_version": "1.0.0",
      "model_name": "LayoutModel",
      "state": {
       "width": "600px"
      }
     },
     "6e347b484e4047c581934293a9d3699a": {
      "model_module": "@jupyter-widgets/controls",
      "model_module_version": "1.2.0",
      "model_name": "ButtonModel",
      "state": {
       "description": "gerund",
       "layout": "IPY_MODEL_10bf470b380b479d97bb4b0fad46ded8",
       "style": "IPY_MODEL_7f550a13e6b54f51b5a7516f33e25056"
      }
     },
     "6e3f2d6654214d47b4ffe2cf5cc6d543": {
      "model_module": "@jupyter-widgets/controls",
      "model_module_version": "1.2.0",
      "model_name": "ButtonStyleModel",
      "state": {}
     },
     "6e98dca7a8b747998e002f475166a2b5": {
      "model_module": "@jupyter-widgets/controls",
      "model_module_version": "1.2.0",
      "model_name": "HTMLModel",
      "state": {
       "layout": "IPY_MODEL_53823bc48477492a82ec53dbd6e76619",
       "style": "IPY_MODEL_001549802c97480087dabe248994b6ba",
       "value": "<h4 style=\"font-size:14px;\">Was bedeutet das Tag <i>VBN</i> im Browntagset (siehe 5.7)?</h4>"
      }
     },
     "6ebabff80f0c41439850d163c89873e9": {
      "model_module": "@jupyter-widgets/controls",
      "model_module_version": "1.2.0",
      "model_name": "HTMLModel",
      "state": {
       "layout": "IPY_MODEL_6b0a086a7a3544f19283c16ac7c71770",
       "style": "IPY_MODEL_57c41c3ca7244cfea4f03d23e08259fe",
       "value": "<i>Vervollständigen Sie den Lückentext: </i>"
      }
     },
     "6f56e8ff5f2e4c18b3e2646c8db8632c": {
      "model_module": "@jupyter-widgets/controls",
      "model_module_version": "1.2.0",
      "model_name": "ButtonStyleModel",
      "state": {}
     },
     "6fe19e8019a04ff297dc9877d18ae016": {
      "model_module": "@jupyter-widgets/controls",
      "model_module_version": "1.2.0",
      "model_name": "HBoxModel",
      "state": {
       "children": [
        "IPY_MODEL_c391841557cf4df38baad78570c68513",
        "IPY_MODEL_647b085b49914eefa1f1853d96b341a4"
       ],
       "layout": "IPY_MODEL_f76ca4aa662d470c9ae273279cb9f93a"
      }
     },
     "6ff51eab5362409fa8a3775c6a70abaf": {
      "model_module": "@jupyter-widgets/controls",
      "model_module_version": "1.2.0",
      "model_name": "ButtonStyleModel",
      "state": {}
     },
     "7028d42193374931b8b4ba85fd674c74": {
      "model_module": "@jupyter-widgets/base",
      "model_module_version": "1.0.0",
      "model_name": "LayoutModel",
      "state": {
       "width": "250px"
      }
     },
     "707279f4420941b3a1b2d193b8d58ddb": {
      "model_module": "@jupyter-widgets/base",
      "model_module_version": "1.0.0",
      "model_name": "LayoutModel",
      "state": {}
     },
     "712a269507a54c4e9e6f62250b458669": {
      "model_module": "@jupyter-widgets/controls",
      "model_module_version": "1.2.0",
      "model_name": "ButtonModel",
      "state": {
       "description": "Adverb",
       "layout": "IPY_MODEL_a117dcac63c64741add567d41f8bd30f",
       "style": "IPY_MODEL_ab509ab1388e461486740f157feea562"
      }
     },
     "7172f0e8ac344b91b26d64310094e140": {
      "model_module": "@jupyter-widgets/base",
      "model_module_version": "1.0.0",
      "model_name": "LayoutModel",
      "state": {
       "width": "600px"
      }
     },
     "717c28e03381401aac6c64d374b747f5": {
      "model_module": "@jupyter-widgets/base",
      "model_module_version": "1.0.0",
      "model_name": "LayoutModel",
      "state": {}
     },
     "71a985fedd7d405f8758721f84c5634a": {
      "model_module": "@jupyter-widgets/controls",
      "model_module_version": "1.2.0",
      "model_name": "ButtonStyleModel",
      "state": {}
     },
     "7279d9572ce54df487aab7ba0d7ecf9a": {
      "model_module": "@jupyter-widgets/base",
      "model_module_version": "1.0.0",
      "model_name": "LayoutModel",
      "state": {
       "align_content": "stretch",
       "align_items": "stretch",
       "display": "inline-flex",
       "flex": "flex-grow",
       "flex_flow": "row wrap",
       "justify_content": "flex-start"
      }
     },
     "72e35d203fcc411686d45efe3410039a": {
      "model_module": "@jupyter-widgets/controls",
      "model_module_version": "1.2.0",
      "model_name": "VBoxModel",
      "state": {
       "children": [
        "IPY_MODEL_6ebabff80f0c41439850d163c89873e9",
        "IPY_MODEL_e0990e53b749452dab20361c3da5e849",
        "IPY_MODEL_c45b13f15e25492baef1aa268d47c183"
       ],
       "layout": "IPY_MODEL_fbd565c5222c42c28c7b4127b1c7bc57"
      }
     },
     "73475409bf894c878e044f92c5ff74ed": {
      "model_module": "@jupyter-widgets/base",
      "model_module_version": "1.0.0",
      "model_name": "LayoutModel",
      "state": {}
     },
     "7484efad54cd4c21b43c07857b9ade07": {
      "model_module": "@jupyter-widgets/base",
      "model_module_version": "1.0.0",
      "model_name": "LayoutModel",
      "state": {}
     },
     "74e506220a334791b21c8779cf1861d3": {
      "model_module": "@jupyter-widgets/controls",
      "model_module_version": "1.2.0",
      "model_name": "HTMLModel",
      "state": {
       "layout": "IPY_MODEL_9ced5394accf476c98002f512bda38fe",
       "style": "IPY_MODEL_a1200b7d06e14b7b883643d4b00152cd",
       "value": "<i>Wählen Sie die <ins>eine</ins> korrekte Antwort aus: </i>"
      }
     },
     "758d40cc7f184243b2264831f40ab064": {
      "model_module": "@jupyter-widgets/base",
      "model_module_version": "1.0.0",
      "model_name": "LayoutModel",
      "state": {
       "width": "600px"
      }
     },
     "759699d6b15e4d28bf7a45182a3e5b51": {
      "model_module": "@jupyter-widgets/base",
      "model_module_version": "1.0.0",
      "model_name": "LayoutModel",
      "state": {}
     },
     "761c11aeb347486f9c84b275c9d9d066": {
      "model_module": "@jupyter-widgets/base",
      "model_module_version": "1.0.0",
      "model_name": "LayoutModel",
      "state": {
       "justify_content": "center"
      }
     },
     "7688b2049cfc4f4eb066e800cef26880": {
      "model_module": "@jupyter-widgets/base",
      "model_module_version": "1.0.0",
      "model_name": "LayoutModel",
      "state": {
       "width": "600px"
      }
     },
     "77167c9935234c219132fd3c0c326bd5": {
      "model_module": "@jupyter-widgets/controls",
      "model_module_version": "1.2.0",
      "model_name": "ButtonStyleModel",
      "state": {}
     },
     "77619603fa5b4460abb61434fc1f60e4": {
      "model_module": "@jupyter-widgets/controls",
      "model_module_version": "1.2.0",
      "model_name": "ButtonStyleModel",
      "state": {}
     },
     "7780e7f0dbe945d3bb8e376f82955507": {
      "model_module": "@jupyter-widgets/controls",
      "model_module_version": "1.2.0",
      "model_name": "VBoxModel",
      "state": {
       "children": [
        "IPY_MODEL_a133ddfc31e048e9863b277f0f8c14bd",
        "IPY_MODEL_204700e57fc7459aadc07bd0abfcfdc3",
        "IPY_MODEL_49387799c9884b9d8e49ad46c45ab909",
        "IPY_MODEL_a3c77a874087448d95d5b8aeb1583f07"
       ],
       "layout": "IPY_MODEL_86a55a19846a42f0b7825a8faed8cdef"
      }
     },
     "783156746d014d34815ff9bc61df40eb": {
      "model_module": "@jupyter-widgets/controls",
      "model_module_version": "1.2.0",
      "model_name": "ButtonModel",
      "state": {
       "description": "Korrekt?",
       "layout": "IPY_MODEL_d6b1ca119927453c9a4ed72e4a6c2787",
       "style": "IPY_MODEL_f430dab4212d4908b39797cc507a52f6"
      }
     },
     "78cadc21a68f4085af572ba2ac8bf5fa": {
      "model_module": "@jupyter-widgets/base",
      "model_module_version": "1.0.0",
      "model_name": "LayoutModel",
      "state": {}
     },
     "78ce1a251dcc4aaea5ceaa540c53b091": {
      "model_module": "@jupyter-widgets/base",
      "model_module_version": "1.0.0",
      "model_name": "LayoutModel",
      "state": {
       "width": "250px"
      }
     },
     "78fb7ef10da94f17885884d422529f91": {
      "model_module": "@jupyter-widgets/controls",
      "model_module_version": "1.2.0",
      "model_name": "VBoxModel",
      "state": {
       "children": [
        "IPY_MODEL_1e0dbb8a7da04a199aad9381e253132d",
        "IPY_MODEL_27939b625be64a28bc58fb049b96b4ce",
        "IPY_MODEL_2c91f3ac3a4e4dcc81d17671ae9538c8",
        "IPY_MODEL_3a298a8d280b470bbc8a37af0a8dd9a8"
       ],
       "layout": "IPY_MODEL_759699d6b15e4d28bf7a45182a3e5b51"
      }
     },
     "7924605e8f3349a9a6830cf44e89383d": {
      "model_module": "@jupyter-widgets/base",
      "model_module_version": "1.0.0",
      "model_name": "LayoutModel",
      "state": {}
     },
     "797ca9f9f64143ab863555202a3dacc8": {
      "model_module": "@jupyter-widgets/controls",
      "model_module_version": "1.2.0",
      "model_name": "HTMLModel",
      "state": {
       "layout": "IPY_MODEL_6c23d834283443d8a5200055407b4721",
       "style": "IPY_MODEL_54751d5cc5f34737ac84478bd660e1a5",
       "value": "<i>Wählen Sie die <ins>eine</ins> korrekte Antwort aus: </i>"
      }
     },
     "79b55b7ccb714cc98a593b92f954720e": {
      "model_module": "@jupyter-widgets/base",
      "model_module_version": "1.0.0",
      "model_name": "LayoutModel",
      "state": {}
     },
     "7ab560362cfc41ec872b2a98b947384b": {
      "model_module": "@jupyter-widgets/controls",
      "model_module_version": "1.2.0",
      "model_name": "HTMLModel",
      "state": {
       "layout": "IPY_MODEL_0652b65731f247eeb204016afb703956",
       "style": "IPY_MODEL_080dae6c928444b0b8e5c4e02b974234",
       "value": "<h4 style=\"font-size:14px;\">Welche Wortart könnte man für das Wort <i>gut</i> in Satz 2 vermuten, wenn man Adverbien nicht morphologisch, sondern semantisch charakterisiert (als Wortart, die der Modifizierung des Verbalgeschehens dient)?</h4>"
      }
     },
     "7b29b7dee2d94f559ef708242f01b2d5": {
      "model_module": "@jupyter-widgets/controls",
      "model_module_version": "1.2.0",
      "model_name": "HTMLModel",
      "state": {
       "layout": "IPY_MODEL_0444196ce18549e0a156cb092ff3483c",
       "style": "IPY_MODEL_2d354fc336194f5e9418a6284d362cca",
       "value": "<h4 style=\"font-size:14px;\">Was bedeutet das Tag <i>VBD</i> im Browntagset (siehe 5.7)?</h4>"
      }
     },
     "7b2e197c61d7426db4b20e957a746ce3": {
      "model_module": "@jupyter-widgets/controls",
      "model_module_version": "1.2.0",
      "model_name": "HBoxModel",
      "state": {
       "children": [
        "IPY_MODEL_0e9a69a92a094a35a02e51927a99f1d5",
        "IPY_MODEL_0f01c4c0a3b74fb294f3724ca983f382"
       ],
       "layout": "IPY_MODEL_275ff7fc0f7e472abecf42d3548f219e"
      }
     },
     "7c5cf97505514340803d3b062cd75dc9": {
      "model_module": "@jupyter-widgets/base",
      "model_module_version": "1.0.0",
      "model_name": "LayoutModel",
      "state": {
       "width": "600px"
      }
     },
     "7d195f3af0c845578c95fd5943c87593": {
      "model_module": "@jupyter-widgets/base",
      "model_module_version": "1.0.0",
      "model_name": "LayoutModel",
      "state": {
       "width": "150px"
      }
     },
     "7d1d9cc05afa49ce8fb5016e59127078": {
      "model_module": "@jupyter-widgets/base",
      "model_module_version": "1.0.0",
      "model_name": "LayoutModel",
      "state": {
       "width": "250px"
      }
     },
     "7f550a13e6b54f51b5a7516f33e25056": {
      "model_module": "@jupyter-widgets/controls",
      "model_module_version": "1.2.0",
      "model_name": "ButtonStyleModel",
      "state": {
       "button_color": "lightgreen"
      }
     },
     "805e25e260484602a4c99cebd8bff16b": {
      "model_module": "@jupyter-widgets/base",
      "model_module_version": "1.0.0",
      "model_name": "LayoutModel",
      "state": {
       "width": "600px"
      }
     },
     "809cc76b7f94488a86a4d67b997e6c29": {
      "model_module": "@jupyter-widgets/controls",
      "model_module_version": "1.2.0",
      "model_name": "DescriptionStyleModel",
      "state": {
       "description_width": "initial"
      }
     },
     "8194ebc23e9e47f9b721f03a7e1ddd10": {
      "model_module": "@jupyter-widgets/controls",
      "model_module_version": "1.2.0",
      "model_name": "HTMLModel",
      "state": {
       "layout": "IPY_MODEL_021e657f9e754da993fbecf95c7290c9",
       "style": "IPY_MODEL_663d71cb2c8043cf80dcdb06bb66ec6e",
       "value": "<h4 style=\"font-size:14px;\">Das Partizip <i>Verloren<i> ist eine</h4>"
      }
     },
     "81fb7f6833e949b7b8013c1648614dcf": {
      "model_module": "@jupyter-widgets/controls",
      "model_module_version": "1.2.0",
      "model_name": "DropdownModel",
      "state": {
       "_options_labels": [
        "kürzeren",
        "längeren",
        " "
       ],
       "index": 1,
       "layout": "IPY_MODEL_f904e6e0c7494743b06e26f39e8ce8b3",
       "style": "IPY_MODEL_d0357bc3815c420f94bb813afd17054e"
      }
     },
     "826bdf02a29149388a6b603da269f44e": {
      "model_module": "@jupyter-widgets/base",
      "model_module_version": "1.0.0",
      "model_name": "LayoutModel",
      "state": {}
     },
     "831e2e2678414332af3045b6abd31171": {
      "model_module": "@jupyter-widgets/base",
      "model_module_version": "1.0.0",
      "model_name": "LayoutModel",
      "state": {}
     },
     "84521226a7834a45addb75463ae1d988": {
      "model_module": "@jupyter-widgets/base",
      "model_module_version": "1.0.0",
      "model_name": "LayoutModel",
      "state": {
       "width": "250px"
      }
     },
     "84ba920402134380b23a6b74487f73e2": {
      "model_module": "@jupyter-widgets/controls",
      "model_module_version": "1.2.0",
      "model_name": "HTMLModel",
      "state": {
       "layout": "IPY_MODEL_ddfff279431e4730b6eb6c8c1a2d746b",
       "style": "IPY_MODEL_58eb1567c0894f61949ea2f0405af731",
       "value": "<i>Vervollständigen Sie den Lückentext: </i>"
      }
     },
     "850dbcb6dd7d4bceac1487576ee33d24": {
      "model_module": "@jupyter-widgets/base",
      "model_module_version": "1.0.0",
      "model_name": "LayoutModel",
      "state": {
       "justify_content": "center"
      }
     },
     "853963101fdd488699b4604969820a50": {
      "model_module": "@jupyter-widgets/controls",
      "model_module_version": "1.2.0",
      "model_name": "DescriptionStyleModel",
      "state": {
       "description_width": ""
      }
     },
     "85775aea5c81478dbcd3057f548fb4c5": {
      "model_module": "@jupyter-widgets/controls",
      "model_module_version": "1.2.0",
      "model_name": "DropdownModel",
      "state": {
       "_options_labels": [
        "NP",
        "PP",
        "VP",
        " "
       ],
       "index": 2,
       "layout": "IPY_MODEL_4141abd042bd40fdaedb820636146847",
       "style": "IPY_MODEL_4d7d8d6603404170af32c3892d60b283"
      }
     },
     "85d3e4e69a8a4da394fbe0c1fe122646": {
      "model_module": "@jupyter-widgets/base",
      "model_module_version": "1.0.0",
      "model_name": "LayoutModel",
      "state": {
       "width": "250px"
      }
     },
     "86172652330543f6afb69301f971c826": {
      "model_module": "@jupyter-widgets/controls",
      "model_module_version": "1.2.0",
      "model_name": "ButtonStyleModel",
      "state": {
       "button_color": "lightgreen"
      }
     },
     "862606c047fd4c9186d3d5ea2f795c89": {
      "model_module": "@jupyter-widgets/controls",
      "model_module_version": "1.2.0",
      "model_name": "ButtonModel",
      "state": {
       "description": "gerund",
       "layout": "IPY_MODEL_1360d277c8624fda9bdbd9ba03b6ac4f",
       "style": "IPY_MODEL_6ff51eab5362409fa8a3775c6a70abaf"
      }
     },
     "86a55a19846a42f0b7825a8faed8cdef": {
      "model_module": "@jupyter-widgets/base",
      "model_module_version": "1.0.0",
      "model_name": "LayoutModel",
      "state": {}
     },
     "87df0392b77a443584e776ba7bd50664": {
      "model_module": "@jupyter-widgets/base",
      "model_module_version": "1.0.0",
      "model_name": "LayoutModel",
      "state": {}
     },
     "8850193be9de43b99894439f36c3d5a5": {
      "model_module": "@jupyter-widgets/controls",
      "model_module_version": "1.2.0",
      "model_name": "HTMLModel",
      "state": {
       "layout": "IPY_MODEL_4b65f85576cf4192821ec7b5ea13c748",
       "style": "IPY_MODEL_2dd76d71e28949fc8333d69af71fa1b3",
       "value": "<h4 style=\"font-size:14px;\">gestellt. Die gesamte</h4>"
      }
     },
     "88b7946108e3467691b4960fcaa85ef3": {
      "model_module": "@jupyter-widgets/controls",
      "model_module_version": "1.2.0",
      "model_name": "DropdownModel",
      "state": {
       "_options_labels": [
        "POS",
        "POS+Wort+POS",
        "Wort+POS-Tag",
        " "
       ],
       "index": 2,
       "layout": "IPY_MODEL_8a53bc1206b44220919caba5413bb08c",
       "style": "IPY_MODEL_88c2800097964acca1db9cc9632bf5cb"
      }
     },
     "88bb04c4922f4258a483b648a987cd71": {
      "model_module": "@jupyter-widgets/controls",
      "model_module_version": "1.2.0",
      "model_name": "DescriptionStyleModel",
      "state": {
       "description_width": ""
      }
     },
     "88c2800097964acca1db9cc9632bf5cb": {
      "model_module": "@jupyter-widgets/controls",
      "model_module_version": "1.2.0",
      "model_name": "DescriptionStyleModel",
      "state": {
       "description_width": ""
      }
     },
     "8a0ecdf730084fd1be7a21e2c4c99e99": {
      "model_module": "@jupyter-widgets/base",
      "model_module_version": "1.0.0",
      "model_name": "LayoutModel",
      "state": {}
     },
     "8a53bc1206b44220919caba5413bb08c": {
      "model_module": "@jupyter-widgets/base",
      "model_module_version": "1.0.0",
      "model_name": "LayoutModel",
      "state": {
       "width": "150px"
      }
     },
     "8bca303354c740c8adcc08f2f0343ad8": {
      "model_module": "@jupyter-widgets/controls",
      "model_module_version": "1.2.0",
      "model_name": "ButtonStyleModel",
      "state": {}
     },
     "8bdfeaeee5614269b023f97f14b0f30e": {
      "model_module": "@jupyter-widgets/controls",
      "model_module_version": "1.2.0",
      "model_name": "HTMLModel",
      "state": {
       "layout": "IPY_MODEL_9ff4413fec41485a9eb093b904fe3d9f",
       "style": "IPY_MODEL_1bee391e9add42158330547e1f733396",
       "value": "<h4 style=\"font-size:14px;\">umfasst die</h4>"
      }
     },
     "8bef0aef2af24e8cb01ccb31d1ff5c95": {
      "model_module": "@jupyter-widgets/controls",
      "model_module_version": "1.2.0",
      "model_name": "ButtonStyleModel",
      "state": {}
     },
     "8c71b0b7004241fa94faa4e296b588c6": {
      "model_module": "@jupyter-widgets/controls",
      "model_module_version": "1.2.0",
      "model_name": "CheckboxModel",
      "state": {
       "description": "gleiche Endungen",
       "disabled": false,
       "layout": "IPY_MODEL_ed11202dff8d4d3983e1494927a6c612",
       "style": "IPY_MODEL_4aa5379855f1402db6fd20d39b3d8802",
       "value": true
      }
     },
     "8d830acc2a6e4daa8e7edb05c5eeeaed": {
      "model_module": "@jupyter-widgets/base",
      "model_module_version": "1.0.0",
      "model_name": "LayoutModel",
      "state": {
       "width": "250px"
      }
     },
     "8e7b6212e916417b86a635a14a83c1ae": {
      "model_module": "@jupyter-widgets/controls",
      "model_module_version": "1.2.0",
      "model_name": "DescriptionStyleModel",
      "state": {
       "description_width": ""
      }
     },
     "8eca47861d884446a32f36a3053ae8bb": {
      "model_module": "@jupyter-widgets/controls",
      "model_module_version": "1.2.0",
      "model_name": "HTMLModel",
      "state": {
       "layout": "IPY_MODEL_038384a4cc1a4221ad28a9e840d546d6",
       "style": "IPY_MODEL_62377f5f2d524263b34e07a407f77636",
       "value": "<i>Markieren Sie <ins>alle</ins> passenden Antworten: </i>"
      }
     },
     "8f4bd9eb91174a858304459638e630a3": {
      "model_module": "@jupyter-widgets/controls",
      "model_module_version": "1.2.0",
      "model_name": "HBoxModel",
      "state": {
       "children": [
        "IPY_MODEL_a51e43d3531146ceaf87186c74990433",
        "IPY_MODEL_aafa75bc960c4e099b619c7648870d69"
       ],
       "layout": "IPY_MODEL_d3c4caf99ea5440c8d862c24e65f48b2"
      }
     },
     "8f6de41971a245e5b759996e4a881701": {
      "model_module": "@jupyter-widgets/controls",
      "model_module_version": "1.2.0",
      "model_name": "HTMLModel",
      "state": {
       "layout": "IPY_MODEL_87df0392b77a443584e776ba7bd50664",
       "style": "IPY_MODEL_ff7cfae399814856b7927b78d8c95b35",
       "value": "<h4 style=\"font-size:14px;\">Welche Eigenschaften hat <i>gut</i> in Satz 2?</h4>"
      }
     },
     "8fef429f33a64fab871724f2c24166ec": {
      "model_module": "@jupyter-widgets/controls",
      "model_module_version": "1.2.0",
      "model_name": "ButtonStyleModel",
      "state": {}
     },
     "9012e87389f0459e946d134b71d4ce00": {
      "model_module": "@jupyter-widgets/base",
      "model_module_version": "1.0.0",
      "model_name": "LayoutModel",
      "state": {
       "justify_content": "center"
      }
     },
     "9023dbd44cd940899ce9dd72ff749aa2": {
      "model_module": "@jupyter-widgets/controls",
      "model_module_version": "1.2.0",
      "model_name": "HTMLModel",
      "state": {
       "layout": "IPY_MODEL_b41567af6fb24ea09a50c3261dbd445b",
       "style": "IPY_MODEL_17205f6332764c1f82e11ba24ddf8e55",
       "value": "<h4 style=\"font-size:14px;\">Kategorie.</h4>"
      }
     },
     "9132a2af74014080a794abb6f73530ba": {
      "model_module": "@jupyter-widgets/base",
      "model_module_version": "1.0.0",
      "model_name": "LayoutModel",
      "state": {}
     },
     "915963737cd14c66ac8c2a8c8057bfb8": {
      "model_module": "@jupyter-widgets/controls",
      "model_module_version": "1.2.0",
      "model_name": "DescriptionStyleModel",
      "state": {
       "description_width": ""
      }
     },
     "92b751faa74a41c4a8647f30e122278b": {
      "model_module": "@jupyter-widgets/controls",
      "model_module_version": "1.2.0",
      "model_name": "DropdownModel",
      "state": {
       "_options_labels": [
        "morphologischen",
        "syntaktischen",
        " "
       ],
       "index": 1,
       "layout": "IPY_MODEL_283776f7685e44ecb91e25d0354b449a",
       "style": "IPY_MODEL_56d6521184ad491489e720bce1d4df27"
      }
     },
     "930728b8e2bc48ad97bba786590756f1": {
      "model_module": "@jupyter-widgets/controls",
      "model_module_version": "1.2.0",
      "model_name": "DescriptionStyleModel",
      "state": {
       "description_width": "initial"
      }
     },
     "939f9ab16ebe462993aa1c56243034a7": {
      "model_module": "@jupyter-widgets/base",
      "model_module_version": "1.0.0",
      "model_name": "LayoutModel",
      "state": {
       "width": "250px"
      }
     },
     "93e23cf6c7b948f68340780f422e2dfd": {
      "model_module": "@jupyter-widgets/base",
      "model_module_version": "1.0.0",
      "model_name": "LayoutModel",
      "state": {
       "justify_content": "center"
      }
     },
     "94209d0590fd4b49825c159e2d8bf485": {
      "model_module": "@jupyter-widgets/controls",
      "model_module_version": "1.2.0",
      "model_name": "ButtonStyleModel",
      "state": {
       "button_color": "lightgreen"
      }
     },
     "94425e4200bc4860910c8c91fb14a2d7": {
      "model_module": "@jupyter-widgets/controls",
      "model_module_version": "1.2.0",
      "model_name": "ButtonModel",
      "state": {
       "description": "base",
       "layout": "IPY_MODEL_7028d42193374931b8b4ba85fd674c74",
       "style": "IPY_MODEL_0a01b58be1d24480b3c29f37b676d560"
      }
     },
     "9509cc21adb1411896c4790cc032d446": {
      "model_module": "@jupyter-widgets/base",
      "model_module_version": "1.0.0",
      "model_name": "LayoutModel",
      "state": {
       "width": "250px"
      }
     },
     "952b2681f9424e239aec03bf172c0997": {
      "model_module": "@jupyter-widgets/base",
      "model_module_version": "1.0.0",
      "model_name": "LayoutModel",
      "state": {
       "width": "250px"
      }
     },
     "95749eecfa12414da8aae9f8271f041d": {
      "model_module": "@jupyter-widgets/controls",
      "model_module_version": "1.2.0",
      "model_name": "ButtonStyleModel",
      "state": {
       "button_color": "lightgreen"
      }
     },
     "958b6aecb41f4da7a0284eee989d10a6": {
      "model_module": "@jupyter-widgets/controls",
      "model_module_version": "1.2.0",
      "model_name": "VBoxModel",
      "state": {
       "children": [
        "IPY_MODEL_1e0fa4ef53a5427885b9729475ab76ff",
        "IPY_MODEL_97458d7ebe5f4a8093d6aab527e33c5e",
        "IPY_MODEL_196d14e5ec814228971e43aa3705d2c0",
        "IPY_MODEL_6fe19e8019a04ff297dc9877d18ae016"
       ],
       "layout": "IPY_MODEL_b784cfe47f824c51a9e2ba5d248b81da"
      }
     },
     "95a080d277e44d358ddb968e8b15d432": {
      "model_module": "@jupyter-widgets/base",
      "model_module_version": "1.0.0",
      "model_name": "LayoutModel",
      "state": {
       "width": "600px"
      }
     },
     "95de545c05244f61b4afd39862449bb3": {
      "model_module": "@jupyter-widgets/controls",
      "model_module_version": "1.2.0",
      "model_name": "CheckboxModel",
      "state": {
       "description": "Es bezeichnet die näheren Umstände des im Verb ausgedrückten Geschehens.",
       "disabled": false,
       "layout": "IPY_MODEL_43e7cfd185394a2c949920f3cb6eb243",
       "style": "IPY_MODEL_ab7a64f9853d466598410b8b66296be1",
       "value": true
      }
     },
     "968d80be9c4743d1bba904768bbbb95c": {
      "model_module": "@jupyter-widgets/base",
      "model_module_version": "1.0.0",
      "model_name": "LayoutModel",
      "state": {
       "width": "150px"
      }
     },
     "9722518d0ce94c11813a51bd73cdb0cd": {
      "model_module": "@jupyter-widgets/controls",
      "model_module_version": "1.2.0",
      "model_name": "DescriptionStyleModel",
      "state": {
       "description_width": ""
      }
     },
     "9724bd5d93084e4b87672c916fcdf5a0": {
      "model_module": "@jupyter-widgets/controls",
      "model_module_version": "1.2.0",
      "model_name": "DescriptionStyleModel",
      "state": {
       "description_width": "initial"
      }
     },
     "97458d7ebe5f4a8093d6aab527e33c5e": {
      "model_module": "@jupyter-widgets/controls",
      "model_module_version": "1.2.0",
      "model_name": "HTMLModel",
      "state": {
       "layout": "IPY_MODEL_850dbcb6dd7d4bceac1487576ee33d24",
       "style": "IPY_MODEL_0d7cb665a6a84682b9116f4b5f4c901f",
       "value": "<i>Wählen Sie die <ins>eine</ins> korrekte Antwort aus: </i>"
      }
     },
     "97e14adaf00a4cc4843119c674967372": {
      "model_module": "@jupyter-widgets/base",
      "model_module_version": "1.0.0",
      "model_name": "LayoutModel",
      "state": {
       "width": "600px"
      }
     },
     "9880d73c143d46518c9e60a8e627dc28": {
      "model_module": "@jupyter-widgets/controls",
      "model_module_version": "1.2.0",
      "model_name": "HTMLModel",
      "state": {
       "layout": "IPY_MODEL_d8a2e5633fa64bea9deb99bd1968365b",
       "style": "IPY_MODEL_5c031b29cb9d48e3ae4dfe4c1077e863",
       "value": "<h4 style=\"font-size:14px;\">Die Koordination von Phrasen ist dadurch eingeschränkt, dass nur</h4>"
      }
     },
     "989bb301891c460ab841b74ebe62865c": {
      "model_module": "@jupyter-widgets/controls",
      "model_module_version": "1.2.0",
      "model_name": "CheckboxModel",
      "state": {
       "description": "Nur beginnt eine Reise von tausend Meilen auch mit einem Schritt",
       "disabled": false,
       "layout": "IPY_MODEL_7c5cf97505514340803d3b062cd75dc9",
       "style": "IPY_MODEL_bf1642e29c9b4bcea370228afcc2558a",
       "value": false
      }
     },
     "99393cf344394c9d8393b423c8482193": {
      "model_module": "@jupyter-widgets/controls",
      "model_module_version": "1.2.0",
      "model_name": "VBoxModel",
      "state": {
       "children": [
        "IPY_MODEL_7ab560362cfc41ec872b2a98b947384b",
        "IPY_MODEL_b0ceaab5f86b4746b3a8fa0ab6428f67",
        "IPY_MODEL_07e059e4b8614ad8be6fd347e741b419",
        "IPY_MODEL_1fb4a60994f24c1b9c2b4e60647e67be"
       ],
       "layout": "IPY_MODEL_fa8b3bb49d0e42d9820c908a2d5f1368"
      }
     },
     "9953abf238b54155b0bb94ca3b1c7040": {
      "model_module": "@jupyter-widgets/base",
      "model_module_version": "1.0.0",
      "model_name": "LayoutModel",
      "state": {
       "width": "250px"
      }
     },
     "998b838039b049ae9300bdf1747d931e": {
      "model_module": "@jupyter-widgets/controls",
      "model_module_version": "1.2.0",
      "model_name": "ButtonModel",
      "state": {
       "description": "3rd singular present",
       "layout": "IPY_MODEL_9fba6fbef98f4efea1114afe6e13e948",
       "style": "IPY_MODEL_2cc82a6be8c24826b1736f7be73b49f9"
      }
     },
     "9a84dbe8b2854073bbd7cbe898cb3591": {
      "model_module": "@jupyter-widgets/controls",
      "model_module_version": "1.2.0",
      "model_name": "ButtonStyleModel",
      "state": {
       "button_color": "lightgreen"
      }
     },
     "9ac8088877e64585b104f68701c4e7f4": {
      "model_module": "@jupyter-widgets/base",
      "model_module_version": "1.0.0",
      "model_name": "LayoutModel",
      "state": {}
     },
     "9b3391f5566f44c2b9eca8112d472bf9": {
      "model_module": "@jupyter-widgets/controls",
      "model_module_version": "1.2.0",
      "model_name": "ButtonModel",
      "state": {
       "description": "base",
       "layout": "IPY_MODEL_85d3e4e69a8a4da394fbe0c1fe122646",
       "style": "IPY_MODEL_77619603fa5b4460abb61434fc1f60e4"
      }
     },
     "9b61d9fe74064bb2b9aa68c980c39c7b": {
      "model_module": "@jupyter-widgets/base",
      "model_module_version": "1.0.0",
      "model_name": "LayoutModel",
      "state": {
       "width": "250px"
      }
     },
     "9b76ba601d774a469dbc7f34765eb9b7": {
      "model_module": "@jupyter-widgets/base",
      "model_module_version": "1.0.0",
      "model_name": "LayoutModel",
      "state": {
       "width": "250px"
      }
     },
     "9b7fd4d74bb047bd929d01915ee11297": {
      "model_module": "@jupyter-widgets/controls",
      "model_module_version": "1.2.0",
      "model_name": "ButtonModel",
      "state": {
       "description": "Wortfolge",
       "layout": "IPY_MODEL_679f0030657e4d4b88fc62d591aee408",
       "style": "IPY_MODEL_8bef0aef2af24e8cb01ccb31d1ff5c95"
      }
     },
     "9ba71aefbf41499e9f88397024eeec75": {
      "model_module": "@jupyter-widgets/base",
      "model_module_version": "1.0.0",
      "model_name": "LayoutModel",
      "state": {
       "width": "600px"
      }
     },
     "9cab6abb9db3429a89e5dd5bd0e0097d": {
      "model_module": "@jupyter-widgets/controls",
      "model_module_version": "1.2.0",
      "model_name": "DescriptionStyleModel",
      "state": {
       "description_width": ""
      }
     },
     "9ced5394accf476c98002f512bda38fe": {
      "model_module": "@jupyter-widgets/base",
      "model_module_version": "1.0.0",
      "model_name": "LayoutModel",
      "state": {
       "justify_content": "center"
      }
     },
     "9d5aeda250ae4dfab20430a98016b60d": {
      "model_module": "@jupyter-widgets/base",
      "model_module_version": "1.0.0",
      "model_name": "LayoutModel",
      "state": {}
     },
     "9e36d0c6ba044aa5a7c13ee6bd38019d": {
      "model_module": "@jupyter-widgets/controls",
      "model_module_version": "1.2.0",
      "model_name": "HTMLModel",
      "state": {
       "layout": "IPY_MODEL_f5fd5b60b3da4e3b9ce67c0d9f19d768",
       "style": "IPY_MODEL_abf5de74ddd242a38c5d77c1998cdbf5",
       "value": "<h4 style=\"font-size:14px;\">Was sind syntaktische Kriterien für Wortkategorien?</h4>"
      }
     },
     "9e8a7b812b9c4e7aa9c2a9d69ef2ca33": {
      "model_module": "@jupyter-widgets/controls",
      "model_module_version": "1.2.0",
      "model_name": "CheckboxModel",
      "state": {
       "description": "gleiche Endungen",
       "disabled": false,
       "layout": "IPY_MODEL_f3edd9969858464a9c519987a8a49842",
       "style": "IPY_MODEL_c452c82f892b4804875859c961383d1b",
       "value": false
      }
     },
     "9f293fafc7504fa49267e64017955ef9": {
      "model_module": "@jupyter-widgets/controls",
      "model_module_version": "1.2.0",
      "model_name": "ButtonModel",
      "state": {
       "description": "simple past",
       "layout": "IPY_MODEL_2295b16297e7416db846ac6301d6fe7f",
       "style": "IPY_MODEL_23d408c48a0645c190417d13df63be1a"
      }
     },
     "9f7998b3d9f346b3b517ba35f89945c1": {
      "model_module": "@jupyter-widgets/base",
      "model_module_version": "1.0.0",
      "model_name": "LayoutModel",
      "state": {
       "width": "250px"
      }
     },
     "9fad08e144134393aabf357b5bb45bfa": {
      "model_module": "@jupyter-widgets/base",
      "model_module_version": "1.0.0",
      "model_name": "LayoutModel",
      "state": {}
     },
     "9fba6fbef98f4efea1114afe6e13e948": {
      "model_module": "@jupyter-widgets/base",
      "model_module_version": "1.0.0",
      "model_name": "LayoutModel",
      "state": {
       "width": "250px"
      }
     },
     "9ff4413fec41485a9eb093b904fe3d9f": {
      "model_module": "@jupyter-widgets/base",
      "model_module_version": "1.0.0",
      "model_name": "LayoutModel",
      "state": {}
     },
     "a08ca97135e84384af3cb2a539701f6d": {
      "model_module": "@jupyter-widgets/controls",
      "model_module_version": "1.2.0",
      "model_name": "DescriptionStyleModel",
      "state": {
       "description_width": ""
      }
     },
     "a0e83be8625941eeb659fe7cb1ee50a1": {
      "model_module": "@jupyter-widgets/base",
      "model_module_version": "1.0.0",
      "model_name": "LayoutModel",
      "state": {
       "width": "500px"
      }
     },
     "a117dcac63c64741add567d41f8bd30f": {
      "model_module": "@jupyter-widgets/base",
      "model_module_version": "1.0.0",
      "model_name": "LayoutModel",
      "state": {
       "width": "250px"
      }
     },
     "a1200b7d06e14b7b883643d4b00152cd": {
      "model_module": "@jupyter-widgets/controls",
      "model_module_version": "1.2.0",
      "model_name": "DescriptionStyleModel",
      "state": {
       "description_width": ""
      }
     },
     "a133ddfc31e048e9863b277f0f8c14bd": {
      "model_module": "@jupyter-widgets/controls",
      "model_module_version": "1.2.0",
      "model_name": "HTMLModel",
      "state": {
       "layout": "IPY_MODEL_037c3be53a804e12a0ca64de8e03f000",
       "style": "IPY_MODEL_fd9038a111e443ce9ea8b36d2ee095d9",
       "value": "<h4 style=\"font-size:14px;\">Was ist der Output eines Part-of-Speech-Taggers?</h4>"
      }
     },
     "a231e47ee5be4fd78e307a83fe023a69": {
      "model_module": "@jupyter-widgets/controls",
      "model_module_version": "1.2.0",
      "model_name": "HTMLModel",
      "state": {
       "layout": "IPY_MODEL_2f00e6af899943098c0809cb7179460d",
       "style": "IPY_MODEL_b030a7c927514f159ad47cdae9a275f0",
       "value": "<h4 style=\"font-size:14px;\">durch eine</h4>"
      }
     },
     "a3c77a874087448d95d5b8aeb1583f07": {
      "model_module": "@jupyter-widgets/controls",
      "model_module_version": "1.2.0",
      "model_name": "HBoxModel",
      "state": {
       "children": [
        "IPY_MODEL_1dae76be7e874a42bb39a2aec4061204"
       ],
       "layout": "IPY_MODEL_ab0c7b2b6f68433e808cfd1b3e0cae76"
      }
     },
     "a4718ba7a6844fa98258a0c14f9459c8": {
      "model_module": "@jupyter-widgets/base",
      "model_module_version": "1.0.0",
      "model_name": "LayoutModel",
      "state": {
       "justify_content": "center"
      }
     },
     "a51e43d3531146ceaf87186c74990433": {
      "model_module": "@jupyter-widgets/controls",
      "model_module_version": "1.2.0",
      "model_name": "ButtonModel",
      "state": {
       "description": "3rd singular present",
       "layout": "IPY_MODEL_7d1d9cc05afa49ce8fb5016e59127078",
       "style": "IPY_MODEL_2d9d269ccbdb4a67971992d5037d3710"
      }
     },
     "a5b0fb080b694b39af84b1113abdcc97": {
      "model_module": "@jupyter-widgets/controls",
      "model_module_version": "1.2.0",
      "model_name": "DescriptionStyleModel",
      "state": {
       "description_width": "initial"
      }
     },
     "a653a6ca9a8244e1a660210faac14bb2": {
      "model_module": "@jupyter-widgets/base",
      "model_module_version": "1.0.0",
      "model_name": "LayoutModel",
      "state": {
       "width": "250px"
      }
     },
     "a687a4c4afd34554b6affdb295d856de": {
      "model_module": "@jupyter-widgets/controls",
      "model_module_version": "1.2.0",
      "model_name": "VBoxModel",
      "state": {
       "children": [
        "IPY_MODEL_acf158c8d4b84b38bef2aa6d326f9c97",
        "IPY_MODEL_c85ccdab73084a638741a74157201772",
        "IPY_MODEL_23da8ef0790d4cb7b9fe68a40dc24af2",
        "IPY_MODEL_f9d6cdb0deaf42dd995144035adaa677"
       ],
       "layout": "IPY_MODEL_73475409bf894c878e044f92c5ff74ed"
      }
     },
     "aafa75bc960c4e099b619c7648870d69": {
      "model_module": "@jupyter-widgets/controls",
      "model_module_version": "1.2.0",
      "model_name": "ButtonModel",
      "state": {
       "description": "base",
       "layout": "IPY_MODEL_430578908e8b4a5c80b4cd850566eb42",
       "style": "IPY_MODEL_399b666422a349528f2c2f2c5cc3cd09"
      }
     },
     "ab0c7b2b6f68433e808cfd1b3e0cae76": {
      "model_module": "@jupyter-widgets/base",
      "model_module_version": "1.0.0",
      "model_name": "LayoutModel",
      "state": {}
     },
     "ab509ab1388e461486740f157feea562": {
      "model_module": "@jupyter-widgets/controls",
      "model_module_version": "1.2.0",
      "model_name": "ButtonStyleModel",
      "state": {}
     },
     "ab7a64f9853d466598410b8b66296be1": {
      "model_module": "@jupyter-widgets/controls",
      "model_module_version": "1.2.0",
      "model_name": "DescriptionStyleModel",
      "state": {
       "description_width": "initial"
      }
     },
     "abf5de74ddd242a38c5d77c1998cdbf5": {
      "model_module": "@jupyter-widgets/controls",
      "model_module_version": "1.2.0",
      "model_name": "DescriptionStyleModel",
      "state": {
       "description_width": ""
      }
     },
     "ac53a00c47f14d76affc3bb27812f5a1": {
      "model_module": "@jupyter-widgets/controls",
      "model_module_version": "1.2.0",
      "model_name": "DescriptionStyleModel",
      "state": {
       "description_width": ""
      }
     },
     "acf158c8d4b84b38bef2aa6d326f9c97": {
      "model_module": "@jupyter-widgets/controls",
      "model_module_version": "1.2.0",
      "model_name": "CheckboxModel",
      "state": {
       "description": "Zu einem Wort werden alle Synonyme gefunden.",
       "disabled": false,
       "layout": "IPY_MODEL_2353b8d099ea4e7aa70b257408023f49",
       "style": "IPY_MODEL_2a41f8464d274879b3cc721d5fcf5041",
       "value": false
      }
     },
     "ae298d54528347e5b426674e997c4033": {
      "model_module": "@jupyter-widgets/controls",
      "model_module_version": "1.2.0",
      "model_name": "ButtonModel",
      "state": {
       "description": "gerund",
       "layout": "IPY_MODEL_af99e6b8b3934a4493051f4056c3e9b0",
       "style": "IPY_MODEL_6f56e8ff5f2e4c18b3e2646c8db8632c"
      }
     },
     "ae37eb1d29a948db8f1aceff4b2523c9": {
      "model_module": "@jupyter-widgets/controls",
      "model_module_version": "1.2.0",
      "model_name": "ButtonStyleModel",
      "state": {}
     },
     "ae77f4fabbfe40148bf603c57b6ee595": {
      "model_module": "@jupyter-widgets/controls",
      "model_module_version": "1.2.0",
      "model_name": "ButtonModel",
      "state": {
       "description": "simple past",
       "layout": "IPY_MODEL_9509cc21adb1411896c4790cc032d446",
       "style": "IPY_MODEL_8fef429f33a64fab871724f2c24166ec"
      }
     },
     "aea4014b52f94475909a1e2cf35bf716": {
      "model_module": "@jupyter-widgets/base",
      "model_module_version": "1.0.0",
      "model_name": "LayoutModel",
      "state": {}
     },
     "af5eca17ce954e52912d34515d1fc1c4": {
      "model_module": "@jupyter-widgets/base",
      "model_module_version": "1.0.0",
      "model_name": "LayoutModel",
      "state": {}
     },
     "af99e6b8b3934a4493051f4056c3e9b0": {
      "model_module": "@jupyter-widgets/base",
      "model_module_version": "1.0.0",
      "model_name": "LayoutModel",
      "state": {
       "width": "250px"
      }
     },
     "af9a2b10ae6741c59dddd7aad902487e": {
      "model_module": "@jupyter-widgets/base",
      "model_module_version": "1.0.0",
      "model_name": "LayoutModel",
      "state": {}
     },
     "b030a7c927514f159ad47cdae9a275f0": {
      "model_module": "@jupyter-widgets/controls",
      "model_module_version": "1.2.0",
      "model_name": "DescriptionStyleModel",
      "state": {
       "description_width": ""
      }
     },
     "b06fd71e182f4d9291bc91624f4b639c": {
      "model_module": "@jupyter-widgets/controls",
      "model_module_version": "1.2.0",
      "model_name": "DescriptionStyleModel",
      "state": {
       "description_width": ""
      }
     },
     "b0ceaab5f86b4746b3a8fa0ab6428f67": {
      "model_module": "@jupyter-widgets/controls",
      "model_module_version": "1.2.0",
      "model_name": "HTMLModel",
      "state": {
       "layout": "IPY_MODEL_cdb2c311b2ae44cab3e2ccaff1ec9e60",
       "style": "IPY_MODEL_ecf6da45db9844e287ba06c302bafee2",
       "value": "<i>Wählen Sie die <ins>eine</ins> korrekte Antwort aus: </i>"
      }
     },
     "b0edfa7060f143b6a8130edc87ab1d7e": {
      "model_module": "@jupyter-widgets/controls",
      "model_module_version": "1.2.0",
      "model_name": "ButtonStyleModel",
      "state": {}
     },
     "b1d68a42e0c5450c81d858062c8de7d1": {
      "model_module": "@jupyter-widgets/base",
      "model_module_version": "1.0.0",
      "model_name": "LayoutModel",
      "state": {
       "width": "150px"
      }
     },
     "b20d6a42a95941c98400684478a5393c": {
      "model_module": "@jupyter-widgets/base",
      "model_module_version": "1.0.0",
      "model_name": "LayoutModel",
      "state": {
       "width": "250px"
      }
     },
     "b25232ef58274484913b24737573f026": {
      "model_module": "@jupyter-widgets/base",
      "model_module_version": "1.0.0",
      "model_name": "LayoutModel",
      "state": {}
     },
     "b28f46c995764680b1fe1dd180f097c5": {
      "model_module": "@jupyter-widgets/controls",
      "model_module_version": "1.2.0",
      "model_name": "VBoxModel",
      "state": {
       "children": [
        "IPY_MODEL_e6f9e709fd9c49fd815e6deeca3c091f",
        "IPY_MODEL_01f8d56a6bc449be89a12becb505a25c",
        "IPY_MODEL_2bc80191397b4fd7a44a74fcc65ae1a9",
        "IPY_MODEL_e7277d34e0874c6fbeba1f0fa4693899",
        "IPY_MODEL_ba0a802a7bec4c5b8cacc2c4842c5f4c"
       ],
       "layout": "IPY_MODEL_2fbe35fd785648439df341b12469ed53"
      }
     },
     "b3e77465379a4aea9b2c0dc0009ac3fd": {
      "model_module": "@jupyter-widgets/controls",
      "model_module_version": "1.2.0",
      "model_name": "CheckboxModel",
      "state": {
       "description": "Nur mit einem Schritt beginnt auch eine Reise von tausend Meilen.",
       "disabled": false,
       "layout": "IPY_MODEL_22ac093da5864cc9b9a5a52dc66c911f",
       "style": "IPY_MODEL_6a1c2cc68cfb42ad96bbb0eab0566964",
       "value": true
      }
     },
     "b41567af6fb24ea09a50c3261dbd445b": {
      "model_module": "@jupyter-widgets/base",
      "model_module_version": "1.0.0",
      "model_name": "LayoutModel",
      "state": {}
     },
     "b4c02c50819f4d5caab196f60b6ee8a9": {
      "model_module": "@jupyter-widgets/controls",
      "model_module_version": "1.2.0",
      "model_name": "CheckboxModel",
      "state": {
       "description": "Es ist flektierbar.",
       "disabled": false,
       "layout": "IPY_MODEL_7688b2049cfc4f4eb066e800cef26880",
       "style": "IPY_MODEL_59d51a6dbf55467bb73365f9a6378a0c",
       "value": false
      }
     },
     "b4dcc6165887430b8989feb637315857": {
      "model_module": "@jupyter-widgets/controls",
      "model_module_version": "1.2.0",
      "model_name": "VBoxModel",
      "state": {
       "children": [
        "IPY_MODEL_c8c3d28f22d947a7a6d5057278a029c5",
        "IPY_MODEL_df2dd704d8f540828147f50216433f75",
        "IPY_MODEL_a687a4c4afd34554b6affdb295d856de",
        "IPY_MODEL_224f9f0c706d470fb9f441c2b4adfcad"
       ],
       "layout": "IPY_MODEL_78cadc21a68f4085af572ba2ac8bf5fa"
      }
     },
     "b56e56db10c34753a5a6cd275d7b7b75": {
      "model_module": "@jupyter-widgets/controls",
      "model_module_version": "1.2.0",
      "model_name": "ButtonModel",
      "state": {
       "description": "3rd singular present",
       "layout": "IPY_MODEL_1a4d245397e045d1ac45dd1bb426a892",
       "style": "IPY_MODEL_19b7e45cd8304dd8b4d2b5d5b3781c97"
      }
     },
     "b6d2be1a533748b0ab90a6d1179bfa5f": {
      "model_module": "@jupyter-widgets/base",
      "model_module_version": "1.0.0",
      "model_name": "LayoutModel",
      "state": {}
     },
     "b7788f37b7c54abe97ade688895438f0": {
      "model_module": "@jupyter-widgets/controls",
      "model_module_version": "1.2.0",
      "model_name": "CheckboxModel",
      "state": {
       "description": "Es bezeichnet die näheren Umstände des im Verb ausgedrückten Geschehens.",
       "disabled": false,
       "layout": "IPY_MODEL_6e2797b321bd4aca805c55f8d65c180d",
       "style": "IPY_MODEL_e092278fb7694960a2c92957bf027376",
       "value": true
      }
     },
     "b784cfe47f824c51a9e2ba5d248b81da": {
      "model_module": "@jupyter-widgets/base",
      "model_module_version": "1.0.0",
      "model_name": "LayoutModel",
      "state": {}
     },
     "b7a906c37771405a863ce91880018e25": {
      "model_module": "@jupyter-widgets/controls",
      "model_module_version": "1.2.0",
      "model_name": "HTMLModel",
      "state": {
       "layout": "IPY_MODEL_f0144c5560014772bc6d93a00814289d",
       "style": "IPY_MODEL_3eac4fede4574455ad5aba07b44ac52b",
       "value": "<i>Wählen Sie die <ins>eine</ins> korrekte Antwort aus: </i>"
      }
     },
     "b836a1de88244e04af2a40c70a934956": {
      "model_module": "@jupyter-widgets/controls",
      "model_module_version": "1.2.0",
      "model_name": "HTMLModel",
      "state": {
       "layout": "IPY_MODEL_56d0d989f2174da6b94ff3e558ad4f7b",
       "style": "IPY_MODEL_3e81ac108081489daf61d5c01b407480",
       "value": "<i>Markieren Sie <ins>alle</ins> passenden Antworten: </i>"
      }
     },
     "b852fcdae06840ac81ab730bbd303279": {
      "model_module": "@jupyter-widgets/controls",
      "model_module_version": "1.2.0",
      "model_name": "VBoxModel",
      "state": {
       "children": [
        "IPY_MODEL_5943e9a420f04e24ad2b7b9628bb0815",
        "IPY_MODEL_3eb11065e09541f9bf2f8b848b293616",
        "IPY_MODEL_783156746d014d34815ff9bc61df40eb"
       ],
       "layout": "IPY_MODEL_24109130fe1d4d24aa2a6d63c6b852da"
      }
     },
     "b8bd26d65b8449e79d5f75aea2e74bee": {
      "model_module": "@jupyter-widgets/base",
      "model_module_version": "1.0.0",
      "model_name": "LayoutModel",
      "state": {}
     },
     "b941bcfbcd204bed92f8ccd72664788d": {
      "model_module": "@jupyter-widgets/base",
      "model_module_version": "1.0.0",
      "model_name": "LayoutModel",
      "state": {
       "justify_content": "center"
      }
     },
     "ba0a802a7bec4c5b8cacc2c4842c5f4c": {
      "model_module": "@jupyter-widgets/controls",
      "model_module_version": "1.2.0",
      "model_name": "HBoxModel",
      "state": {
       "children": [
        "IPY_MODEL_9f293fafc7504fa49267e64017955ef9"
       ],
       "layout": "IPY_MODEL_455946b56c33464ba2c4dfd133b2307d"
      }
     },
     "ba762deab358469986a14f73b413ca11": {
      "model_module": "@jupyter-widgets/controls",
      "model_module_version": "1.2.0",
      "model_name": "DescriptionStyleModel",
      "state": {
       "description_width": ""
      }
     },
     "bb3d1bb34978451b88987d6d89f8f06b": {
      "model_module": "@jupyter-widgets/base",
      "model_module_version": "1.0.0",
      "model_name": "LayoutModel",
      "state": {
       "justify_content": "center"
      }
     },
     "bb4027a69d16450185d1bae3c01fa891": {
      "model_module": "@jupyter-widgets/controls",
      "model_module_version": "1.2.0",
      "model_name": "DropdownModel",
      "state": {
       "_options_labels": [
        "Konstituenten",
        "Phrasen",
        " "
       ],
       "index": 0,
       "layout": "IPY_MODEL_b1d68a42e0c5450c81d858062c8de7d1",
       "style": "IPY_MODEL_65760ae539c9452d96b29597f86d80a4"
      }
     },
     "bb4eb980bf0f45dba8852247d77cbf20": {
      "model_module": "@jupyter-widgets/controls",
      "model_module_version": "1.2.0",
      "model_name": "CheckboxModel",
      "state": {
       "description": "Substitutionstest",
       "disabled": false,
       "layout": "IPY_MODEL_cfe471bf68874e41a85432cf1db18ae5",
       "style": "IPY_MODEL_c1bc18f26ba5423ca2a04a46be1dc16a",
       "value": false
      }
     },
     "bba8167dc27d4c1b93a958e86d0f579c": {
      "model_module": "@jupyter-widgets/controls",
      "model_module_version": "1.2.0",
      "model_name": "CheckboxModel",
      "state": {
       "description": "gleicher Kontext",
       "disabled": false,
       "layout": "IPY_MODEL_95a080d277e44d358ddb968e8b15d432",
       "style": "IPY_MODEL_e12c526ad8544eafa81668832fcfc8f8",
       "value": true
      }
     },
     "bbc49438f8634750ba5ebb0039327899": {
      "model_module": "@jupyter-widgets/base",
      "model_module_version": "1.0.0",
      "model_name": "LayoutModel",
      "state": {
       "width": "250px"
      }
     },
     "bc2c782eb16e4f74b309f8a4f6e45a1d": {
      "model_module": "@jupyter-widgets/controls",
      "model_module_version": "1.2.0",
      "model_name": "ButtonModel",
      "state": {
       "description": "Lösung zeigen",
       "layout": "IPY_MODEL_e6f08147a58d438caf60ea86c0c381ca",
       "style": "IPY_MODEL_ae37eb1d29a948db8f1aceff4b2523c9"
      }
     },
     "bc4fb2236c7546339f6bb32d3cf9ec17": {
      "model_module": "@jupyter-widgets/controls",
      "model_module_version": "1.2.0",
      "model_name": "ButtonModel",
      "state": {
       "description": "simple past",
       "layout": "IPY_MODEL_29717ad8e6c94c268a60f8012894fa31",
       "style": "IPY_MODEL_42a8f8eff1cb43df963ca454d8a14533"
      }
     },
     "bd81855b64a242448f36d5d9b5ebaa2f": {
      "model_module": "@jupyter-widgets/base",
      "model_module_version": "1.0.0",
      "model_name": "LayoutModel",
      "state": {
       "width": "250px"
      }
     },
     "be5dc54ade4a4784b7779131dba4ed41": {
      "model_module": "@jupyter-widgets/controls",
      "model_module_version": "1.2.0",
      "model_name": "HBoxModel",
      "state": {
       "children": [
        "IPY_MODEL_6e347b484e4047c581934293a9d3699a",
        "IPY_MODEL_eaeab54cebce4bcfbe5b0ec7ab65b124"
       ],
       "layout": "IPY_MODEL_2f578bd79bb448ec897fb7ba37ef3e16"
      }
     },
     "bf1642e29c9b4bcea370228afcc2558a": {
      "model_module": "@jupyter-widgets/controls",
      "model_module_version": "1.2.0",
      "model_name": "DescriptionStyleModel",
      "state": {
       "description_width": "initial"
      }
     },
     "bf47e4ac6d734d36b101ce9971a8b8bc": {
      "model_module": "@jupyter-widgets/controls",
      "model_module_version": "1.2.0",
      "model_name": "DescriptionStyleModel",
      "state": {
       "description_width": ""
      }
     },
     "bfd62955d0ef4858864db5888e68b69f": {
      "model_module": "@jupyter-widgets/controls",
      "model_module_version": "1.2.0",
      "model_name": "ButtonStyleModel",
      "state": {}
     },
     "c012939ddd2b40348f00eb105d97cb3c": {
      "model_module": "@jupyter-widgets/base",
      "model_module_version": "1.0.0",
      "model_name": "LayoutModel",
      "state": {
       "width": "600px"
      }
     },
     "c1bc18f26ba5423ca2a04a46be1dc16a": {
      "model_module": "@jupyter-widgets/controls",
      "model_module_version": "1.2.0",
      "model_name": "DescriptionStyleModel",
      "state": {
       "description_width": "initial"
      }
     },
     "c1c2f236e77d4baeb9431739924a70a2": {
      "model_module": "@jupyter-widgets/controls",
      "model_module_version": "1.2.0",
      "model_name": "DescriptionStyleModel",
      "state": {
       "description_width": ""
      }
     },
     "c1f41e0f3b8c4915bbb4c83ab1781418": {
      "model_module": "@jupyter-widgets/base",
      "model_module_version": "1.0.0",
      "model_name": "LayoutModel",
      "state": {}
     },
     "c29d795efd2e4e2d8fdd00fe4ae32375": {
      "model_module": "@jupyter-widgets/controls",
      "model_module_version": "1.2.0",
      "model_name": "VBoxModel",
      "state": {
       "children": [
        "IPY_MODEL_ea001b00edb04e3f967a1b92ebb133aa",
        "IPY_MODEL_ddd8b7be8fc54dd694935a1b0e396a72",
        "IPY_MODEL_190b63d883b84181a2b8a194f74598bc",
        "IPY_MODEL_284a7e82532f4451a03ec133990d8d13"
       ],
       "layout": "IPY_MODEL_0c155ab4fc7840b4b547366ffb2d2a0c"
      }
     },
     "c391841557cf4df38baad78570c68513": {
      "model_module": "@jupyter-widgets/controls",
      "model_module_version": "1.2.0",
      "model_name": "ButtonModel",
      "state": {
       "description": "Partikel",
       "layout": "IPY_MODEL_162880f921044b9989aff28c472961e2",
       "style": "IPY_MODEL_5b79637db364480f9a226cb56c933623"
      }
     },
     "c3b52ea7138d4dedb48fa388480c0b6d": {
      "model_module": "@jupyter-widgets/controls",
      "model_module_version": "1.2.0",
      "model_name": "DescriptionStyleModel",
      "state": {
       "description_width": "initial"
      }
     },
     "c441983d80ec44f69cfca5c9b901aefc": {
      "model_module": "@jupyter-widgets/controls",
      "model_module_version": "1.2.0",
      "model_name": "ButtonStyleModel",
      "state": {}
     },
     "c452c82f892b4804875859c961383d1b": {
      "model_module": "@jupyter-widgets/controls",
      "model_module_version": "1.2.0",
      "model_name": "DescriptionStyleModel",
      "state": {
       "description_width": "initial"
      }
     },
     "c45b13f15e25492baef1aa268d47c183": {
      "model_module": "@jupyter-widgets/controls",
      "model_module_version": "1.2.0",
      "model_name": "ButtonModel",
      "state": {
       "description": "Korrekt?",
       "layout": "IPY_MODEL_061328849d434f82b2ed71938b74d9ba",
       "style": "IPY_MODEL_c92680f4859d4e1293e716552a1af7f2"
      }
     },
     "c467ffecd23342caabd907b846eb6dc8": {
      "model_module": "@jupyter-widgets/controls",
      "model_module_version": "1.2.0",
      "model_name": "HBoxModel",
      "state": {
       "children": [
        "IPY_MODEL_e895d68fdb1a4deaabf5dc2a29674623"
       ],
       "layout": "IPY_MODEL_c4d57264f99c464a8ce6c9a379a1579a"
      }
     },
     "c4c4d47fd4a2456a81951b70437609c6": {
      "model_module": "@jupyter-widgets/controls",
      "model_module_version": "1.2.0",
      "model_name": "ButtonStyleModel",
      "state": {
       "button_color": "lightgreen"
      }
     },
     "c4d57264f99c464a8ce6c9a379a1579a": {
      "model_module": "@jupyter-widgets/base",
      "model_module_version": "1.0.0",
      "model_name": "LayoutModel",
      "state": {}
     },
     "c54c05fba5564549afa90dd2c9ac2c68": {
      "model_module": "@jupyter-widgets/base",
      "model_module_version": "1.0.0",
      "model_name": "LayoutModel",
      "state": {
       "width": "150px"
      }
     },
     "c54d79128fd245499f2119ab2ec62c1c": {
      "model_module": "@jupyter-widgets/controls",
      "model_module_version": "1.2.0",
      "model_name": "VBoxModel",
      "state": {
       "children": [
        "IPY_MODEL_129ac06e3970465ea40b3a6e459e33e5",
        "IPY_MODEL_9e8a7b812b9c4e7aa9c2a9d69ef2ca33",
        "IPY_MODEL_4298f24d91334c26bfaa89dc82dad655",
        "IPY_MODEL_bba8167dc27d4c1b93a958e86d0f579c"
       ],
       "layout": "IPY_MODEL_0e6605362fc540ac8d8cc6cdfda28bf9"
      }
     },
     "c5568d99f61b444daa32b1d8efb0b604": {
      "model_module": "@jupyter-widgets/base",
      "model_module_version": "1.0.0",
      "model_name": "LayoutModel",
      "state": {}
     },
     "c568ca512ffa45fd89763630c1825a61": {
      "model_module": "@jupyter-widgets/controls",
      "model_module_version": "1.2.0",
      "model_name": "VBoxModel",
      "state": {
       "children": [
        "IPY_MODEL_03a34ff8eafc49eeb98ee086bb175e3c",
        "IPY_MODEL_32c918129fde4703a88b1ad23b469b30",
        "IPY_MODEL_e6b3ab5c3a75411c863c7ee033298bca"
       ],
       "layout": "IPY_MODEL_d2a5902cd81d46e6bb4df110b12bc190"
      }
     },
     "c5c7d7ed827c4de189d2d8d3c6b35639": {
      "model_module": "@jupyter-widgets/controls",
      "model_module_version": "1.2.0",
      "model_name": "ButtonModel",
      "state": {
       "description": "Adjektiv",
       "layout": "IPY_MODEL_433ba766a9c342c4ab2698347120f937",
       "style": "IPY_MODEL_94209d0590fd4b49825c159e2d8bf485"
      }
     },
     "c632f07a7b5044e9a44ec2541b63f39f": {
      "model_module": "@jupyter-widgets/base",
      "model_module_version": "1.0.0",
      "model_name": "LayoutModel",
      "state": {
       "width": "150px"
      }
     },
     "c706c565bbea4088b1207b6b7db584b9": {
      "model_module": "@jupyter-widgets/controls",
      "model_module_version": "1.2.0",
      "model_name": "DropdownModel",
      "state": {
       "_options_labels": [
        "Mittelfeld",
        "Nachfeld",
        "Vorfeld",
        " "
       ],
       "index": 2,
       "layout": "IPY_MODEL_968d80be9c4743d1bba904768bbbb95c",
       "style": "IPY_MODEL_008b0160b7074df4b514e2f006223707"
      }
     },
     "c73276e09e2f438a8716346b8c021202": {
      "model_module": "@jupyter-widgets/controls",
      "model_module_version": "1.2.0",
      "model_name": "DescriptionStyleModel",
      "state": {
       "description_width": ""
      }
     },
     "c753f9bc35d94c899b053c1476baad99": {
      "model_module": "@jupyter-widgets/base",
      "model_module_version": "1.0.0",
      "model_name": "LayoutModel",
      "state": {
       "width": "150px"
      }
     },
     "c7d78c52a6ac4386b738122cb7ab72ac": {
      "model_module": "@jupyter-widgets/controls",
      "model_module_version": "1.2.0",
      "model_name": "ButtonStyleModel",
      "state": {}
     },
     "c82a69ded85c42a9b9f2f733036c1501": {
      "model_module": "@jupyter-widgets/controls",
      "model_module_version": "1.2.0",
      "model_name": "ButtonStyleModel",
      "state": {
       "button_color": "lightgreen"
      }
     },
     "c85ccdab73084a638741a74157201772": {
      "model_module": "@jupyter-widgets/controls",
      "model_module_version": "1.2.0",
      "model_name": "CheckboxModel",
      "state": {
       "description": "Zu einem Wort werden alle Wörter gefunden, die in gleichen Kontexten vorkommen.",
       "disabled": false,
       "layout": "IPY_MODEL_578529a6321d4892a85fdf971c4eeffd",
       "style": "IPY_MODEL_9724bd5d93084e4b87672c916fcdf5a0",
       "value": true
      }
     },
     "c860c3e365984565b924f74757a28a60": {
      "model_module": "@jupyter-widgets/controls",
      "model_module_version": "1.2.0",
      "model_name": "VBoxModel",
      "state": {
       "children": [
        "IPY_MODEL_ef1c3234f06140e38cab171aa8ff6cc7",
        "IPY_MODEL_ec4118028c02488ab42795375b38dae3",
        "IPY_MODEL_e2ff7fa678a04de6969fb90c333a9a47",
        "IPY_MODEL_2e46c610d5884ce2b558d4761b4017ea"
       ],
       "layout": "IPY_MODEL_29eac761d5934d5a81c73f13f57d612b"
      }
     },
     "c8c3d28f22d947a7a6d5057278a029c5": {
      "model_module": "@jupyter-widgets/controls",
      "model_module_version": "1.2.0",
      "model_name": "HTMLModel",
      "state": {
       "layout": "IPY_MODEL_f895a2fd2491446fa61ea5a9f1f14bd2",
       "style": "IPY_MODEL_2b67247d854549f188f0752961c08f5f",
       "value": "<h4 style=\"font-size:14px;\">Was leistet die Funktion <code>nltk.similar()</code>?</h4>"
      }
     },
     "c92680f4859d4e1293e716552a1af7f2": {
      "model_module": "@jupyter-widgets/controls",
      "model_module_version": "1.2.0",
      "model_name": "ButtonStyleModel",
      "state": {
       "button_color": "lightgreen"
      }
     },
     "c9377b564c4d4786b30875e53bc05cda": {
      "model_module": "@jupyter-widgets/base",
      "model_module_version": "1.0.0",
      "model_name": "LayoutModel",
      "state": {
       "justify_content": "center"
      }
     },
     "c967cdaa5e744d71a9b9f291d61b9287": {
      "model_module": "@jupyter-widgets/base",
      "model_module_version": "1.0.0",
      "model_name": "LayoutModel",
      "state": {
       "width": "250px"
      }
     },
     "c969b9f09b5c419d9b1a2de1be22924f": {
      "model_module": "@jupyter-widgets/controls",
      "model_module_version": "1.2.0",
      "model_name": "ButtonModel",
      "state": {
       "description": "3rd singular present",
       "layout": "IPY_MODEL_939f9ab16ebe462993aa1c56243034a7",
       "style": "IPY_MODEL_bfd62955d0ef4858864db5888e68b69f"
      }
     },
     "cb6d26390fde47129ee2ea4ef44f127e": {
      "model_module": "@jupyter-widgets/controls",
      "model_module_version": "1.2.0",
      "model_name": "HTMLModel",
      "state": {
       "layout": "IPY_MODEL_1b40ebb28e084534a56a47f3fa9fba33",
       "style": "IPY_MODEL_23bbf05eca5148319f06d70cf23aeadd",
       "value": "<h4 style=\"font-size:14px;\">-Tupeln aus einem englischen Korpus erstellt. Zeile 2 und 3 dienen der Erzeugung einer Frequenzliste von POS-Tags derjenigen Bigramme, deren zweites Element das POS-Tag</h4>"
      }
     },
     "cbf10e56bfce40c9b8e4e9e5347e71a8": {
      "model_module": "@jupyter-widgets/controls",
      "model_module_version": "1.2.0",
      "model_name": "VBoxModel",
      "state": {
       "children": [
        "IPY_MODEL_3a026258f9f84759a93aa5ab8c8485b3",
        "IPY_MODEL_dd076f6c321b475d9508b578a92a1fbc",
        "IPY_MODEL_e9c238129a7c4a0bad8e97eb2497c11f",
        "IPY_MODEL_7b2e197c61d7426db4b20e957a746ce3"
       ],
       "layout": "IPY_MODEL_f369c9ebd3d048ffb6a6335ee4345bca"
      }
     },
     "ccf5b7b3b7ca4dbc97f2f9e2497e10f3": {
      "model_module": "@jupyter-widgets/base",
      "model_module_version": "1.0.0",
      "model_name": "LayoutModel",
      "state": {
       "width": "250px"
      }
     },
     "cd1668605e3a41b5bad0f6aa4a170fc2": {
      "model_module": "@jupyter-widgets/controls",
      "model_module_version": "1.2.0",
      "model_name": "DescriptionStyleModel",
      "state": {
       "description_width": ""
      }
     },
     "cd2c831e231948dfb4c506c792305630": {
      "model_module": "@jupyter-widgets/controls",
      "model_module_version": "1.2.0",
      "model_name": "DropdownModel",
      "state": {
       "_options_labels": [
        "gleichartige",
        "unterschiedliche",
        " "
       ],
       "index": 0,
       "layout": "IPY_MODEL_7d195f3af0c845578c95fd5943c87593",
       "style": "IPY_MODEL_6962b7e30f61438c9020a65372870e6a"
      }
     },
     "cdb2c311b2ae44cab3e2ccaff1ec9e60": {
      "model_module": "@jupyter-widgets/base",
      "model_module_version": "1.0.0",
      "model_name": "LayoutModel",
      "state": {
       "justify_content": "center"
      }
     },
     "cdb4c4cd9fdb4e6f9e38e9e952c5a522": {
      "model_module": "@jupyter-widgets/controls",
      "model_module_version": "1.2.0",
      "model_name": "HBoxModel",
      "state": {
       "children": [
        "IPY_MODEL_ae77f4fabbfe40148bf603c57b6ee595"
       ],
       "layout": "IPY_MODEL_7924605e8f3349a9a6830cf44e89383d"
      }
     },
     "cdbf9dde32b34d8581959784f622dbd8": {
      "model_module": "@jupyter-widgets/controls",
      "model_module_version": "1.2.0",
      "model_name": "ButtonModel",
      "state": {
       "description": "Folge von Wortklassen",
       "layout": "IPY_MODEL_5af74b894c074f13b743723be4314ba0",
       "style": "IPY_MODEL_0bc6c01513b34c869aee10e8a3434c52"
      }
     },
     "cde4ec3ccecc4f258e8fce469ed161b3": {
      "model_module": "@jupyter-widgets/controls",
      "model_module_version": "1.2.0",
      "model_name": "DescriptionStyleModel",
      "state": {
       "description_width": ""
      }
     },
     "ce870b241daa4c3fa63e24ca4f3e262d": {
      "model_module": "@jupyter-widgets/controls",
      "model_module_version": "1.2.0",
      "model_name": "HTMLModel",
      "state": {
       "layout": "IPY_MODEL_8a0ecdf730084fd1be7a21e2c4c99e99",
       "style": "IPY_MODEL_ac53a00c47f14d76affc3bb27812f5a1",
       "value": "<h4 style=\"font-size:14px;\">Wie wirt der POS-Tagger im NLTK aufgerufen?</h4>"
      }
     },
     "cf85c7c8c761461dbccaff630108aa89": {
      "model_module": "@jupyter-widgets/base",
      "model_module_version": "1.0.0",
      "model_name": "LayoutModel",
      "state": {
       "width": "250px"
      }
     },
     "cf9303dff3b443b4b4e3b5cc4a0da366": {
      "model_module": "@jupyter-widgets/controls",
      "model_module_version": "1.2.0",
      "model_name": "ButtonModel",
      "state": {
       "description": "past participle",
       "layout": "IPY_MODEL_30b03a55c11a4339a194f98b61638ae8",
       "style": "IPY_MODEL_c4c4d47fd4a2456a81951b70437609c6"
      }
     },
     "cfe471bf68874e41a85432cf1db18ae5": {
      "model_module": "@jupyter-widgets/base",
      "model_module_version": "1.0.0",
      "model_name": "LayoutModel",
      "state": {
       "width": "600px"
      }
     },
     "d0357bc3815c420f94bb813afd17054e": {
      "model_module": "@jupyter-widgets/controls",
      "model_module_version": "1.2.0",
      "model_name": "DescriptionStyleModel",
      "state": {
       "description_width": ""
      }
     },
     "d06e48f5ae014667b3f9d8d36af87e72": {
      "model_module": "@jupyter-widgets/controls",
      "model_module_version": "1.2.0",
      "model_name": "HTMLModel",
      "state": {
       "layout": "IPY_MODEL_02400887e20647dab987794fadc2b62a",
       "style": "IPY_MODEL_13680b0f9e854436a19d71db40e7b243",
       "value": "<h4 style=\"font-size:14px;\">. Aus dieser wurde es extrahiert und ins</h4>"
      }
     },
     "d1af1e444f8d47e0b9534709da3f53c9": {
      "model_module": "@jupyter-widgets/controls",
      "model_module_version": "1.2.0",
      "model_name": "ButtonStyleModel",
      "state": {}
     },
     "d2013bc73d78423e90078ecdff95f3d7": {
      "model_module": "@jupyter-widgets/base",
      "model_module_version": "1.0.0",
      "model_name": "LayoutModel",
      "state": {
       "width": "350px"
      }
     },
     "d257896b4a0940e8910e5a0a29efc487": {
      "model_module": "@jupyter-widgets/controls",
      "model_module_version": "1.2.0",
      "model_name": "ButtonModel",
      "state": {
       "description": "Adverb",
       "layout": "IPY_MODEL_cf85c7c8c761461dbccaff630108aa89",
       "style": "IPY_MODEL_4e987ddbd1234d829f014774add444c4"
      }
     },
     "d2a5902cd81d46e6bb4df110b12bc190": {
      "model_module": "@jupyter-widgets/base",
      "model_module_version": "1.0.0",
      "model_name": "LayoutModel",
      "state": {}
     },
     "d2d907cca6124daa867ab9a6f8a26d96": {
      "model_module": "@jupyter-widgets/base",
      "model_module_version": "1.0.0",
      "model_name": "LayoutModel",
      "state": {
       "width": "250px"
      }
     },
     "d3788fe4c2f74851beb951c2da65197a": {
      "model_module": "@jupyter-widgets/controls",
      "model_module_version": "1.2.0",
      "model_name": "DescriptionStyleModel",
      "state": {
       "description_width": ""
      }
     },
     "d3c4caf99ea5440c8d862c24e65f48b2": {
      "model_module": "@jupyter-widgets/base",
      "model_module_version": "1.0.0",
      "model_name": "LayoutModel",
      "state": {}
     },
     "d444a289617046e6a76c22611f9e65c6": {
      "model_module": "@jupyter-widgets/base",
      "model_module_version": "1.0.0",
      "model_name": "LayoutModel",
      "state": {
       "justify_content": "center"
      }
     },
     "d46c5913a2f14721aad11b7de83ffa31": {
      "model_module": "@jupyter-widgets/controls",
      "model_module_version": "1.2.0",
      "model_name": "DescriptionStyleModel",
      "state": {
       "description_width": ""
      }
     },
     "d555798225ee4918b133e0d08f7f3092": {
      "model_module": "@jupyter-widgets/controls",
      "model_module_version": "1.2.0",
      "model_name": "ButtonModel",
      "state": {
       "description": "base",
       "layout": "IPY_MODEL_d74690e46ff547c0a07fa196a535ce65",
       "style": "IPY_MODEL_c7d78c52a6ac4386b738122cb7ab72ac"
      }
     },
     "d5d6f3ae593e4c9bbd69b6851430ec71": {
      "model_module": "@jupyter-widgets/controls",
      "model_module_version": "1.2.0",
      "model_name": "CheckboxModel",
      "state": {
       "description": "Permutationstest",
       "disabled": false,
       "layout": "IPY_MODEL_c012939ddd2b40348f00eb105d97cb3c",
       "style": "IPY_MODEL_1b9d31e97a284237a5aa5a7d9f770c90",
       "value": false
      }
     },
     "d6b1ca119927453c9a4ed72e4a6c2787": {
      "model_module": "@jupyter-widgets/base",
      "model_module_version": "1.0.0",
      "model_name": "LayoutModel",
      "state": {
       "width": "250px"
      }
     },
     "d6e0c49d75d943938b7844dcabf8fc1d": {
      "model_module": "@jupyter-widgets/controls",
      "model_module_version": "1.2.0",
      "model_name": "HBoxModel",
      "state": {
       "children": [
        "IPY_MODEL_c969b9f09b5c419d9b1a2de1be22924f",
        "IPY_MODEL_e78cd530525e490fb954053cb2cd674d"
       ],
       "layout": "IPY_MODEL_34b613dfc39c4f70baaa650ece56c382"
      }
     },
     "d74690e46ff547c0a07fa196a535ce65": {
      "model_module": "@jupyter-widgets/base",
      "model_module_version": "1.0.0",
      "model_name": "LayoutModel",
      "state": {
       "width": "250px"
      }
     },
     "d7ebe20a036448c68c2ee1ce04958d9d": {
      "model_module": "@jupyter-widgets/base",
      "model_module_version": "1.0.0",
      "model_name": "LayoutModel",
      "state": {
       "width": "150px"
      }
     },
     "d81f88d719c6403c882298a425aaff51": {
      "model_module": "@jupyter-widgets/controls",
      "model_module_version": "1.2.0",
      "model_name": "ButtonStyleModel",
      "state": {}
     },
     "d8a2e5633fa64bea9deb99bd1968365b": {
      "model_module": "@jupyter-widgets/base",
      "model_module_version": "1.0.0",
      "model_name": "LayoutModel",
      "state": {}
     },
     "d94c9da66be54cd283b1ca4303c5648e": {
      "model_module": "@jupyter-widgets/base",
      "model_module_version": "1.0.0",
      "model_name": "LayoutModel",
      "state": {}
     },
     "da66d4fd84d54b479350cd6789e08034": {
      "model_module": "@jupyter-widgets/controls",
      "model_module_version": "1.2.0",
      "model_name": "ButtonModel",
      "state": {
       "description": "Adverb",
       "layout": "IPY_MODEL_9b76ba601d774a469dbc7f34765eb9b7",
       "style": "IPY_MODEL_86172652330543f6afb69301f971c826"
      }
     },
     "dad6cd863c6a4d1789ae9808c49dfe9c": {
      "model_module": "@jupyter-widgets/controls",
      "model_module_version": "1.2.0",
      "model_name": "ButtonModel",
      "state": {
       "description": "simple past",
       "layout": "IPY_MODEL_fc0e473529c24147a92fe6ee799b00e8",
       "style": "IPY_MODEL_1a88796e5be140ce85a64cb819128804"
      }
     },
     "db65e236b5684e438a72560e879198a9": {
      "model_module": "@jupyter-widgets/controls",
      "model_module_version": "1.2.0",
      "model_name": "ButtonModel",
      "state": {
       "description": "Folge von Wortklassen",
       "layout": "IPY_MODEL_38391be0fdf24facae66d37d2bbdc672",
       "style": "IPY_MODEL_2a1c5f49dc9d45e69ebf68d6dff3d81e"
      }
     },
     "db932a2dffe04288bee155c267ed67c3": {
      "model_module": "@jupyter-widgets/base",
      "model_module_version": "1.0.0",
      "model_name": "LayoutModel",
      "state": {
       "justify_content": "center"
      }
     },
     "dc9a85e2707d44138378aff3f5018fb2": {
      "model_module": "@jupyter-widgets/controls",
      "model_module_version": "1.2.0",
      "model_name": "ButtonModel",
      "state": {
       "description": "past participle",
       "layout": "IPY_MODEL_9953abf238b54155b0bb94ca3b1c7040",
       "style": "IPY_MODEL_509a284d40134be39576ff304637f57c"
      }
     },
     "dd076f6c321b475d9508b578a92a1fbc": {
      "model_module": "@jupyter-widgets/controls",
      "model_module_version": "1.2.0",
      "model_name": "HTMLModel",
      "state": {
       "layout": "IPY_MODEL_9012e87389f0459e946d134b71d4ce00",
       "style": "IPY_MODEL_8e7b6212e916417b86a635a14a83c1ae",
       "value": "<i>Wählen Sie die <ins>eine</ins> korrekte Antwort aus: </i>"
      }
     },
     "ddadd407c2a2422eb89aebd8871a9e52": {
      "model_module": "@jupyter-widgets/controls",
      "model_module_version": "1.2.0",
      "model_name": "HTMLModel",
      "state": {
       "layout": "IPY_MODEL_5a40625002c2451bbb9f7c4dcf287f6c",
       "style": "IPY_MODEL_c1c2f236e77d4baeb9431739924a70a2",
       "value": "<h4 style=\"font-size:14px;\">In der ersten Zeile des Codes werden</h4>"
      }
     },
     "ddb4f399f1a04bc48602aa741c0fe228": {
      "model_module": "@jupyter-widgets/base",
      "model_module_version": "1.0.0",
      "model_name": "LayoutModel",
      "state": {
       "width": "250px"
      }
     },
     "ddd8b7be8fc54dd694935a1b0e396a72": {
      "model_module": "@jupyter-widgets/controls",
      "model_module_version": "1.2.0",
      "model_name": "HTMLModel",
      "state": {
       "layout": "IPY_MODEL_bb3d1bb34978451b88987d6d89f8f06b",
       "style": "IPY_MODEL_9722518d0ce94c11813a51bd73cdb0cd",
       "value": "<i>Wählen Sie die <ins>eine</ins> korrekte Antwort aus: </i>"
      }
     },
     "ddfff279431e4730b6eb6c8c1a2d746b": {
      "model_module": "@jupyter-widgets/base",
      "model_module_version": "1.0.0",
      "model_name": "LayoutModel",
      "state": {
       "justify_content": "center"
      }
     },
     "debe411adf894f97b68c63d076aa1be3": {
      "model_module": "@jupyter-widgets/controls",
      "model_module_version": "1.2.0",
      "model_name": "CheckboxModel",
      "state": {
       "description": "Koordinationstest",
       "disabled": false,
       "layout": "IPY_MODEL_758d40cc7f184243b2264831f40ab064",
       "style": "IPY_MODEL_809cc76b7f94488a86a4d67b997e6c29",
       "value": false
      }
     },
     "df2dd704d8f540828147f50216433f75": {
      "model_module": "@jupyter-widgets/controls",
      "model_module_version": "1.2.0",
      "model_name": "HTMLModel",
      "state": {
       "layout": "IPY_MODEL_c9377b564c4d4786b30875e53bc05cda",
       "style": "IPY_MODEL_255efa92e1cf45ec83b793cdf3fb4e5a",
       "value": "<i>Wählen Sie die <ins>eine</ins> korrekte Antwort aus: </i>"
      }
     },
     "dfde7232ca3143fcb05e9a10b6f808e8": {
      "model_module": "@jupyter-widgets/base",
      "model_module_version": "1.0.0",
      "model_name": "LayoutModel",
      "state": {
       "align_content": "stretch",
       "align_items": "stretch",
       "display": "inline-flex",
       "flex": "flex-grow",
       "flex_flow": "row wrap",
       "justify_content": "flex-start"
      }
     },
     "e001b25576ba4d319ae07c99031f968e": {
      "model_module": "@jupyter-widgets/controls",
      "model_module_version": "1.2.0",
      "model_name": "DescriptionStyleModel",
      "state": {
       "description_width": "initial"
      }
     },
     "e092278fb7694960a2c92957bf027376": {
      "model_module": "@jupyter-widgets/controls",
      "model_module_version": "1.2.0",
      "model_name": "DescriptionStyleModel",
      "state": {
       "description_width": "initial"
      }
     },
     "e0990e53b749452dab20361c3da5e849": {
      "model_module": "@jupyter-widgets/controls",
      "model_module_version": "1.2.0",
      "model_name": "BoxModel",
      "state": {
       "children": [
        "IPY_MODEL_ddadd407c2a2422eb89aebd8871a9e52",
        "IPY_MODEL_092d34d9bd1a4519b63f2618cb63680b",
        "IPY_MODEL_395da1cf276d415dafc6ffebcd3a6cc5",
        "IPY_MODEL_88b7946108e3467691b4960fcaa85ef3",
        "IPY_MODEL_cb6d26390fde47129ee2ea4ef44f127e",
        "IPY_MODEL_3a07d9918b2345f398fd7698200b3241",
        "IPY_MODEL_0ddc2192563e43619cccccce6d1618e1",
        "IPY_MODEL_1378a6c0e97e4c599d27e940a670f10f",
        "IPY_MODEL_25f4ddde71c04004b3bccccf10af348d"
       ],
       "layout": "IPY_MODEL_dfde7232ca3143fcb05e9a10b6f808e8"
      }
     },
     "e12c526ad8544eafa81668832fcfc8f8": {
      "model_module": "@jupyter-widgets/controls",
      "model_module_version": "1.2.0",
      "model_name": "DescriptionStyleModel",
      "state": {
       "description_width": "initial"
      }
     },
     "e15f4079defd4624932761c7c3dcb43b": {
      "model_module": "@jupyter-widgets/controls",
      "model_module_version": "1.2.0",
      "model_name": "HTMLModel",
      "state": {
       "layout": "IPY_MODEL_831e2e2678414332af3045b6abd31171",
       "style": "IPY_MODEL_18fed0ccf62b4bd8b5414f7c0fe21810",
       "value": "<h4 style=\"font-size:14px;\">, aber keine</h4>"
      }
     },
     "e17aec15b4e44422acd2c1879b2e745c": {
      "model_module": "@jupyter-widgets/base",
      "model_module_version": "1.0.0",
      "model_name": "LayoutModel",
      "state": {}
     },
     "e25f23287e1d4c808e61a50d93e02ba1": {
      "model_module": "@jupyter-widgets/controls",
      "model_module_version": "1.2.0",
      "model_name": "DescriptionStyleModel",
      "state": {
       "description_width": ""
      }
     },
     "e26cdae111e847f5a772b06d6779fdf7": {
      "model_module": "@jupyter-widgets/base",
      "model_module_version": "1.0.0",
      "model_name": "LayoutModel",
      "state": {}
     },
     "e2beb826d93041c5927b47c8b860be54": {
      "model_module": "@jupyter-widgets/base",
      "model_module_version": "1.0.0",
      "model_name": "LayoutModel",
      "state": {}
     },
     "e2d98d9925164e1babb20f6763dce690": {
      "model_module": "@jupyter-widgets/controls",
      "model_module_version": "1.2.0",
      "model_name": "ButtonStyleModel",
      "state": {
       "button_color": "lightgreen"
      }
     },
     "e2ff7fa678a04de6969fb90c333a9a47": {
      "model_module": "@jupyter-widgets/controls",
      "model_module_version": "1.2.0",
      "model_name": "VBoxModel",
      "state": {
       "children": [
        "IPY_MODEL_95de545c05244f61b4afd39862449bb3",
        "IPY_MODEL_f627ef8a6f1e493699a9c1d795269068",
        "IPY_MODEL_b4c02c50819f4d5caab196f60b6ee8a9"
       ],
       "layout": "IPY_MODEL_826bdf02a29149388a6b603da269f44e"
      }
     },
     "e3475664975344b5a8dd840e9d382cd9": {
      "model_module": "@jupyter-widgets/base",
      "model_module_version": "1.0.0",
      "model_name": "LayoutModel",
      "state": {}
     },
     "e4ebd8bc001d4dd293fedb5b7ec91ac0": {
      "model_module": "@jupyter-widgets/controls",
      "model_module_version": "1.2.0",
      "model_name": "VBoxModel",
      "state": {
       "children": [
        "IPY_MODEL_9e36d0c6ba044aa5a7c13ee6bd38019d",
        "IPY_MODEL_e74cec94ec1747a980b94210a193914f",
        "IPY_MODEL_c54d79128fd245499f2119ab2ec62c1c",
        "IPY_MODEL_2e1ba96986064a708dd0c1099f3858a0"
       ],
       "layout": "IPY_MODEL_46c89f834d4146278ab93d720bbf877b"
      }
     },
     "e619fabf382a4db88dfaf4161cdb8bcd": {
      "model_module": "@jupyter-widgets/base",
      "model_module_version": "1.0.0",
      "model_name": "LayoutModel",
      "state": {
       "width": "150px"
      }
     },
     "e6b3ab5c3a75411c863c7ee033298bca": {
      "model_module": "@jupyter-widgets/controls",
      "model_module_version": "1.2.0",
      "model_name": "ButtonModel",
      "state": {
       "description": "Korrekt?",
       "layout": "IPY_MODEL_bbc49438f8634750ba5ebb0039327899",
       "style": "IPY_MODEL_95749eecfa12414da8aae9f8271f041d"
      }
     },
     "e6f08147a58d438caf60ea86c0c381ca": {
      "model_module": "@jupyter-widgets/base",
      "model_module_version": "1.0.0",
      "model_name": "LayoutModel",
      "state": {
       "width": "150px"
      }
     },
     "e6f9e709fd9c49fd815e6deeca3c091f": {
      "model_module": "@jupyter-widgets/controls",
      "model_module_version": "1.2.0",
      "model_name": "HTMLModel",
      "state": {
       "layout": "IPY_MODEL_93e23cf6c7b948f68340780f422e2dfd",
       "style": "IPY_MODEL_bf47e4ac6d734d36b101ce9971a8b8bc",
       "value": "<h4 style=\"font-size:14px;\">Was bedeutet das Tag <i>VB</i> im Browntagset (siehe 5.7)?</h4>"
      }
     },
     "e7277d34e0874c6fbeba1f0fa4693899": {
      "model_module": "@jupyter-widgets/controls",
      "model_module_version": "1.2.0",
      "model_name": "HBoxModel",
      "state": {
       "children": [
        "IPY_MODEL_862606c047fd4c9186d3d5ea2f795c89",
        "IPY_MODEL_f32941c053fc42f89ae7468ab40484c2"
       ],
       "layout": "IPY_MODEL_af9a2b10ae6741c59dddd7aad902487e"
      }
     },
     "e74cec94ec1747a980b94210a193914f": {
      "model_module": "@jupyter-widgets/controls",
      "model_module_version": "1.2.0",
      "model_name": "HTMLModel",
      "state": {
       "layout": "IPY_MODEL_a4718ba7a6844fa98258a0c14f9459c8",
       "style": "IPY_MODEL_5f3a0984c96e449bab336b91744379c8",
       "value": "<i>Markieren Sie <ins>alle</ins> passenden Antworten: </i>"
      }
     },
     "e754920615624dc3835141909edd9ada": {
      "model_module": "@jupyter-widgets/controls",
      "model_module_version": "1.2.0",
      "model_name": "DescriptionStyleModel",
      "state": {
       "description_width": ""
      }
     },
     "e78cd530525e490fb954053cb2cd674d": {
      "model_module": "@jupyter-widgets/controls",
      "model_module_version": "1.2.0",
      "model_name": "ButtonModel",
      "state": {
       "description": "base",
       "layout": "IPY_MODEL_4b0076c575534db59733e64a587ff671",
       "style": "IPY_MODEL_2a058c57712248c8b5a73e005f80c38f"
      }
     },
     "e7a9de34d45042eab69dd26258863df2": {
      "model_module": "@jupyter-widgets/controls",
      "model_module_version": "1.2.0",
      "model_name": "DescriptionStyleModel",
      "state": {
       "description_width": ""
      }
     },
     "e7fa62c893b24413b54ee9a101f4a18a": {
      "model_module": "@jupyter-widgets/base",
      "model_module_version": "1.0.0",
      "model_name": "LayoutModel",
      "state": {}
     },
     "e895d68fdb1a4deaabf5dc2a29674623": {
      "model_module": "@jupyter-widgets/controls",
      "model_module_version": "1.2.0",
      "model_name": "ButtonModel",
      "state": {
       "description": "simple past",
       "layout": "IPY_MODEL_17987f3d6bcc450e8b5f88000b434157",
       "style": "IPY_MODEL_4b57e58a3afc41fbbd2a10debafb982c"
      }
     },
     "e9550df3bbf84933a908933781f72158": {
      "model_module": "@jupyter-widgets/base",
      "model_module_version": "1.0.0",
      "model_name": "LayoutModel",
      "state": {
       "align_content": "stretch",
       "align_items": "stretch",
       "display": "inline-flex",
       "flex": "flex-grow",
       "flex_flow": "row wrap",
       "justify_content": "flex-start"
      }
     },
     "e974faff44954b89b7176bb89d80770c": {
      "model_module": "@jupyter-widgets/base",
      "model_module_version": "1.0.0",
      "model_name": "LayoutModel",
      "state": {
       "width": "600px"
      }
     },
     "e98ee37d998342959542fe313caf3a60": {
      "model_module": "@jupyter-widgets/controls",
      "model_module_version": "1.2.0",
      "model_name": "DropdownModel",
      "state": {
       "_options_labels": [
        "kürzere",
        "längere",
        " "
       ],
       "index": 0,
       "layout": "IPY_MODEL_479e0b6b401c4f49bc9aeeedbc919cae",
       "style": "IPY_MODEL_0c1db0b22d444959b33a0e3a3d7f9a29"
      }
     },
     "e9c238129a7c4a0bad8e97eb2497c11f": {
      "model_module": "@jupyter-widgets/controls",
      "model_module_version": "1.2.0",
      "model_name": "HBoxModel",
      "state": {
       "children": [
        "IPY_MODEL_c5c7d7ed827c4de189d2d8d3c6b35639",
        "IPY_MODEL_712a269507a54c4e9e6f62250b458669"
       ],
       "layout": "IPY_MODEL_1c451fbc124546fd95a9f8a6864f6b24"
      }
     },
     "e9e4e4f6e165445fbd9daf024ffd0f4a": {
      "model_module": "@jupyter-widgets/controls",
      "model_module_version": "1.2.0",
      "model_name": "ButtonModel",
      "state": {
       "description": "Wortfolge",
       "layout": "IPY_MODEL_8d830acc2a6e4daa8e7edb05c5eeeaed",
       "style": "IPY_MODEL_077328a3a7c343b2986f49485e79f6ea"
      }
     },
     "ea001b00edb04e3f967a1b92ebb133aa": {
      "model_module": "@jupyter-widgets/controls",
      "model_module_version": "1.2.0",
      "model_name": "HTMLModel",
      "state": {
       "layout": "IPY_MODEL_17c4071e3de14c419eeb30f24ebcac8e",
       "style": "IPY_MODEL_9cab6abb9db3429a89e5dd5bd0e0097d",
       "value": "<h4 style=\"font-size:14px;\">Was ist der Input eines Part-of-Speech-Taggers?</h4>"
      }
     },
     "ea46fd4c0807408ea4ca554f51b95838": {
      "model_module": "@jupyter-widgets/controls",
      "model_module_version": "1.2.0",
      "model_name": "ButtonStyleModel",
      "state": {}
     },
     "ea7bbaf4b87540c39fc46a851018dba0": {
      "model_module": "@jupyter-widgets/base",
      "model_module_version": "1.0.0",
      "model_name": "LayoutModel",
      "state": {
       "width": "250px"
      }
     },
     "eaeab54cebce4bcfbe5b0ec7ab65b124": {
      "model_module": "@jupyter-widgets/controls",
      "model_module_version": "1.2.0",
      "model_name": "ButtonModel",
      "state": {
       "description": "past participle",
       "layout": "IPY_MODEL_132125981cda4f9aa7a841652781a68a",
       "style": "IPY_MODEL_6e3f2d6654214d47b4ffe2cf5cc6d543"
      }
     },
     "eba5293836e040f2a76ff7ceae161039": {
      "model_module": "@jupyter-widgets/base",
      "model_module_version": "1.0.0",
      "model_name": "LayoutModel",
      "state": {}
     },
     "ec4118028c02488ab42795375b38dae3": {
      "model_module": "@jupyter-widgets/controls",
      "model_module_version": "1.2.0",
      "model_name": "HTMLModel",
      "state": {
       "layout": "IPY_MODEL_4c0561dd309241b5b3d9e1bcb9d5dc87",
       "style": "IPY_MODEL_a08ca97135e84384af3cb2a539701f6d",
       "value": "<i>Markieren Sie <ins>alle</ins> passenden Antworten: </i>"
      }
     },
     "ec59e0a4ef2144fe9e0638dd45cdfb88": {
      "model_module": "@jupyter-widgets/controls",
      "model_module_version": "1.2.0",
      "model_name": "ButtonStyleModel",
      "state": {
       "button_color": "lightgreen"
      }
     },
     "ec878761b90f447d935bf5b255b287b8": {
      "model_module": "@jupyter-widgets/controls",
      "model_module_version": "1.2.0",
      "model_name": "DescriptionStyleModel",
      "state": {
       "description_width": ""
      }
     },
     "eca10f02d91a40f6b600dcf7fabeae57": {
      "model_module": "@jupyter-widgets/controls",
      "model_module_version": "1.2.0",
      "model_name": "CheckboxModel",
      "state": {
       "description": "Flexionstyp",
       "disabled": false,
       "layout": "IPY_MODEL_9ba71aefbf41499e9f88397024eeec75",
       "style": "IPY_MODEL_f11d0659d32648ca9f117a208a080965",
       "value": true
      }
     },
     "ecf6da45db9844e287ba06c302bafee2": {
      "model_module": "@jupyter-widgets/controls",
      "model_module_version": "1.2.0",
      "model_name": "DescriptionStyleModel",
      "state": {
       "description_width": ""
      }
     },
     "ed0c3f957ebb47748d1bdf825e3dba4a": {
      "model_module": "@jupyter-widgets/controls",
      "model_module_version": "1.2.0",
      "model_name": "HTMLModel",
      "state": {
       "layout": "IPY_MODEL_34801d4476ee4c2aa4058121a4102699",
       "style": "IPY_MODEL_88bb04c4922f4258a483b648a987cd71",
       "value": "<h4 style=\"font-size:14px;\">Phrasen verkettet werden können. Das Ergebnis ist eine Phrase des gleichen Typs, also der gleichen</h4>"
      }
     },
     "ed11202dff8d4d3983e1494927a6c612": {
      "model_module": "@jupyter-widgets/base",
      "model_module_version": "1.0.0",
      "model_name": "LayoutModel",
      "state": {
       "width": "600px"
      }
     },
     "ed7aedfa5c0f447da8402e6a0ba40621": {
      "model_module": "@jupyter-widgets/controls",
      "model_module_version": "1.2.0",
      "model_name": "BoxModel",
      "state": {
       "children": [
        "IPY_MODEL_f2f6fc0f67cd4731a31eca828f0e2609",
        "IPY_MODEL_81fb7f6833e949b7b8013c1648614dcf",
        "IPY_MODEL_a231e47ee5be4fd78e307a83fe023a69",
        "IPY_MODEL_e98ee37d998342959542fe313caf3a60",
        "IPY_MODEL_6c27ad9b46134cd39e06e19805268fe9",
        "IPY_MODEL_3252c05bf6de448198dcae33b89fe446",
        "IPY_MODEL_1cb6b1fcf92b4ccfa369e64c679070f4"
       ],
       "layout": "IPY_MODEL_7279d9572ce54df487aab7ba0d7ecf9a"
      }
     },
     "ed92453d0cfd44c189fd9837c2d6e55f": {
      "model_module": "@jupyter-widgets/base",
      "model_module_version": "1.0.0",
      "model_name": "LayoutModel",
      "state": {}
     },
     "ef1c3234f06140e38cab171aa8ff6cc7": {
      "model_module": "@jupyter-widgets/controls",
      "model_module_version": "1.2.0",
      "model_name": "HTMLModel",
      "state": {
       "layout": "IPY_MODEL_28305fd601624ef7bf6b38fde1ff2728",
       "style": "IPY_MODEL_0a46a6967b5d4d6a8a40a5dc35c5005f",
       "value": "<h4 style=\"font-size:14px;\">Welche Eigenschaften hat <i>gerne</i> in Satz 1?</h4>"
      }
     },
     "ef791f0183cd440b86c2d8dcc168f334": {
      "model_module": "@jupyter-widgets/controls",
      "model_module_version": "1.2.0",
      "model_name": "HTMLModel",
      "state": {
       "layout": "IPY_MODEL_e2beb826d93041c5927b47c8b860be54",
       "style": "IPY_MODEL_60b99d6a1ca2428485d1365633e0f7b3",
       "value": "<i>Geben Sie die entsprechende Funktion anstelle des Unterstrichs ein.</i>"
      }
     },
     "ef86e5a91af549579225fb72f3825b7b": {
      "model_module": "@jupyter-widgets/controls",
      "model_module_version": "1.2.0",
      "model_name": "CheckboxModel",
      "state": {
       "description": "gleicher Kontext",
       "disabled": false,
       "layout": "IPY_MODEL_0c12ef12ec39413aad62a0451a75f4ae",
       "style": "IPY_MODEL_e001b25576ba4d319ae07c99031f968e",
       "value": false
      }
     },
     "f0144c5560014772bc6d93a00814289d": {
      "model_module": "@jupyter-widgets/base",
      "model_module_version": "1.0.0",
      "model_name": "LayoutModel",
      "state": {
       "justify_content": "center"
      }
     },
     "f01dea275c564f39a01eaa75f76b1637": {
      "model_module": "@jupyter-widgets/controls",
      "model_module_version": "1.2.0",
      "model_name": "DescriptionStyleModel",
      "state": {
       "description_width": ""
      }
     },
     "f0c9b1deaf39472ba37466f956f2f234": {
      "model_module": "@jupyter-widgets/controls",
      "model_module_version": "1.2.0",
      "model_name": "HTMLModel",
      "state": {
       "layout": "IPY_MODEL_1ad5cbbcb1f741ad8644cffeabb22f33",
       "style": "IPY_MODEL_122dd8e6230c4ca68be8a341ab5a0068",
       "value": "<h4 style=\"font-size:14px;\">Was bedeutet das Tag <i>VBZ</i> im Browntagset (siehe 5.7)?</h4>"
      }
     },
     "f0fbd321d42549fabee2bc73f8f40008": {
      "model_module": "@jupyter-widgets/controls",
      "model_module_version": "1.2.0",
      "model_name": "VBoxModel",
      "state": {
       "children": [
        "IPY_MODEL_1eccb009469642df89e42158b7d795e8",
        "IPY_MODEL_8eca47861d884446a32f36a3053ae8bb",
        "IPY_MODEL_4a32b44ea9bc42dc8ac8bae25c934c83",
        "IPY_MODEL_1bc162861bec4c169460405fd13a77b1"
       ],
       "layout": "IPY_MODEL_c1f41e0f3b8c4915bbb4c83ab1781418"
      }
     },
     "f11d0659d32648ca9f117a208a080965": {
      "model_module": "@jupyter-widgets/controls",
      "model_module_version": "1.2.0",
      "model_name": "DescriptionStyleModel",
      "state": {
       "description_width": "initial"
      }
     },
     "f2e07464d0a840f48e86e5db8ec3a841": {
      "model_module": "@jupyter-widgets/controls",
      "model_module_version": "1.2.0",
      "model_name": "CheckboxModel",
      "state": {
       "description": "Nur mit beginnt eine Reise von tausend Meilen auch einem Schritt.",
       "disabled": false,
       "layout": "IPY_MODEL_402ceea71eb44a45b7567fbf4f0330c9",
       "style": "IPY_MODEL_930728b8e2bc48ad97bba786590756f1",
       "value": false
      }
     },
     "f2f6fc0f67cd4731a31eca828f0e2609": {
      "model_module": "@jupyter-widgets/controls",
      "model_module_version": "1.2.0",
      "model_name": "HTMLModel",
      "state": {
       "layout": "IPY_MODEL_9ac8088877e64585b104f68701c4e7f4",
       "style": "IPY_MODEL_fa17dcd0620a435ab7a145ad69995344",
       "value": "<h4 style=\"font-size:14px;\">Ersetzbarkeit einer</h4>"
      }
     },
     "f32941c053fc42f89ae7468ab40484c2": {
      "model_module": "@jupyter-widgets/controls",
      "model_module_version": "1.2.0",
      "model_name": "ButtonModel",
      "state": {
       "description": "past participle",
       "layout": "IPY_MODEL_49e5bb7ae5854ac8aba8c9e3a04d3b4e",
       "style": "IPY_MODEL_46a3c235f0104d53aa58bf23ed7fbdd6"
      }
     },
     "f33ff813eb85478bbda0d1d52c993102": {
      "model_module": "@jupyter-widgets/base",
      "model_module_version": "1.0.0",
      "model_name": "LayoutModel",
      "state": {}
     },
     "f369c9ebd3d048ffb6a6335ee4345bca": {
      "model_module": "@jupyter-widgets/base",
      "model_module_version": "1.0.0",
      "model_name": "LayoutModel",
      "state": {}
     },
     "f3edd9969858464a9c519987a8a49842": {
      "model_module": "@jupyter-widgets/base",
      "model_module_version": "1.0.0",
      "model_name": "LayoutModel",
      "state": {
       "width": "600px"
      }
     },
     "f3ee13f26f934d388a7ba1c2b0f154a0": {
      "model_module": "@jupyter-widgets/controls",
      "model_module_version": "1.2.0",
      "model_name": "DescriptionStyleModel",
      "state": {
       "description_width": "initial"
      }
     },
     "f430dab4212d4908b39797cc507a52f6": {
      "model_module": "@jupyter-widgets/controls",
      "model_module_version": "1.2.0",
      "model_name": "ButtonStyleModel",
      "state": {
       "button_color": "lightgreen"
      }
     },
     "f49046b8dbf84d8a9c15209b848a4f5b": {
      "model_module": "@jupyter-widgets/base",
      "model_module_version": "1.0.0",
      "model_name": "LayoutModel",
      "state": {
       "justify_content": "center"
      }
     },
     "f4f2d73eb8524f88abd8e3e56a80b1c4": {
      "model_module": "@jupyter-widgets/base",
      "model_module_version": "1.0.0",
      "model_name": "LayoutModel",
      "state": {}
     },
     "f5c3b1bec3234ce3bc33178cf42192ba": {
      "model_module": "@jupyter-widgets/controls",
      "model_module_version": "1.2.0",
      "model_name": "VBoxModel",
      "state": {
       "children": [
        "IPY_MODEL_b7788f37b7c54abe97ade688895438f0",
        "IPY_MODEL_40046ec08fe7413caee18180f4da2838",
        "IPY_MODEL_0306865b05504f4698f89da0b39e474d"
       ],
       "layout": "IPY_MODEL_1d8e5e3aaead4bba9844c8543d268b4e"
      }
     },
     "f5fd5b60b3da4e3b9ce67c0d9f19d768": {
      "model_module": "@jupyter-widgets/base",
      "model_module_version": "1.0.0",
      "model_name": "LayoutModel",
      "state": {}
     },
     "f627ef8a6f1e493699a9c1d795269068": {
      "model_module": "@jupyter-widgets/controls",
      "model_module_version": "1.2.0",
      "model_name": "CheckboxModel",
      "state": {
       "description": "Es fungiert als Satzglied mit der syntaktischen Funktion Adverbial.",
       "disabled": false,
       "layout": "IPY_MODEL_2812c1b749e5446faff77284c1b5d442",
       "style": "IPY_MODEL_54abfc56ea724e8da41310228d748323",
       "value": true
      }
     },
     "f76ca4aa662d470c9ae273279cb9f93a": {
      "model_module": "@jupyter-widgets/base",
      "model_module_version": "1.0.0",
      "model_name": "LayoutModel",
      "state": {}
     },
     "f7f5eadb902a49879eff1523cd5a09f5": {
      "model_module": "@jupyter-widgets/controls",
      "model_module_version": "1.2.0",
      "model_name": "CheckboxModel",
      "state": {
       "description": "gleiche syntagmatische Position",
       "disabled": false,
       "layout": "IPY_MODEL_2f0f92c936a749ab94a32f2afe6acd3f",
       "style": "IPY_MODEL_f3ee13f26f934d388a7ba1c2b0f154a0",
       "value": false
      }
     },
     "f81c1fe6fcdd4c539805631efded5a82": {
      "model_module": "@jupyter-widgets/controls",
      "model_module_version": "1.2.0",
      "model_name": "ButtonModel",
      "state": {
       "description": "gerund",
       "layout": "IPY_MODEL_5b3f49e71b784b22a5106b89b8b094ab",
       "style": "IPY_MODEL_8bca303354c740c8adcc08f2f0343ad8"
      }
     },
     "f886963f201446488e5eb12b85ab98b4": {
      "model_module": "@jupyter-widgets/controls",
      "model_module_version": "1.2.0",
      "model_name": "DropdownModel",
      "state": {
       "_options_labels": [
        "Konstituente",
        "Phrase",
        " "
       ],
       "index": 0,
       "layout": "IPY_MODEL_c632f07a7b5044e9a44ec2541b63f39f",
       "style": "IPY_MODEL_d3788fe4c2f74851beb951c2da65197a"
      }
     },
     "f895a2fd2491446fa61ea5a9f1f14bd2": {
      "model_module": "@jupyter-widgets/base",
      "model_module_version": "1.0.0",
      "model_name": "LayoutModel",
      "state": {}
     },
     "f904e6e0c7494743b06e26f39e8ce8b3": {
      "model_module": "@jupyter-widgets/base",
      "model_module_version": "1.0.0",
      "model_name": "LayoutModel",
      "state": {
       "width": "150px"
      }
     },
     "f9d6cdb0deaf42dd995144035adaa677": {
      "model_module": "@jupyter-widgets/controls",
      "model_module_version": "1.2.0",
      "model_name": "CheckboxModel",
      "state": {
       "description": "Zu einem Wort wird ein Index seiner Kontexte aufgebaut.",
       "disabled": false,
       "layout": "IPY_MODEL_4d07640f2a7141a5b6ba7bfdbe9185ce",
       "style": "IPY_MODEL_12ca386dc80342a9982ba78faab31036",
       "value": true
      }
     },
     "fa17dcd0620a435ab7a145ad69995344": {
      "model_module": "@jupyter-widgets/controls",
      "model_module_version": "1.2.0",
      "model_name": "DescriptionStyleModel",
      "state": {
       "description_width": ""
      }
     },
     "fa8b3bb49d0e42d9820c908a2d5f1368": {
      "model_module": "@jupyter-widgets/base",
      "model_module_version": "1.0.0",
      "model_name": "LayoutModel",
      "state": {}
     },
     "fbd565c5222c42c28c7b4127b1c7bc57": {
      "model_module": "@jupyter-widgets/base",
      "model_module_version": "1.0.0",
      "model_name": "LayoutModel",
      "state": {}
     },
     "fc0e473529c24147a92fe6ee799b00e8": {
      "model_module": "@jupyter-widgets/base",
      "model_module_version": "1.0.0",
      "model_name": "LayoutModel",
      "state": {
       "width": "250px"
      }
     },
     "fcc57f97404a4ae4aa4a1e52ffa9b5a8": {
      "model_module": "@jupyter-widgets/base",
      "model_module_version": "1.0.0",
      "model_name": "LayoutModel",
      "state": {}
     },
     "fd42729f91ed4898bc5690025df2d996": {
      "model_module": "@jupyter-widgets/controls",
      "model_module_version": "1.2.0",
      "model_name": "DescriptionStyleModel",
      "state": {
       "description_width": "initial"
      }
     },
     "fd7b421d95aa48c497e49904bf12a9de": {
      "model_module": "@jupyter-widgets/controls",
      "model_module_version": "1.2.0",
      "model_name": "ButtonStyleModel",
      "state": {}
     },
     "fd9038a111e443ce9ea8b36d2ee095d9": {
      "model_module": "@jupyter-widgets/controls",
      "model_module_version": "1.2.0",
      "model_name": "DescriptionStyleModel",
      "state": {
       "description_width": ""
      }
     },
     "fe39d1664d9d4700bad9252abc1abda5": {
      "model_module": "@jupyter-widgets/controls",
      "model_module_version": "1.2.0",
      "model_name": "VBoxModel",
      "state": {
       "children": [
        "IPY_MODEL_f0c9b1deaf39472ba37466f956f2f234",
        "IPY_MODEL_b7a906c37771405a863ce91880018e25",
        "IPY_MODEL_3db7930fb5624727ad1c6fac79eabd04",
        "IPY_MODEL_17c3e1ecc8704a87b8ee31eb3a307171",
        "IPY_MODEL_63b939099af8496582d7556dc11c82a2"
       ],
       "layout": "IPY_MODEL_b25232ef58274484913b24737573f026"
      }
     },
     "fe9db8209c784d3b959122393966b950": {
      "model_module": "@jupyter-widgets/base",
      "model_module_version": "1.0.0",
      "model_name": "LayoutModel",
      "state": {
       "justify_content": "center"
      }
     },
     "ff7cfae399814856b7927b78d8c95b35": {
      "model_module": "@jupyter-widgets/controls",
      "model_module_version": "1.2.0",
      "model_name": "DescriptionStyleModel",
      "state": {
       "description_width": ""
      }
     }
    },
    "version_major": 2,
    "version_minor": 0
   }
  }
 },
 "nbformat": 4,
 "nbformat_minor": 2
}
